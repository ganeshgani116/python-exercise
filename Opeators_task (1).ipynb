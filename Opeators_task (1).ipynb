{
 "cells": [
  {
   "cell_type": "markdown",
   "id": "7a7fa8f0",
   "metadata": {},
   "source": [
    "\n",
    "**Task 1: Arithmetic Operators**\n",
    "1. Create a Python script that defines two variables, `num1` and `num2`, with any numeric values.\n",
    "2. Use arithmetic operators (+, -, *, /, //, %, **) to perform the following operations:\n",
    "   - Add `num1` and `num2`.\n",
    "   - Subtract `num2` from `num1`.\n",
    "   - Multiply `num1` and `num2`.\n",
    "   - Divide `num1` by `num2`.\n",
    "   - Find the floor division of `num1` by `num2`.\n",
    "   - Find the remainder when dividing `num1` by `num2`.\n",
    "   - Calculate `num1` raised to the power of `num2`.\n",
    "\n",
    "**Task 2: Logical Operators**\n",
    "1. Create a Python script that defines two boolean variables, `is_sunny` and `is_warm`, with appropriate values (True or False).\n",
    "2. Use logical operators (and, or, not) to create the following conditions:\n",
    "   - Check if it's both sunny and warm and print the result.\n",
    "   - Check if it's either sunny or warm and print the result.\n",
    "   - Check if it's not sunny and print the result.\n",
    "   \n",
    "**Task 3: Comparative Operators**\n",
    "1. Create a Python script that defines two variables, `a` and `b`, with any numeric values.\n",
    "2. Use comparative operators (==, !=, <, >, <=, >=) to create the following conditions:\n",
    "   - Check if `a` is equal to `b` and print the result.\n",
    "   - Check if `a` is not equal to `b` and print the result.\n",
    "   - Check if `a` is less than `b` and print the result.\n",
    "   - Check if `a` is greater than `b` and print the result.\n",
    "   - Check if `a` is less than or equal to `b` and print the result.\n",
    "   - Check if `a` is greater than or equal to `b` and print the result.\n",
    ".\n",
    "\n",
    "**Task4: Concatenation and Repetetion**\n",
    "\n",
    "1. Take two variables as first_name and last_name ..concatenate them.\n",
    "2. print \"Innomatics\" for 5 times in same line."
   ]
  },
  {
   "cell_type": "code",
   "execution_count": null,
   "id": "208f20be",
   "metadata": {},
   "outputs": [],
   "source": []
  },
  {
   "cell_type": "markdown",
   "id": "ece3bdf5",
   "metadata": {},
   "source": [
    "### Task 1: Arithmetic Operators"
   ]
  },
  {
   "cell_type": "code",
   "execution_count": 2,
   "id": "494ed663",
   "metadata": {},
   "outputs": [],
   "source": [
    "num1 = 10\n",
    "num2 = 20"
   ]
  },
  {
   "cell_type": "markdown",
   "id": "77b3f72f",
   "metadata": {},
   "source": [
    "*Use arithmetic operators (+, -, *, /, //, %, **)"
   ]
  },
  {
   "cell_type": "code",
   "execution_count": 4,
   "id": "aadafac4",
   "metadata": {},
   "outputs": [
    {
     "name": "stdout",
     "output_type": "stream",
     "text": [
      "30\n",
      "-10\n",
      "200\n",
      "0.5\n",
      "0\n",
      "10\n",
      "100000000000000000000\n"
     ]
    }
   ],
   "source": [
    "print(num1 + num2)\n",
    "print(num1-num2)\n",
    "print(num1 * num2)\n",
    "print(num1 / num2)\n",
    "print(num1 // num2)\n",
    "print(num1 % num2)\n",
    "print(num1 ** num2)"
   ]
  },
  {
   "cell_type": "markdown",
   "id": "c11efcda",
   "metadata": {},
   "source": [
    "### Task 2: Logical Operators"
   ]
  },
  {
   "cell_type": "code",
   "execution_count": 5,
   "id": "a5815f15",
   "metadata": {},
   "outputs": [],
   "source": [
    "is_sunny = True\n",
    "is_warm = False"
   ]
  },
  {
   "cell_type": "code",
   "execution_count": 6,
   "id": "03c8eac8",
   "metadata": {},
   "outputs": [
    {
     "data": {
      "text/plain": [
       "False"
      ]
     },
     "execution_count": 6,
     "metadata": {},
     "output_type": "execute_result"
    }
   ],
   "source": [
    "is_sunny and is_warm"
   ]
  },
  {
   "cell_type": "code",
   "execution_count": 7,
   "id": "c1615872",
   "metadata": {},
   "outputs": [
    {
     "data": {
      "text/plain": [
       "True"
      ]
     },
     "execution_count": 7,
     "metadata": {},
     "output_type": "execute_result"
    }
   ],
   "source": [
    "is_sunny or is_warm"
   ]
  },
  {
   "cell_type": "code",
   "execution_count": 9,
   "id": "d763a2a1",
   "metadata": {},
   "outputs": [
    {
     "data": {
      "text/plain": [
       "True"
      ]
     },
     "execution_count": 9,
     "metadata": {},
     "output_type": "execute_result"
    }
   ],
   "source": [
    " not is_warm"
   ]
  },
  {
   "cell_type": "code",
   "execution_count": 10,
   "id": "e0161842",
   "metadata": {},
   "outputs": [
    {
     "data": {
      "text/plain": [
       "False"
      ]
     },
     "execution_count": 10,
     "metadata": {},
     "output_type": "execute_result"
    }
   ],
   "source": [
    "not is_sunny"
   ]
  },
  {
   "cell_type": "markdown",
   "id": "be9a4ad8",
   "metadata": {},
   "source": [
    "### Task 3: Comparative Operators"
   ]
  },
  {
   "cell_type": "code",
   "execution_count": 11,
   "id": "bff9e29b",
   "metadata": {},
   "outputs": [],
   "source": [
    "a = 20\n",
    "b = 30"
   ]
  },
  {
   "cell_type": "code",
   "execution_count": 12,
   "id": "497079ee",
   "metadata": {},
   "outputs": [
    {
     "name": "stdout",
     "output_type": "stream",
     "text": [
      "True\n",
      "False\n",
      "False\n",
      "True\n",
      "False\n",
      "True\n"
     ]
    }
   ],
   "source": [
    "print(a < b)\n",
    "print(a > b)\n",
    "print(a >= b)\n",
    "print(a <= b)\n",
    "print(a == b)\n",
    "print(a!=b)"
   ]
  },
  {
   "cell_type": "markdown",
   "id": "51a0988d",
   "metadata": {},
   "source": [
    "### Task4: Concatenation and Repetetion"
   ]
  },
  {
   "cell_type": "code",
   "execution_count": 13,
   "id": "52ba97d5",
   "metadata": {},
   "outputs": [],
   "source": [
    "name = 'SAI'\n",
    "name1 = \"KIRAN NUNE\""
   ]
  },
  {
   "cell_type": "code",
   "execution_count": 14,
   "id": "bcde9796",
   "metadata": {},
   "outputs": [
    {
     "name": "stdout",
     "output_type": "stream",
     "text": [
      "SAIKIRAN NUNE\n"
     ]
    }
   ],
   "source": [
    "print(name+name1)"
   ]
  },
  {
   "cell_type": "code",
   "execution_count": 15,
   "id": "3b662a61",
   "metadata": {},
   "outputs": [],
   "source": [
    "name2 = \"innomatics\"\n",
    "n = 5"
   ]
  },
  {
   "cell_type": "code",
   "execution_count": 16,
   "id": "70f081f9",
   "metadata": {},
   "outputs": [
    {
     "name": "stdout",
     "output_type": "stream",
     "text": [
      "innomaticsinnomaticsinnomaticsinnomaticsinnomatics\n"
     ]
    }
   ],
   "source": [
    "print(name2 * n)"
   ]
  },
  {
   "cell_type": "code",
   "execution_count": null,
   "id": "ed4fae16",
   "metadata": {},
   "outputs": [],
   "source": []
  }
 ],
 "metadata": {
  "kernelspec": {
   "display_name": "Python 3 (ipykernel)",
   "language": "python",
   "name": "python3"
  },
  "language_info": {
   "codemirror_mode": {
    "name": "ipython",
    "version": 3
   },
   "file_extension": ".py",
   "mimetype": "text/x-python",
   "name": "python",
   "nbconvert_exporter": "python",
   "pygments_lexer": "ipython3",
   "version": "3.11.5"
  }
 },
 "nbformat": 4,
 "nbformat_minor": 5
}
