{
 "cells": [
  {
   "cell_type": "markdown",
   "id": "f02710a3",
   "metadata": {},
   "source": [
    "\n",
    "**Task 1: Dictionary Basics**\n",
    "Create a Python program that defines a dictionary to store information about your `favorite book`. Include the title, author, publication year, and genre as key-value pairs. Print out the dictionary.and do atleast 5 dictionary methods on it.\n",
    "\n",
    "**Task 2: Dictionary Lookup**\n",
    "Write a Python program that simulates a simple dictionary for translating `English words to Spanish`. Define a dictionary containing a few English words as `keys` and their corresponding Spanish translations as `values`. Allow `users to enter` an English word, and then display its Spanish translation `if it exists` in the dictionary.(use google for English to Spanish translator)\n",
    "\n",
    "**Task 3: Student Grades**\n",
    "Create a Python program that stores the `grades of five students` in a dictionary. Allow users to input the names of the students and their respective grades. Calculate and display the `average grade` of the students.\n",
    "\n",
    "**Task 4: Contact List**\n",
    "Build a basic contact list using a dictionary. Initially, the dictionary can be `empty`. Allow users to `add new contacts` with `names and phone numbers`. Users should also be able to search for contacts by name and display their phone numbers(use in operator).\n",
    "\n",
    "**Task 5: Dictionary Iteration**\n",
    "Write a Python program that defines a dictionary containing the names of `fruits as keys` and their corresponding `colors as values` (e.g., 'apple': 'red').Do atleast 5 dictionary methods on it.\n"
   ]
  },
  {
   "cell_type": "code",
   "execution_count": null,
   "id": "f7f1c72f",
   "metadata": {},
   "outputs": [],
   "source": []
  },
  {
   "cell_type": "markdown",
   "id": "72f2ebf6",
   "metadata": {},
   "source": [
    "**Task 4: Contact List**\n",
    "Build a basic contact list using a dictionary. Initially, the dictionary can be `empty`. Allow users to `add new contacts` with `names and phone numbers`. Users should also be able to search for contacts by name and display their phone numbers(use in operator)."
   ]
  },
  {
   "cell_type": "code",
   "execution_count": 3,
   "id": "5f51e837",
   "metadata": {},
   "outputs": [],
   "source": [
    "contact = dict()"
   ]
  },
  {
   "cell_type": "code",
   "execution_count": 10,
   "id": "a264f87d",
   "metadata": {},
   "outputs": [],
   "source": [
    "contact['sai'] = (8309242187)"
   ]
  },
  {
   "cell_type": "code",
   "execution_count": 6,
   "id": "8fa37b8d",
   "metadata": {},
   "outputs": [
    {
     "data": {
      "text/plain": [
       "{'sai': 8309242187}"
      ]
     },
     "execution_count": 6,
     "metadata": {},
     "output_type": "execute_result"
    }
   ],
   "source": [
    "contact"
   ]
  },
  {
   "cell_type": "code",
   "execution_count": 11,
   "id": "b07a8ff8",
   "metadata": {},
   "outputs": [],
   "source": [
    "contact['sanjay'] = 8897868672"
   ]
  },
  {
   "cell_type": "code",
   "execution_count": 12,
   "id": "d41017de",
   "metadata": {},
   "outputs": [],
   "source": [
    "contact['ramesh'] = 6301199315"
   ]
  },
  {
   "cell_type": "code",
   "execution_count": 13,
   "id": "e293a744",
   "metadata": {},
   "outputs": [],
   "source": [
    "contact['ganesh'] = 9542061282"
   ]
  },
  {
   "cell_type": "code",
   "execution_count": 14,
   "id": "8d88c48e",
   "metadata": {},
   "outputs": [
    {
     "data": {
      "text/plain": [
       "{'sai': 8309242187,\n",
       " 'sanjay': 8897868672,\n",
       " 'ramesh': 6301199315,\n",
       " 'ganesh': 9542061282}"
      ]
     },
     "execution_count": 14,
     "metadata": {},
     "output_type": "execute_result"
    }
   ],
   "source": [
    "contact"
   ]
  },
  {
   "cell_type": "code",
   "execution_count": 15,
   "id": "c9f7d1cd",
   "metadata": {},
   "outputs": [
    {
     "data": {
      "text/plain": [
       "dict_keys(['sai', 'sanjay', 'ramesh', 'ganesh'])"
      ]
     },
     "execution_count": 15,
     "metadata": {},
     "output_type": "execute_result"
    }
   ],
   "source": [
    "contact.keys()"
   ]
  },
  {
   "cell_type": "code",
   "execution_count": 16,
   "id": "1aaf77af",
   "metadata": {},
   "outputs": [
    {
     "data": {
      "text/plain": [
       "dict_values([8309242187, 8897868672, 6301199315, 9542061282])"
      ]
     },
     "execution_count": 16,
     "metadata": {},
     "output_type": "execute_result"
    }
   ],
   "source": [
    "contact.values()"
   ]
  },
  {
   "cell_type": "code",
   "execution_count": 18,
   "id": "352ff6d5",
   "metadata": {},
   "outputs": [
    {
     "data": {
      "text/plain": [
       "True"
      ]
     },
     "execution_count": 18,
     "metadata": {},
     "output_type": "execute_result"
    }
   ],
   "source": [
    "'sai' in contact"
   ]
  },
  {
   "cell_type": "markdown",
   "id": "ead480ce",
   "metadata": {},
   "source": [
    "**Task 5: Dictionary Iteration**\n",
    "Write a Python program that defines a dictionary containing the names of `fruits as keys` and their corresponding `colors as values` (e.g., 'apple': 'red').Do atleast 5 dictionary methods on it.\n"
   ]
  },
  {
   "cell_type": "code",
   "execution_count": 19,
   "id": "5cb362ea",
   "metadata": {},
   "outputs": [],
   "source": [
    "n = {'apple':'red','banana':'yollow','grapes':'bule','kiwi':'pink'}"
   ]
  },
  {
   "cell_type": "code",
   "execution_count": 21,
   "id": "3ad79fab",
   "metadata": {},
   "outputs": [],
   "source": [
    "n['orange'] = 'orangecolor'"
   ]
  },
  {
   "cell_type": "code",
   "execution_count": 22,
   "id": "8f1e4583",
   "metadata": {},
   "outputs": [
    {
     "data": {
      "text/plain": [
       "{'apple': 'red',\n",
       " 'banana': 'yollow',\n",
       " 'grapes': 'bule',\n",
       " 'kiwi': 'pink',\n",
       " 'orange': 'orangecolor'}"
      ]
     },
     "execution_count": 22,
     "metadata": {},
     "output_type": "execute_result"
    }
   ],
   "source": [
    "n"
   ]
  },
  {
   "cell_type": "code",
   "execution_count": 25,
   "id": "17df4741",
   "metadata": {},
   "outputs": [
    {
     "data": {
      "text/plain": [
       "'pink'"
      ]
     },
     "execution_count": 25,
     "metadata": {},
     "output_type": "execute_result"
    }
   ],
   "source": [
    "n.pop('kiwi')"
   ]
  },
  {
   "cell_type": "code",
   "execution_count": 26,
   "id": "55fdf0ac",
   "metadata": {},
   "outputs": [
    {
     "data": {
      "text/plain": [
       "{'apple': 'red', 'banana': 'yollow', 'grapes': 'bule', 'orange': 'orangecolor'}"
      ]
     },
     "execution_count": 26,
     "metadata": {},
     "output_type": "execute_result"
    }
   ],
   "source": [
    "n"
   ]
  },
  {
   "cell_type": "code",
   "execution_count": 27,
   "id": "327b82a9",
   "metadata": {},
   "outputs": [
    {
     "data": {
      "text/plain": [
       "'red'"
      ]
     },
     "execution_count": 27,
     "metadata": {},
     "output_type": "execute_result"
    }
   ],
   "source": [
    "n.get('apple')"
   ]
  },
  {
   "cell_type": "code",
   "execution_count": 28,
   "id": "19cb832d",
   "metadata": {},
   "outputs": [
    {
     "data": {
      "text/plain": [
       "dict_items([('apple', 'red'), ('banana', 'yollow'), ('grapes', 'bule'), ('orange', 'orangecolor')])"
      ]
     },
     "execution_count": 28,
     "metadata": {},
     "output_type": "execute_result"
    }
   ],
   "source": [
    "n.items()"
   ]
  },
  {
   "cell_type": "code",
   "execution_count": 32,
   "id": "29e98f90",
   "metadata": {},
   "outputs": [],
   "source": [
    "n['orange'] = 'pink'"
   ]
  },
  {
   "cell_type": "code",
   "execution_count": 33,
   "id": "dbf56b51",
   "metadata": {},
   "outputs": [
    {
     "data": {
      "text/plain": [
       "{'apple': 'red', 'banana': 'yollow', 'grapes': 'bule', 'orange': 'pink'}"
      ]
     },
     "execution_count": 33,
     "metadata": {},
     "output_type": "execute_result"
    }
   ],
   "source": [
    "n"
   ]
  },
  {
   "cell_type": "markdown",
   "id": "b58e09fa",
   "metadata": {},
   "source": [
    "**Task 3: Student Grades**\n",
    "Create a Python program that stores the `grades of five students` in a dictionary. Allow users to input the names of the students and their respective grades. Calculate and display the `average grade` of the students."
   ]
  },
  {
   "cell_type": "code",
   "execution_count": 45,
   "id": "d18e0192",
   "metadata": {},
   "outputs": [
    {
     "name": "stdout",
     "output_type": "stream",
     "text": [
      "Enter the name:: sai\n",
      "Enter the name:: ganesh\n",
      "Enter the name:: ramesh\n",
      "Enter the name:: sanjay\n",
      "Enter the name:: adhitya\n"
     ]
    }
   ],
   "source": [
    "a = input(\"Enter the name:: \")\n",
    "b = input(\"Enter the name:: \")\n",
    "c = input(\"Enter the name:: \")\n",
    "d = input(\"Enter the name:: \")\n",
    "e = input(\"Enter the name:: \")\n",
    "\n",
    "std = {a:90,b:92,c:95,d:98,e:97}"
   ]
  },
  {
   "cell_type": "code",
   "execution_count": 46,
   "id": "d5148660",
   "metadata": {},
   "outputs": [
    {
     "data": {
      "text/plain": [
       "{'sai': 90, 'ganesh': 92, 'ramesh': 95, 'sanjay': 98, 'adhitya': 97}"
      ]
     },
     "execution_count": 46,
     "metadata": {},
     "output_type": "execute_result"
    }
   ],
   "source": [
    "std"
   ]
  },
  {
   "cell_type": "code",
   "execution_count": 47,
   "id": "a7607017",
   "metadata": {},
   "outputs": [],
   "source": [
    "b = std.values()"
   ]
  },
  {
   "cell_type": "code",
   "execution_count": 48,
   "id": "3f53981b",
   "metadata": {},
   "outputs": [
    {
     "data": {
      "text/plain": [
       "dict_values([90, 92, 95, 98, 97])"
      ]
     },
     "execution_count": 48,
     "metadata": {},
     "output_type": "execute_result"
    }
   ],
   "source": [
    "b"
   ]
  },
  {
   "cell_type": "code",
   "execution_count": null,
   "id": "a1c8c591",
   "metadata": {},
   "outputs": [],
   "source": []
  }
 ],
 "metadata": {
  "kernelspec": {
   "display_name": "Python 3 (ipykernel)",
   "language": "python",
   "name": "python3"
  },
  "language_info": {
   "codemirror_mode": {
    "name": "ipython",
    "version": 3
   },
   "file_extension": ".py",
   "mimetype": "text/x-python",
   "name": "python",
   "nbconvert_exporter": "python",
   "pygments_lexer": "ipython3",
   "version": "3.11.5"
  }
 },
 "nbformat": 4,
 "nbformat_minor": 5
}
