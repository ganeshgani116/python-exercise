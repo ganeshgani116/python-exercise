{
 "cells": [
  {
   "attachments": {
    "image.png": {
     "image/png": "[encoded data removed]"
    }
   },
   "cell_type": "markdown",
   "id": "6455916d",
   "metadata": {},
   "source": [
    "![image.png](attachment:image.png)"
   ]
  },
  {
   "cell_type": "markdown",
   "id": "7e86e662",
   "metadata": {},
   "source": [
    "## creation of nd array"
   ]
  },
  {
   "cell_type": "code",
   "execution_count": 2,
   "id": "e8fc9e22",
   "metadata": {},
   "outputs": [],
   "source": [
    "import numpy as np"
   ]
  },
  {
   "cell_type": "code",
   "execution_count": 4,
   "id": "4e62d611",
   "metadata": {},
   "outputs": [],
   "source": [
    "a = np.random.randint(1,25,15)"
   ]
  },
  {
   "cell_type": "code",
   "execution_count": 5,
   "id": "906fe82e",
   "metadata": {},
   "outputs": [
    {
     "data": {
      "text/plain": [
       "array([22, 19, 14,  1,  6, 12, 13,  8, 12, 13,  6,  5,  5, 14, 12])"
      ]
     },
     "execution_count": 5,
     "metadata": {},
     "output_type": "execute_result"
    }
   ],
   "source": [
    "a"
   ]
  },
  {
   "cell_type": "code",
   "execution_count": 11,
   "id": "a800e8c7",
   "metadata": {},
   "outputs": [
    {
     "data": {
      "text/plain": [
       "array([[[22, 19, 14,  1,  6, 12, 13,  8, 12, 13,  6,  5,  5, 14, 12]]])"
      ]
     },
     "execution_count": 11,
     "metadata": {},
     "output_type": "execute_result"
    }
   ],
   "source": [
    "np.array(a,ndmin=3)     # 3-D Array"
   ]
  },
  {
   "cell_type": "code",
   "execution_count": 51,
   "id": "ad5bea95",
   "metadata": {},
   "outputs": [
    {
     "data": {
      "text/plain": [
       "3"
      ]
     },
     "execution_count": 51,
     "metadata": {},
     "output_type": "execute_result"
    }
   ],
   "source": [
    "np.array(a,ndmin=3).ndim"
   ]
  },
  {
   "cell_type": "code",
   "execution_count": 13,
   "id": "ad17a72a",
   "metadata": {},
   "outputs": [
    {
     "data": {
      "text/plain": [
       "array([[[22, 19, 14,  1,  6],\n",
       "        [12, 13,  8, 12, 13],\n",
       "        [ 6,  5,  5, 14, 12]]])"
      ]
     },
     "execution_count": 13,
     "metadata": {},
     "output_type": "execute_result"
    }
   ],
   "source": [
    "np.array(a).reshape(1,3,5) # 3-D Array"
   ]
  },
  {
   "cell_type": "code",
   "execution_count": 52,
   "id": "82dba197",
   "metadata": {},
   "outputs": [
    {
     "data": {
      "text/plain": [
       "3"
      ]
     },
     "execution_count": 52,
     "metadata": {},
     "output_type": "execute_result"
    }
   ],
   "source": [
    "np.array(a).reshape(1,3,5).ndim"
   ]
  },
  {
   "cell_type": "code",
   "execution_count": 16,
   "id": "698f620c",
   "metadata": {},
   "outputs": [
    {
     "data": {
      "text/plain": [
       "array([[[22, 19, 14],\n",
       "        [ 1,  6, 12],\n",
       "        [13,  8, 12],\n",
       "        [13,  6,  5],\n",
       "        [ 5, 14, 12]]])"
      ]
     },
     "execution_count": 16,
     "metadata": {},
     "output_type": "execute_result"
    }
   ],
   "source": [
    "np.array(a).reshape(1,5,3)"
   ]
  },
  {
   "cell_type": "code",
   "execution_count": 53,
   "id": "13738112",
   "metadata": {},
   "outputs": [
    {
     "data": {
      "text/plain": [
       "3"
      ]
     },
     "execution_count": 53,
     "metadata": {},
     "output_type": "execute_result"
    }
   ],
   "source": [
    "np.array(a).reshape(1,5,3).ndim"
   ]
  },
  {
   "cell_type": "code",
   "execution_count": 20,
   "id": "f23a7e5d",
   "metadata": {},
   "outputs": [
    {
     "data": {
      "text/plain": [
       "array([[[22, 19, 14]],\n",
       "\n",
       "       [[ 1,  6, 12]],\n",
       "\n",
       "       [[13,  8, 12]],\n",
       "\n",
       "       [[13,  6,  5]],\n",
       "\n",
       "       [[ 5, 14, 12]]])"
      ]
     },
     "execution_count": 20,
     "metadata": {},
     "output_type": "execute_result"
    }
   ],
   "source": [
    "np.array(a).reshape(5,1,3)"
   ]
  },
  {
   "cell_type": "code",
   "execution_count": 54,
   "id": "d9f550bf",
   "metadata": {},
   "outputs": [
    {
     "data": {
      "text/plain": [
       "3"
      ]
     },
     "execution_count": 54,
     "metadata": {},
     "output_type": "execute_result"
    }
   ],
   "source": [
    "np.array(a).reshape(5,1,3).ndim"
   ]
  },
  {
   "cell_type": "code",
   "execution_count": 23,
   "id": "b672ae51",
   "metadata": {},
   "outputs": [
    {
     "data": {
      "text/plain": [
       "array([[[22],\n",
       "        [19],\n",
       "        [14]],\n",
       "\n",
       "       [[ 1],\n",
       "        [ 6],\n",
       "        [12]],\n",
       "\n",
       "       [[13],\n",
       "        [ 8],\n",
       "        [12]],\n",
       "\n",
       "       [[13],\n",
       "        [ 6],\n",
       "        [ 5]],\n",
       "\n",
       "       [[ 5],\n",
       "        [14],\n",
       "        [12]]])"
      ]
     },
     "execution_count": 23,
     "metadata": {},
     "output_type": "execute_result"
    }
   ],
   "source": [
    "np.array(a).reshape(5,3,1)"
   ]
  },
  {
   "cell_type": "code",
   "execution_count": 55,
   "id": "84ea032a",
   "metadata": {},
   "outputs": [
    {
     "data": {
      "text/plain": [
       "3"
      ]
     },
     "execution_count": 55,
     "metadata": {},
     "output_type": "execute_result"
    }
   ],
   "source": [
    "np.array(a).reshape(5,3,1).ndim"
   ]
  },
  {
   "cell_type": "code",
   "execution_count": 28,
   "id": "c5d4d2ad",
   "metadata": {},
   "outputs": [
    {
     "data": {
      "text/plain": [
       "array([[[22, 19, 14,  1,  6, 12, 13,  8, 12, 13,  6,  5,  5, 14, 12]]])"
      ]
     },
     "execution_count": 28,
     "metadata": {},
     "output_type": "execute_result"
    }
   ],
   "source": [
    "np.array(a).reshape(1,1,15)"
   ]
  },
  {
   "cell_type": "code",
   "execution_count": 56,
   "id": "89ff882f",
   "metadata": {},
   "outputs": [
    {
     "data": {
      "text/plain": [
       "3"
      ]
     },
     "execution_count": 56,
     "metadata": {},
     "output_type": "execute_result"
    }
   ],
   "source": [
    "np.array(a).reshape(1,1,15).ndim"
   ]
  },
  {
   "cell_type": "markdown",
   "id": "0ba02e92",
   "metadata": {},
   "source": [
    "## Array creation"
   ]
  },
  {
   "cell_type": "markdown",
   "id": "b8385325",
   "metadata": {},
   "source": [
    "# a"
   ]
  },
  {
   "cell_type": "code",
   "execution_count": 31,
   "id": "2401180e",
   "metadata": {},
   "outputs": [],
   "source": [
    "list1 = list(range(1,13))"
   ]
  },
  {
   "cell_type": "code",
   "execution_count": 32,
   "id": "517abc68",
   "metadata": {},
   "outputs": [
    {
     "data": {
      "text/plain": [
       "[1, 2, 3, 4, 5, 6, 7, 8, 9, 10, 11, 12]"
      ]
     },
     "execution_count": 32,
     "metadata": {},
     "output_type": "execute_result"
    }
   ],
   "source": [
    "list1"
   ]
  },
  {
   "cell_type": "code",
   "execution_count": 39,
   "id": "7d7a064b",
   "metadata": {},
   "outputs": [],
   "source": [
    "arr1 = np.array(list1)"
   ]
  },
  {
   "cell_type": "code",
   "execution_count": 40,
   "id": "c07248c7",
   "metadata": {},
   "outputs": [
    {
     "data": {
      "text/plain": [
       "array([ 1,  2,  3,  4,  5,  6,  7,  8,  9, 10, 11, 12])"
      ]
     },
     "execution_count": 40,
     "metadata": {},
     "output_type": "execute_result"
    }
   ],
   "source": [
    "arr1"
   ]
  },
  {
   "cell_type": "code",
   "execution_count": 41,
   "id": "69e0deb4",
   "metadata": {},
   "outputs": [
    {
     "data": {
      "text/plain": [
       "array([[[[ 1,  2,  3,  4,  5,  6,  7,  8,  9, 10, 11, 12]]]])"
      ]
     },
     "execution_count": 41,
     "metadata": {},
     "output_type": "execute_result"
    }
   ],
   "source": [
    "np.array(arr1,ndmin=4)"
   ]
  },
  {
   "cell_type": "code",
   "execution_count": 42,
   "id": "6d4129c3",
   "metadata": {},
   "outputs": [
    {
     "data": {
      "text/plain": [
       "4"
      ]
     },
     "execution_count": 42,
     "metadata": {},
     "output_type": "execute_result"
    }
   ],
   "source": [
    "np.array(arr1,ndmin=4).ndim     #4-D array"
   ]
  },
  {
   "cell_type": "code",
   "execution_count": 43,
   "id": "53a9020b",
   "metadata": {},
   "outputs": [
    {
     "data": {
      "text/plain": [
       "array([[[[ 1,  2],\n",
       "         [ 3,  4],\n",
       "         [ 5,  6]],\n",
       "\n",
       "        [[ 7,  8],\n",
       "         [ 9, 10],\n",
       "         [11, 12]]]])"
      ]
     },
     "execution_count": 43,
     "metadata": {},
     "output_type": "execute_result"
    }
   ],
   "source": [
    "np.array(arr1).reshape(1,2,3,2)"
   ]
  },
  {
   "cell_type": "code",
   "execution_count": 44,
   "id": "6aeb084c",
   "metadata": {},
   "outputs": [
    {
     "data": {
      "text/plain": [
       "4"
      ]
     },
     "execution_count": 44,
     "metadata": {},
     "output_type": "execute_result"
    }
   ],
   "source": [
    "np.array(arr1).reshape(1,2,3,2).ndim"
   ]
  },
  {
   "cell_type": "code",
   "execution_count": 45,
   "id": "8154e32c",
   "metadata": {},
   "outputs": [
    {
     "data": {
      "text/plain": [
       "array([[[[ 1,  2,  3],\n",
       "         [ 4,  5,  6],\n",
       "         [ 7,  8,  9],\n",
       "         [10, 11, 12]]]])"
      ]
     },
     "execution_count": 45,
     "metadata": {},
     "output_type": "execute_result"
    }
   ],
   "source": [
    "np.array(arr1).reshape(1,1,4,3)"
   ]
  },
  {
   "cell_type": "code",
   "execution_count": 46,
   "id": "b7d8d7d3",
   "metadata": {},
   "outputs": [
    {
     "data": {
      "text/plain": [
       "4"
      ]
     },
     "execution_count": 46,
     "metadata": {},
     "output_type": "execute_result"
    }
   ],
   "source": [
    "np.array(arr1).reshape(1,1,4,3).ndim"
   ]
  },
  {
   "cell_type": "code",
   "execution_count": 47,
   "id": "18066c4f",
   "metadata": {},
   "outputs": [
    {
     "data": {
      "text/plain": [
       "array([[[[ 1,  2,  3,  4,  5,  6],\n",
       "         [ 7,  8,  9, 10, 11, 12]]]])"
      ]
     },
     "execution_count": 47,
     "metadata": {},
     "output_type": "execute_result"
    }
   ],
   "source": [
    "np.array(arr1).reshape(1,1,2,6)"
   ]
  },
  {
   "cell_type": "code",
   "execution_count": 48,
   "id": "f2467257",
   "metadata": {},
   "outputs": [
    {
     "data": {
      "text/plain": [
       "4"
      ]
     },
     "execution_count": 48,
     "metadata": {},
     "output_type": "execute_result"
    }
   ],
   "source": [
    "np.array(arr1).reshape(1,1,2,6).ndim"
   ]
  },
  {
   "cell_type": "code",
   "execution_count": 49,
   "id": "1992949e",
   "metadata": {},
   "outputs": [
    {
     "data": {
      "text/plain": [
       "array([[[[ 1,  2,  3,  4],\n",
       "         [ 5,  6,  7,  8],\n",
       "         [ 9, 10, 11, 12]]]])"
      ]
     },
     "execution_count": 49,
     "metadata": {},
     "output_type": "execute_result"
    }
   ],
   "source": [
    "np.array(arr1).reshape(1,1,3,4)"
   ]
  },
  {
   "cell_type": "code",
   "execution_count": 50,
   "id": "49cf824e",
   "metadata": {},
   "outputs": [
    {
     "data": {
      "text/plain": [
       "4"
      ]
     },
     "execution_count": 50,
     "metadata": {},
     "output_type": "execute_result"
    }
   ],
   "source": [
    "np.array(arr1).reshape(1,1,3,4).ndim"
   ]
  },
  {
   "cell_type": "code",
   "execution_count": 57,
   "id": "98ea05bd",
   "metadata": {},
   "outputs": [
    {
     "data": {
      "text/plain": [
       "array([[[[ 1,  2,  3,  4,  5,  6],\n",
       "         [ 7,  8,  9, 10, 11, 12]]]])"
      ]
     },
     "execution_count": 57,
     "metadata": {},
     "output_type": "execute_result"
    }
   ],
   "source": [
    "np.array(arr1).reshape(1,1,2,6)"
   ]
  },
  {
   "cell_type": "code",
   "execution_count": 58,
   "id": "df0a705e",
   "metadata": {},
   "outputs": [
    {
     "data": {
      "text/plain": [
       "4"
      ]
     },
     "execution_count": 58,
     "metadata": {},
     "output_type": "execute_result"
    }
   ],
   "source": [
    "np.array(arr1).reshape(1,1,2,6).ndim"
   ]
  },
  {
   "cell_type": "markdown",
   "id": "9db7bd3f",
   "metadata": {},
   "source": [
    "# b"
   ]
  },
  {
   "cell_type": "code",
   "execution_count": null,
   "id": "0bb33682",
   "metadata": {},
   "outputs": [],
   "source": []
  },
  {
   "cell_type": "code",
   "execution_count": 98,
   "id": "5698052e",
   "metadata": {},
   "outputs": [],
   "source": [
    "array1 = np.random.randint(2,size = (2,4,5))"
   ]
  },
  {
   "cell_type": "code",
   "execution_count": 99,
   "id": "532db064",
   "metadata": {},
   "outputs": [
    {
     "data": {
      "text/plain": [
       "array([[[0, 0, 1, 1, 1],\n",
       "        [1, 1, 0, 1, 1],\n",
       "        [1, 1, 0, 1, 1],\n",
       "        [0, 1, 1, 0, 1]],\n",
       "\n",
       "       [[1, 0, 0, 0, 1],\n",
       "        [0, 0, 0, 0, 1],\n",
       "        [0, 0, 0, 0, 1],\n",
       "        [1, 1, 0, 0, 0]]])"
      ]
     },
     "execution_count": 99,
     "metadata": {},
     "output_type": "execute_result"
    }
   ],
   "source": [
    "array1"
   ]
  },
  {
   "cell_type": "code",
   "execution_count": 100,
   "id": "a42a3a54",
   "metadata": {},
   "outputs": [
    {
     "data": {
      "text/plain": [
       "3"
      ]
     },
     "execution_count": 100,
     "metadata": {},
     "output_type": "execute_result"
    }
   ],
   "source": [
    "np.random.randint(2,size = (2,4,5)).ndim"
   ]
  },
  {
   "cell_type": "markdown",
   "id": "3d658f7a",
   "metadata": {},
   "source": [
    "## 3.qus"
   ]
  },
  {
   "cell_type": "code",
   "execution_count": 83,
   "id": "8f058351",
   "metadata": {},
   "outputs": [
    {
     "data": {
      "text/plain": [
       "array([ 1,  2,  3,  4,  5,  6,  7,  8,  9, 10, 11, 12])"
      ]
     },
     "execution_count": 83,
     "metadata": {},
     "output_type": "execute_result"
    }
   ],
   "source": [
    "arr1"
   ]
  },
  {
   "cell_type": "code",
   "execution_count": 85,
   "id": "425b57b8",
   "metadata": {},
   "outputs": [
    {
     "data": {
      "text/plain": [
       "dtype('int32')"
      ]
     },
     "execution_count": 85,
     "metadata": {},
     "output_type": "execute_result"
    }
   ],
   "source": [
    "arr1.dtype"
   ]
  },
  {
   "cell_type": "code",
   "execution_count": 86,
   "id": "926650f9",
   "metadata": {},
   "outputs": [
    {
     "data": {
      "text/plain": [
       "(12,)"
      ]
     },
     "execution_count": 86,
     "metadata": {},
     "output_type": "execute_result"
    }
   ],
   "source": [
    "arr1.shape"
   ]
  },
  {
   "cell_type": "code",
   "execution_count": 87,
   "id": "dd45ff60",
   "metadata": {},
   "outputs": [
    {
     "data": {
      "text/plain": [
       "48"
      ]
     },
     "execution_count": 87,
     "metadata": {},
     "output_type": "execute_result"
    }
   ],
   "source": [
    "arr1.nbytes"
   ]
  },
  {
   "cell_type": "code",
   "execution_count": 88,
   "id": "28e069c6",
   "metadata": {},
   "outputs": [
    {
     "data": {
      "text/plain": [
       "4"
      ]
     },
     "execution_count": 88,
     "metadata": {},
     "output_type": "execute_result"
    }
   ],
   "source": [
    "arr1.itemsize"
   ]
  },
  {
   "cell_type": "code",
   "execution_count": 89,
   "id": "eaf94dac",
   "metadata": {},
   "outputs": [
    {
     "data": {
      "text/plain": [
       "1"
      ]
     },
     "execution_count": 89,
     "metadata": {},
     "output_type": "execute_result"
    }
   ],
   "source": [
    "arr1.ndim"
   ]
  },
  {
   "cell_type": "code",
   "execution_count": null,
   "id": "84549bb8",
   "metadata": {},
   "outputs": [],
   "source": []
  },
  {
   "cell_type": "code",
   "execution_count": 90,
   "id": "91d80503",
   "metadata": {},
   "outputs": [
    {
     "data": {
      "text/plain": [
       "array([[[0, 1, 0, 1, 1],\n",
       "        [0, 1, 0, 1, 0],\n",
       "        [1, 1, 1, 0, 1],\n",
       "        [0, 1, 0, 1, 0]],\n",
       "\n",
       "       [[0, 1, 1, 0, 1],\n",
       "        [0, 1, 1, 0, 1],\n",
       "        [0, 1, 1, 0, 1],\n",
       "        [0, 0, 1, 0, 0]]])"
      ]
     },
     "execution_count": 90,
     "metadata": {},
     "output_type": "execute_result"
    }
   ],
   "source": [
    "array1"
   ]
  },
  {
   "cell_type": "code",
   "execution_count": 91,
   "id": "daf80253",
   "metadata": {},
   "outputs": [
    {
     "data": {
      "text/plain": [
       "dtype('int32')"
      ]
     },
     "execution_count": 91,
     "metadata": {},
     "output_type": "execute_result"
    }
   ],
   "source": [
    "array1.dtype"
   ]
  },
  {
   "cell_type": "code",
   "execution_count": 92,
   "id": "362fe6ff",
   "metadata": {},
   "outputs": [
    {
     "data": {
      "text/plain": [
       "(2, 4, 5)"
      ]
     },
     "execution_count": 92,
     "metadata": {},
     "output_type": "execute_result"
    }
   ],
   "source": [
    "array1.shape"
   ]
  },
  {
   "cell_type": "code",
   "execution_count": 101,
   "id": "513b6763",
   "metadata": {},
   "outputs": [
    {
     "data": {
      "text/plain": [
       "160"
      ]
     },
     "execution_count": 101,
     "metadata": {},
     "output_type": "execute_result"
    }
   ],
   "source": [
    "array1.nbytes"
   ]
  },
  {
   "cell_type": "code",
   "execution_count": 102,
   "id": "d160d375",
   "metadata": {},
   "outputs": [
    {
     "data": {
      "text/plain": [
       "4"
      ]
     },
     "execution_count": 102,
     "metadata": {},
     "output_type": "execute_result"
    }
   ],
   "source": [
    "array1.itemsize"
   ]
  },
  {
   "cell_type": "code",
   "execution_count": 103,
   "id": "a8420550",
   "metadata": {},
   "outputs": [
    {
     "data": {
      "text/plain": [
       "3"
      ]
     },
     "execution_count": 103,
     "metadata": {},
     "output_type": "execute_result"
    }
   ],
   "source": [
    "array1.ndim"
   ]
  },
  {
   "cell_type": "markdown",
   "id": "1030d83b",
   "metadata": {},
   "source": [
    "## 4-Qus"
   ]
  },
  {
   "cell_type": "code",
   "execution_count": 105,
   "id": "f3cb2e7d",
   "metadata": {},
   "outputs": [
    {
     "data": {
      "text/plain": [
       "array([ 1,  2,  3,  4,  5,  6,  7,  8,  9, 10, 11, 12])"
      ]
     },
     "execution_count": 105,
     "metadata": {},
     "output_type": "execute_result"
    }
   ],
   "source": [
    "arr1"
   ]
  },
  {
   "cell_type": "markdown",
   "id": "402fc5a5",
   "metadata": {},
   "source": [
    "### 1.Measure of central Tenduncy"
   ]
  },
  {
   "cell_type": "markdown",
   "id": "563321c8",
   "metadata": {},
   "source": [
    "* mean"
   ]
  },
  {
   "cell_type": "code",
   "execution_count": 106,
   "id": "1a6fdef5",
   "metadata": {},
   "outputs": [
    {
     "data": {
      "text/plain": [
       "6.5"
      ]
     },
     "execution_count": 106,
     "metadata": {},
     "output_type": "execute_result"
    }
   ],
   "source": [
    "np.mean(arr1)"
   ]
  },
  {
   "cell_type": "markdown",
   "id": "17abd753",
   "metadata": {},
   "source": [
    "* median"
   ]
  },
  {
   "cell_type": "code",
   "execution_count": 107,
   "id": "f394ece3",
   "metadata": {},
   "outputs": [
    {
     "data": {
      "text/plain": [
       "6.5"
      ]
     },
     "execution_count": 107,
     "metadata": {},
     "output_type": "execute_result"
    }
   ],
   "source": [
    "np.median(arr1)"
   ]
  },
  {
   "cell_type": "markdown",
   "id": "92ba414f",
   "metadata": {},
   "source": [
    "### 2.Measure of Dispersion"
   ]
  },
  {
   "cell_type": "markdown",
   "id": "923c1297",
   "metadata": {},
   "source": [
    "* range"
   ]
  },
  {
   "cell_type": "code",
   "execution_count": 108,
   "id": "4ae5ee00",
   "metadata": {},
   "outputs": [
    {
     "data": {
      "text/plain": [
       "11"
      ]
     },
     "execution_count": 108,
     "metadata": {},
     "output_type": "execute_result"
    }
   ],
   "source": [
    "np.max(arr1)-np.min(arr1)"
   ]
  },
  {
   "cell_type": "markdown",
   "id": "67676e63",
   "metadata": {},
   "source": [
    "* variance"
   ]
  },
  {
   "cell_type": "code",
   "execution_count": 109,
   "id": "c11ab46b",
   "metadata": {},
   "outputs": [
    {
     "data": {
      "text/plain": [
       "11.916666666666666"
      ]
     },
     "execution_count": 109,
     "metadata": {},
     "output_type": "execute_result"
    }
   ],
   "source": [
    "np.var(arr1)"
   ]
  },
  {
   "cell_type": "markdown",
   "id": "f8bdf86b",
   "metadata": {},
   "source": [
    "* standard deviation"
   ]
  },
  {
   "cell_type": "code",
   "execution_count": 113,
   "id": "72e4503e",
   "metadata": {},
   "outputs": [
    {
     "data": {
      "text/plain": [
       "3.452052529534663"
      ]
     },
     "execution_count": 113,
     "metadata": {},
     "output_type": "execute_result"
    }
   ],
   "source": [
    "np.std(arr1)"
   ]
  },
  {
   "cell_type": "markdown",
   "id": "95822374",
   "metadata": {},
   "source": [
    "* mean absoulte value"
   ]
  },
  {
   "cell_type": "code",
   "execution_count": 136,
   "id": "4dc24f92",
   "metadata": {},
   "outputs": [
    {
     "data": {
      "text/plain": [
       "12"
      ]
     },
     "execution_count": 136,
     "metadata": {},
     "output_type": "execute_result"
    }
   ],
   "source": [
    "np.abs(-12)"
   ]
  },
  {
   "cell_type": "markdown",
   "id": "cca101cf",
   "metadata": {},
   "source": [
    "* IQR"
   ]
  },
  {
   "cell_type": "code",
   "execution_count": 118,
   "id": "9aea2837",
   "metadata": {},
   "outputs": [
    {
     "data": {
      "text/plain": [
       "9.25"
      ]
     },
     "execution_count": 118,
     "metadata": {},
     "output_type": "execute_result"
    }
   ],
   "source": [
    "q3 = np.quantile(arr1,0.75)\n",
    "q3"
   ]
  },
  {
   "cell_type": "code",
   "execution_count": 119,
   "id": "cc39924d",
   "metadata": {},
   "outputs": [
    {
     "data": {
      "text/plain": [
       "3.75"
      ]
     },
     "execution_count": 119,
     "metadata": {},
     "output_type": "execute_result"
    }
   ],
   "source": [
    "q1 = np.quantile(arr1,0.25)\n",
    "q1"
   ]
  },
  {
   "cell_type": "code",
   "execution_count": 120,
   "id": "133c732c",
   "metadata": {},
   "outputs": [],
   "source": [
    "IQR = q3-q1"
   ]
  },
  {
   "cell_type": "code",
   "execution_count": 121,
   "id": "06188f84",
   "metadata": {},
   "outputs": [
    {
     "data": {
      "text/plain": [
       "5.5"
      ]
     },
     "execution_count": 121,
     "metadata": {},
     "output_type": "execute_result"
    }
   ],
   "source": [
    "IQR"
   ]
  },
  {
   "cell_type": "code",
   "execution_count": 123,
   "id": "2176808f",
   "metadata": {},
   "outputs": [],
   "source": [
    "lower = (np.min(arr1),q1-1.5*IQR)\n",
    "lower_limit = np.max(lower)\n",
    "\n",
    "upper = (np.max(arr1),q3+1.5 * IQR)\n",
    "upper_limit = np.min(upper)\n",
    "\n"
   ]
  },
  {
   "cell_type": "code",
   "execution_count": 124,
   "id": "8016dfa3",
   "metadata": {},
   "outputs": [
    {
     "data": {
      "text/plain": [
       "1.0"
      ]
     },
     "execution_count": 124,
     "metadata": {},
     "output_type": "execute_result"
    }
   ],
   "source": [
    "lower_limit"
   ]
  },
  {
   "cell_type": "code",
   "execution_count": 126,
   "id": "14577c43",
   "metadata": {},
   "outputs": [
    {
     "data": {
      "text/plain": [
       "12.0"
      ]
     },
     "execution_count": 126,
     "metadata": {},
     "output_type": "execute_result"
    }
   ],
   "source": [
    "upper_limit"
   ]
  },
  {
   "cell_type": "code",
   "execution_count": null,
   "id": "bc0af606",
   "metadata": {},
   "outputs": [],
   "source": []
  },
  {
   "cell_type": "code",
   "execution_count": 127,
   "id": "2e7937ba",
   "metadata": {},
   "outputs": [
    {
     "data": {
      "text/plain": [
       "array([[[0, 0, 1, 1, 1],\n",
       "        [1, 1, 0, 1, 1],\n",
       "        [1, 1, 0, 1, 1],\n",
       "        [0, 1, 1, 0, 1]],\n",
       "\n",
       "       [[1, 0, 0, 0, 1],\n",
       "        [0, 0, 0, 0, 1],\n",
       "        [0, 0, 0, 0, 1],\n",
       "        [1, 1, 0, 0, 0]]])"
      ]
     },
     "execution_count": 127,
     "metadata": {},
     "output_type": "execute_result"
    }
   ],
   "source": [
    "array1"
   ]
  },
  {
   "cell_type": "markdown",
   "id": "c2d1ca68",
   "metadata": {},
   "source": [
    "### 1.Measure of central Tenduncy"
   ]
  },
  {
   "cell_type": "markdown",
   "id": "f795245c",
   "metadata": {},
   "source": [
    "* mean"
   ]
  },
  {
   "cell_type": "code",
   "execution_count": 128,
   "id": "dd76c3c7",
   "metadata": {},
   "outputs": [
    {
     "data": {
      "text/plain": [
       "0.5"
      ]
     },
     "execution_count": 128,
     "metadata": {},
     "output_type": "execute_result"
    }
   ],
   "source": [
    "np.mean(array1)"
   ]
  },
  {
   "cell_type": "markdown",
   "id": "a4e119fa",
   "metadata": {},
   "source": [
    "* median"
   ]
  },
  {
   "cell_type": "code",
   "execution_count": 129,
   "id": "435674b6",
   "metadata": {},
   "outputs": [
    {
     "data": {
      "text/plain": [
       "0.5"
      ]
     },
     "execution_count": 129,
     "metadata": {},
     "output_type": "execute_result"
    }
   ],
   "source": [
    "np.median(array1)"
   ]
  },
  {
   "cell_type": "markdown",
   "id": "5cb8adc2",
   "metadata": {},
   "source": [
    "### 2.Measure of Despersion"
   ]
  },
  {
   "cell_type": "markdown",
   "id": "d8bc233c",
   "metadata": {},
   "source": [
    "* range"
   ]
  },
  {
   "cell_type": "code",
   "execution_count": 130,
   "id": "7ab0326d",
   "metadata": {},
   "outputs": [
    {
     "data": {
      "text/plain": [
       "1"
      ]
     },
     "execution_count": 130,
     "metadata": {},
     "output_type": "execute_result"
    }
   ],
   "source": [
    "np.max(array1)-np.min(array1)"
   ]
  },
  {
   "cell_type": "markdown",
   "id": "692bd4e4",
   "metadata": {},
   "source": [
    "* variance"
   ]
  },
  {
   "cell_type": "code",
   "execution_count": 131,
   "id": "ee385d76",
   "metadata": {},
   "outputs": [
    {
     "data": {
      "text/plain": [
       "0.25"
      ]
     },
     "execution_count": 131,
     "metadata": {},
     "output_type": "execute_result"
    }
   ],
   "source": [
    "np.var(array1)"
   ]
  },
  {
   "cell_type": "markdown",
   "id": "0f983be7",
   "metadata": {},
   "source": [
    "* stabdard deviation"
   ]
  },
  {
   "cell_type": "code",
   "execution_count": 132,
   "id": "a5897abc",
   "metadata": {},
   "outputs": [
    {
     "data": {
      "text/plain": [
       "0.5"
      ]
     },
     "execution_count": 132,
     "metadata": {},
     "output_type": "execute_result"
    }
   ],
   "source": [
    "np.std(array1)"
   ]
  },
  {
   "cell_type": "markdown",
   "id": "ed132272",
   "metadata": {},
   "source": [
    "* mean absolute value"
   ]
  },
  {
   "cell_type": "code",
   "execution_count": 137,
   "id": "7e31bd50",
   "metadata": {},
   "outputs": [
    {
     "data": {
      "text/plain": [
       "1"
      ]
     },
     "execution_count": 137,
     "metadata": {},
     "output_type": "execute_result"
    }
   ],
   "source": [
    "np.abs(-1)"
   ]
  },
  {
   "cell_type": "markdown",
   "id": "c4a27337",
   "metadata": {},
   "source": [
    "* IQR"
   ]
  },
  {
   "cell_type": "code",
   "execution_count": 139,
   "id": "daa0332a",
   "metadata": {},
   "outputs": [
    {
     "data": {
      "text/plain": [
       "1.0"
      ]
     },
     "execution_count": 139,
     "metadata": {},
     "output_type": "execute_result"
    }
   ],
   "source": [
    "q3 = np.quantile(array1,0.75)\n",
    "q3"
   ]
  },
  {
   "cell_type": "code",
   "execution_count": 140,
   "id": "877a4b7d",
   "metadata": {},
   "outputs": [
    {
     "data": {
      "text/plain": [
       "0.0"
      ]
     },
     "execution_count": 140,
     "metadata": {},
     "output_type": "execute_result"
    }
   ],
   "source": [
    "q1 = np.quantile(array1,0.25)\n",
    "q1"
   ]
  },
  {
   "cell_type": "code",
   "execution_count": 141,
   "id": "2539f82d",
   "metadata": {},
   "outputs": [
    {
     "data": {
      "text/plain": [
       "1.0"
      ]
     },
     "execution_count": 141,
     "metadata": {},
     "output_type": "execute_result"
    }
   ],
   "source": [
    "IQR = q3 - q1\n",
    "IQR"
   ]
  },
  {
   "cell_type": "code",
   "execution_count": 142,
   "id": "c8869fcf",
   "metadata": {},
   "outputs": [],
   "source": [
    "lower = (np.min(array1),q1-1.5*IQR)\n",
    "lower_limit = np.max(lower)\n",
    "\n",
    "upper = (np.max(array1),q3+1.5 * IQR)\n",
    "upper_limit = np.min(upper)\n",
    "\n"
   ]
  },
  {
   "cell_type": "code",
   "execution_count": 143,
   "id": "45033091",
   "metadata": {},
   "outputs": [
    {
     "data": {
      "text/plain": [
       "0.0"
      ]
     },
     "execution_count": 143,
     "metadata": {},
     "output_type": "execute_result"
    }
   ],
   "source": [
    "lower_limit"
   ]
  },
  {
   "cell_type": "code",
   "execution_count": 144,
   "id": "315bdbed",
   "metadata": {},
   "outputs": [
    {
     "data": {
      "text/plain": [
       "1.0"
      ]
     },
     "execution_count": 144,
     "metadata": {},
     "output_type": "execute_result"
    }
   ],
   "source": [
    "upper_limit"
   ]
  },
  {
   "cell_type": "markdown",
   "id": "a90996bd",
   "metadata": {},
   "source": [
    "### 3.Measure of Relationship"
   ]
  },
  {
   "cell_type": "code",
   "execution_count": 145,
   "id": "9cf1ec05",
   "metadata": {},
   "outputs": [
    {
     "data": {
      "text/plain": [
       "array([ 1,  2,  3,  4,  5,  6,  7,  8,  9, 10, 11, 12])"
      ]
     },
     "execution_count": 145,
     "metadata": {},
     "output_type": "execute_result"
    }
   ],
   "source": [
    "arr1"
   ]
  },
  {
   "cell_type": "code",
   "execution_count": 146,
   "id": "794d2023",
   "metadata": {},
   "outputs": [
    {
     "data": {
      "text/plain": [
       "array([[[0, 0, 1, 1, 1],\n",
       "        [1, 1, 0, 1, 1],\n",
       "        [1, 1, 0, 1, 1],\n",
       "        [0, 1, 1, 0, 1]],\n",
       "\n",
       "       [[1, 0, 0, 0, 1],\n",
       "        [0, 0, 0, 0, 1],\n",
       "        [0, 0, 0, 0, 1],\n",
       "        [1, 1, 0, 0, 0]]])"
      ]
     },
     "execution_count": 146,
     "metadata": {},
     "output_type": "execute_result"
    }
   ],
   "source": [
    "array1"
   ]
  },
  {
   "cell_type": "code",
   "execution_count": 147,
   "id": "4d72ed0e",
   "metadata": {},
   "outputs": [
    {
     "ename": "ValueError",
     "evalue": "y has more than 2 dimensions",
     "output_type": "error",
     "traceback": [
      "\u001b[1;31m---------------------------------------------------------------------------\u001b[0m",
      "\u001b[1;31mValueError\u001b[0m                                Traceback (most recent call last)",
      "Cell \u001b[1;32mIn[147], line 1\u001b[0m\n\u001b[1;32m----> 1\u001b[0m np\u001b[38;5;241m.\u001b[39mcov(arr1,array1)\n",
      "File \u001b[1;32m~\\.conda\\anacinda2\\sai\\envs\\saikiran\\Lib\\site-packages\\numpy\\lib\\function_base.py:2666\u001b[0m, in \u001b[0;36mcov\u001b[1;34m(m, y, rowvar, bias, ddof, fweights, aweights, dtype)\u001b[0m\n\u001b[0;32m   2664\u001b[0m     y \u001b[38;5;241m=\u001b[39m np\u001b[38;5;241m.\u001b[39masarray(y)\n\u001b[0;32m   2665\u001b[0m     \u001b[38;5;28;01mif\u001b[39;00m y\u001b[38;5;241m.\u001b[39mndim \u001b[38;5;241m>\u001b[39m \u001b[38;5;241m2\u001b[39m:\n\u001b[1;32m-> 2666\u001b[0m         \u001b[38;5;28;01mraise\u001b[39;00m \u001b[38;5;167;01mValueError\u001b[39;00m(\u001b[38;5;124m\"\u001b[39m\u001b[38;5;124my has more than 2 dimensions\u001b[39m\u001b[38;5;124m\"\u001b[39m)\n\u001b[0;32m   2668\u001b[0m \u001b[38;5;28;01mif\u001b[39;00m dtype \u001b[38;5;129;01mis\u001b[39;00m \u001b[38;5;28;01mNone\u001b[39;00m:\n\u001b[0;32m   2669\u001b[0m     \u001b[38;5;28;01mif\u001b[39;00m y \u001b[38;5;129;01mis\u001b[39;00m \u001b[38;5;28;01mNone\u001b[39;00m:\n",
      "\u001b[1;31mValueError\u001b[0m: y has more than 2 dimensions"
     ]
    }
   ],
   "source": [
    "np.cov(arr1,array1)"
   ]
  },
  {
   "cell_type": "code",
   "execution_count": 149,
   "id": "b09001dc",
   "metadata": {},
   "outputs": [
    {
     "ename": "ValueError",
     "evalue": "y has more than 2 dimensions",
     "output_type": "error",
     "traceback": [
      "\u001b[1;31m---------------------------------------------------------------------------\u001b[0m",
      "\u001b[1;31mValueError\u001b[0m                                Traceback (most recent call last)",
      "Cell \u001b[1;32mIn[149], line 1\u001b[0m\n\u001b[1;32m----> 1\u001b[0m np\u001b[38;5;241m.\u001b[39mcorrcoef(arr1,array1)\n",
      "File \u001b[1;32m~\\.conda\\anacinda2\\sai\\envs\\saikiran\\Lib\\site-packages\\numpy\\lib\\function_base.py:2889\u001b[0m, in \u001b[0;36mcorrcoef\u001b[1;34m(x, y, rowvar, bias, ddof, dtype)\u001b[0m\n\u001b[0;32m   2885\u001b[0m \u001b[38;5;28;01mif\u001b[39;00m bias \u001b[38;5;129;01mis\u001b[39;00m \u001b[38;5;129;01mnot\u001b[39;00m np\u001b[38;5;241m.\u001b[39m_NoValue \u001b[38;5;129;01mor\u001b[39;00m ddof \u001b[38;5;129;01mis\u001b[39;00m \u001b[38;5;129;01mnot\u001b[39;00m np\u001b[38;5;241m.\u001b[39m_NoValue:\n\u001b[0;32m   2886\u001b[0m     \u001b[38;5;66;03m# 2015-03-15, 1.10\u001b[39;00m\n\u001b[0;32m   2887\u001b[0m     warnings\u001b[38;5;241m.\u001b[39mwarn(\u001b[38;5;124m'\u001b[39m\u001b[38;5;124mbias and ddof have no effect and are deprecated\u001b[39m\u001b[38;5;124m'\u001b[39m,\n\u001b[0;32m   2888\u001b[0m                   \u001b[38;5;167;01mDeprecationWarning\u001b[39;00m, stacklevel\u001b[38;5;241m=\u001b[39m\u001b[38;5;241m2\u001b[39m)\n\u001b[1;32m-> 2889\u001b[0m c \u001b[38;5;241m=\u001b[39m cov(x, y, rowvar, dtype\u001b[38;5;241m=\u001b[39mdtype)\n\u001b[0;32m   2890\u001b[0m \u001b[38;5;28;01mtry\u001b[39;00m:\n\u001b[0;32m   2891\u001b[0m     d \u001b[38;5;241m=\u001b[39m diag(c)\n",
      "File \u001b[1;32m~\\.conda\\anacinda2\\sai\\envs\\saikiran\\Lib\\site-packages\\numpy\\lib\\function_base.py:2666\u001b[0m, in \u001b[0;36mcov\u001b[1;34m(m, y, rowvar, bias, ddof, fweights, aweights, dtype)\u001b[0m\n\u001b[0;32m   2664\u001b[0m     y \u001b[38;5;241m=\u001b[39m np\u001b[38;5;241m.\u001b[39masarray(y)\n\u001b[0;32m   2665\u001b[0m     \u001b[38;5;28;01mif\u001b[39;00m y\u001b[38;5;241m.\u001b[39mndim \u001b[38;5;241m>\u001b[39m \u001b[38;5;241m2\u001b[39m:\n\u001b[1;32m-> 2666\u001b[0m         \u001b[38;5;28;01mraise\u001b[39;00m \u001b[38;5;167;01mValueError\u001b[39;00m(\u001b[38;5;124m\"\u001b[39m\u001b[38;5;124my has more than 2 dimensions\u001b[39m\u001b[38;5;124m\"\u001b[39m)\n\u001b[0;32m   2668\u001b[0m \u001b[38;5;28;01mif\u001b[39;00m dtype \u001b[38;5;129;01mis\u001b[39;00m \u001b[38;5;28;01mNone\u001b[39;00m:\n\u001b[0;32m   2669\u001b[0m     \u001b[38;5;28;01mif\u001b[39;00m y \u001b[38;5;129;01mis\u001b[39;00m \u001b[38;5;28;01mNone\u001b[39;00m:\n",
      "\u001b[1;31mValueError\u001b[0m: y has more than 2 dimensions"
     ]
    }
   ],
   "source": [
    "np.corrcoef(arr1,array1)"
   ]
  },
  {
   "cell_type": "code",
   "execution_count": null,
   "id": "96643895",
   "metadata": {},
   "outputs": [],
   "source": []
  }
 ],
 "metadata": {
  "kernelspec": {
   "display_name": "Python 3 (ipykernel)",
   "language": "python",
   "name": "python3"
  },
  "language_info": {
   "codemirror_mode": {
    "name": "ipython",
    "version": 3
   },
   "file_extension": ".py",
   "mimetype": "text/x-python",
   "name": "python",
   "nbconvert_exporter": "python",
   "pygments_lexer": "ipython3",
   "version": "3.11.5"
  }
 },
 "nbformat": 4,
 "nbformat_minor": 5
}
