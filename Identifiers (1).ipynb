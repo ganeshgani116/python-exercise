{
 "cells": [
  {
   "cell_type": "markdown",
   "id": "5efd181d",
   "metadata": {},
   "source": [
    "# Check the valid Identifiers and invalid identifers using Python"
   ]
  },
  {
   "cell_type": "markdown",
   "id": "aebe5a40",
   "metadata": {},
   "source": [
    "1. **Run all the identifiers and seprate valid and Invalid Identifiers?**\n",
    "\n",
    "2. **Why Python treating them as invalid Identifers.Explain?**"
   ]
  },
  {
   "cell_type": "markdown",
   "id": "77c112d3",
   "metadata": {},
   "source": [
    "* my_variable = 25\n",
    "\n",
    "\n",
    "* counter = 40.7\n",
    "\n",
    "\n",
    "* _total = \"Hello\"\n",
    "\n",
    "\n",
    " - 123abc   = 34      \n",
    " \n",
    " - my variable   =6.7\n",
    " \n",
    " - @count  = \"hi\"      \n",
    " \n",
    " - for   = \"True\"\n",
    " \n",
    "\n",
    "* Name123 = 136\n",
    "\n",
    "* myFunction = True\n",
    "\n",
    "* _data = False\n",
    "- if_condition? = \"Innomatics\"\n",
    "- class = \"Hyderabad\""
   ]
  },
  {
   "cell_type": "markdown",
   "id": "35c32a6f",
   "metadata": {},
   "source": [
    "### Use different identifiers and assign the below values"
   ]
  },
  {
   "cell_type": "markdown",
   "id": "d606e5ac",
   "metadata": {},
   "source": [
    "10\n",
    "\n",
    "-5\n",
    "\n",
    "3.14159\n",
    "\n",
    "-0.12345\n",
    "\n",
    "1000\n",
    "\n",
    "\"Hello, World!\"\n",
    "\n",
    "\"Python\"\n",
    "\n",
    "\"I am learning\"\n",
    "\n",
    "\"Text type\"\n",
    "\n",
    "\"String\"\n",
    "\n",
    "True\n",
    "\n",
    "False\n",
    "\n",
    "True\n",
    "\n",
    "False\n",
    "\n",
    "True\n",
    "\n"
   ]
  },
  {
   "cell_type": "markdown",
   "id": "d9d6692d",
   "metadata": {},
   "source": [
    "1. **Run all the identifiers and seprate valid and Invalid Identifiers?**\n"
   ]
  },
  {
   "cell_type": "code",
   "execution_count": 1,
   "id": "724a52c1",
   "metadata": {},
   "outputs": [],
   "source": [
    "my_variable = 25"
   ]
  },
  {
   "cell_type": "code",
   "execution_count": 2,
   "id": "6f035079",
   "metadata": {},
   "outputs": [],
   "source": [
    "counter = 40.7"
   ]
  },
  {
   "cell_type": "code",
   "execution_count": 3,
   "id": "4756dcbb",
   "metadata": {},
   "outputs": [],
   "source": [
    "_total = \"Hello\""
   ]
  },
  {
   "cell_type": "code",
   "execution_count": 4,
   "id": "51a5e620",
   "metadata": {},
   "outputs": [
    {
     "ename": "SyntaxError",
     "evalue": "invalid decimal literal (2594609077.py, line 1)",
     "output_type": "error",
     "traceback": [
      "\u001b[1;36m  Cell \u001b[1;32mIn[4], line 1\u001b[1;36m\u001b[0m\n\u001b[1;33m    123abc = 34\u001b[0m\n\u001b[1;37m      ^\u001b[0m\n\u001b[1;31mSyntaxError\u001b[0m\u001b[1;31m:\u001b[0m invalid decimal literal\n"
     ]
    }
   ],
   "source": [
    "123abc = 34         #invalid----should not start with numbers"
   ]
  },
  {
   "cell_type": "code",
   "execution_count": 5,
   "id": "e32a0828",
   "metadata": {},
   "outputs": [
    {
     "ename": "SyntaxError",
     "evalue": "invalid syntax (4132032776.py, line 1)",
     "output_type": "error",
     "traceback": [
      "\u001b[1;36m  Cell \u001b[1;32mIn[5], line 1\u001b[1;36m\u001b[0m\n\u001b[1;33m    my variable =6.7\u001b[0m\n\u001b[1;37m       ^\u001b[0m\n\u001b[1;31mSyntaxError\u001b[0m\u001b[1;31m:\u001b[0m invalid syntax\n"
     ]
    }
   ],
   "source": [
    "my variable =6.7       #invalid--------space is invalid"
   ]
  },
  {
   "cell_type": "code",
   "execution_count": 6,
   "id": "00135b6d",
   "metadata": {},
   "outputs": [
    {
     "ename": "SyntaxError",
     "evalue": "invalid syntax. Maybe you meant '==' or ':=' instead of '='? (388528748.py, line 1)",
     "output_type": "error",
     "traceback": [
      "\u001b[1;36m  Cell \u001b[1;32mIn[6], line 1\u001b[1;36m\u001b[0m\n\u001b[1;33m    @count = \"hi\"\u001b[0m\n\u001b[1;37m     ^\u001b[0m\n\u001b[1;31mSyntaxError\u001b[0m\u001b[1;31m:\u001b[0m invalid syntax. Maybe you meant '==' or ':=' instead of '='?\n"
     ]
    }
   ],
   "source": [
    "@count = \"hi\"    #invalid--------special characters not allowed"
   ]
  },
  {
   "cell_type": "code",
   "execution_count": 7,
   "id": "ef0a26d4",
   "metadata": {},
   "outputs": [
    {
     "ename": "SyntaxError",
     "evalue": "invalid syntax (1645896604.py, line 1)",
     "output_type": "error",
     "traceback": [
      "\u001b[1;36m  Cell \u001b[1;32mIn[7], line 1\u001b[1;36m\u001b[0m\n\u001b[1;33m    for = \"True\"\u001b[0m\n\u001b[1;37m        ^\u001b[0m\n\u001b[1;31mSyntaxError\u001b[0m\u001b[1;31m:\u001b[0m invalid syntax\n"
     ]
    }
   ],
   "source": [
    "for = \"True\"       #invalid------keywords are not allowed"
   ]
  },
  {
   "cell_type": "code",
   "execution_count": 8,
   "id": "96e665bb",
   "metadata": {},
   "outputs": [],
   "source": [
    "Name123 = 136"
   ]
  },
  {
   "cell_type": "code",
   "execution_count": 9,
   "id": "ccece621",
   "metadata": {},
   "outputs": [],
   "source": [
    "myFunction = True"
   ]
  },
  {
   "cell_type": "code",
   "execution_count": 10,
   "id": "28617da5",
   "metadata": {},
   "outputs": [],
   "source": [
    "_data = False"
   ]
  },
  {
   "cell_type": "code",
   "execution_count": 11,
   "id": "c6277d69",
   "metadata": {},
   "outputs": [
    {
     "ename": "SyntaxError",
     "evalue": "invalid syntax (51595175.py, line 1)",
     "output_type": "error",
     "traceback": [
      "\u001b[1;36m  Cell \u001b[1;32mIn[11], line 1\u001b[1;36m\u001b[0m\n\u001b[1;33m    if_condition? = \"Innomatics\"\u001b[0m\n\u001b[1;37m                ^\u001b[0m\n\u001b[1;31mSyntaxError\u001b[0m\u001b[1;31m:\u001b[0m invalid syntax\n"
     ]
    }
   ],
   "source": [
    "if_condition? = \"Innomatics\"       #invalid-----special character"
   ]
  },
  {
   "cell_type": "code",
   "execution_count": 12,
   "id": "c7575bab",
   "metadata": {},
   "outputs": [
    {
     "ename": "SyntaxError",
     "evalue": "invalid syntax (423682886.py, line 1)",
     "output_type": "error",
     "traceback": [
      "\u001b[1;36m  Cell \u001b[1;32mIn[12], line 1\u001b[1;36m\u001b[0m\n\u001b[1;33m    class = \"Hyderabad\"\u001b[0m\n\u001b[1;37m          ^\u001b[0m\n\u001b[1;31mSyntaxError\u001b[0m\u001b[1;31m:\u001b[0m invalid syntax\n"
     ]
    }
   ],
   "source": [
    "class = \"Hyderabad\"     #invalid-----keyword"
   ]
  },
  {
   "cell_type": "markdown",
   "id": "1b7954c3",
   "metadata": {},
   "source": [
    "### Use different identifiers and assign the below values"
   ]
  },
  {
   "cell_type": "code",
   "execution_count": 13,
   "id": "c7735271",
   "metadata": {},
   "outputs": [],
   "source": [
    "a = 10"
   ]
  },
  {
   "cell_type": "code",
   "execution_count": 14,
   "id": "364198bb",
   "metadata": {},
   "outputs": [],
   "source": [
    "b = -5"
   ]
  },
  {
   "cell_type": "code",
   "execution_count": 15,
   "id": "e8904d90",
   "metadata": {},
   "outputs": [],
   "source": [
    "float = 3.14"
   ]
  },
  {
   "cell_type": "code",
   "execution_count": 16,
   "id": "eff525f5",
   "metadata": {},
   "outputs": [],
   "source": [
    "value = -0.12345"
   ]
  },
  {
   "cell_type": "code",
   "execution_count": 17,
   "id": "cd8aafbd",
   "metadata": {},
   "outputs": [],
   "source": [
    "n = 1000"
   ]
  },
  {
   "cell_type": "code",
   "execution_count": 18,
   "id": "179a436a",
   "metadata": {},
   "outputs": [],
   "source": [
    "name = \"hello world\""
   ]
  },
  {
   "cell_type": "code",
   "execution_count": 19,
   "id": "b5c374d3",
   "metadata": {},
   "outputs": [],
   "source": [
    "course =\"python\""
   ]
  },
  {
   "cell_type": "code",
   "execution_count": null,
   "id": "897b92ec",
   "metadata": {},
   "outputs": [],
   "source": []
  }
 ],
 "metadata": {
  "kernelspec": {
   "display_name": "Python 3 (ipykernel)",
   "language": "python",
   "name": "python3"
  },
  "language_info": {
   "codemirror_mode": {
    "name": "ipython",
    "version": 3
   },
   "file_extension": ".py",
   "mimetype": "text/x-python",
   "name": "python",
   "nbconvert_exporter": "python",
   "pygments_lexer": "ipython3",
   "version": "3.11.5"
  }
 },
 "nbformat": 4,
 "nbformat_minor": 5
}
