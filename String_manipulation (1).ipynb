{
 "cells": [
  {
   "cell_type": "markdown",
   "id": "178fe9e4",
   "metadata": {},
   "source": [
    "s=\"   $python is fun, python is easy, but python is tough when you don't practice it revise it@      \"\n",
    "\n",
    "1. How many characters are present  in the above string\n",
    "2. split the string using commas(,)\n",
    "3. count the frequency of \"python\"\n",
    "4. count the frequency of \"is\"\n",
    "5. check the +,-,*,/,// of 3 and 4 results\n",
    "6. replace \"when \" with \"if and only if\"\n",
    "7. find the difference in the number of characters in original string and number of characters when you replaced the \"python \" with \"data science\".\n",
    "replace only the last occurring python with data sciences\n",
    "8. read a string dynamically (user input) if your string is having odd number of characters print: true otherwise print : False\n",
    "eg: Innomatics : o/p : False, \n",
    "datascience : o/p : True"
   ]
  },
  {
   "cell_type": "code",
   "execution_count": 1,
   "id": "944f3ac1",
   "metadata": {},
   "outputs": [],
   "source": [
    "s=\"   $python is fun, python is easy, but python is tough when you don't practice it revise it@      \"\n"
   ]
  },
  {
   "cell_type": "markdown",
   "id": "9530ebea",
   "metadata": {},
   "source": [
    "**1"
   ]
  },
  {
   "cell_type": "code",
   "execution_count": 2,
   "id": "9f4e659f",
   "metadata": {},
   "outputs": [
    {
     "data": {
      "text/plain": [
       "98"
      ]
     },
     "execution_count": 2,
     "metadata": {},
     "output_type": "execute_result"
    }
   ],
   "source": [
    "len(s)"
   ]
  },
  {
   "cell_type": "markdown",
   "id": "f2c21937",
   "metadata": {},
   "source": [
    "**2"
   ]
  },
  {
   "cell_type": "code",
   "execution_count": 4,
   "id": "857dc887",
   "metadata": {},
   "outputs": [
    {
     "data": {
      "text/plain": [
       "['   $python is fun',\n",
       " ' python is easy',\n",
       " \" but python is tough when you don't practice it revise it@      \"]"
      ]
     },
     "execution_count": 4,
     "metadata": {},
     "output_type": "execute_result"
    }
   ],
   "source": [
    "s.split(\",\")"
   ]
  },
  {
   "cell_type": "markdown",
   "id": "5be967f4",
   "metadata": {},
   "source": [
    "**3\n"
   ]
  },
  {
   "cell_type": "code",
   "execution_count": 5,
   "id": "ea363ba9",
   "metadata": {},
   "outputs": [
    {
     "data": {
      "text/plain": [
       "3"
      ]
     },
     "execution_count": 5,
     "metadata": {},
     "output_type": "execute_result"
    }
   ],
   "source": [
    "s.count('python')"
   ]
  },
  {
   "cell_type": "markdown",
   "id": "3131498b",
   "metadata": {},
   "source": [
    "**4"
   ]
  },
  {
   "cell_type": "code",
   "execution_count": 6,
   "id": "71b523cb",
   "metadata": {},
   "outputs": [
    {
     "data": {
      "text/plain": [
       "4"
      ]
     },
     "execution_count": 6,
     "metadata": {},
     "output_type": "execute_result"
    }
   ],
   "source": [
    "s.count('is')"
   ]
  },
  {
   "cell_type": "markdown",
   "id": "6ae22158",
   "metadata": {},
   "source": [
    "**5"
   ]
  },
  {
   "cell_type": "code",
   "execution_count": 7,
   "id": "d9eacc05",
   "metadata": {},
   "outputs": [],
   "source": [
    "a = 3\n",
    "b  = 4"
   ]
  },
  {
   "cell_type": "code",
   "execution_count": 8,
   "id": "a7ef5d32",
   "metadata": {},
   "outputs": [
    {
     "name": "stdout",
     "output_type": "stream",
     "text": [
      "7\n",
      "-1\n",
      "12\n",
      "0.75\n",
      "0\n"
     ]
    }
   ],
   "source": [
    "print(a+b)\n",
    "print(a-b)\n",
    "print(a*b)\n",
    "print(a/b)\n",
    "print(a//b)"
   ]
  },
  {
   "cell_type": "markdown",
   "id": "9220a0c9",
   "metadata": {},
   "source": [
    "**6"
   ]
  },
  {
   "cell_type": "code",
   "execution_count": 3,
   "id": "b4813d43",
   "metadata": {},
   "outputs": [
    {
     "data": {
      "text/plain": [
       "\"   $python is fun, python is easy, but python is tough if and only if you don't practice it revise it@      \""
      ]
     },
     "execution_count": 3,
     "metadata": {},
     "output_type": "execute_result"
    }
   ],
   "source": [
    "s.replace(\"when\",\"if and only if\")"
   ]
  },
  {
   "cell_type": "markdown",
   "id": "3fd8a3ef",
   "metadata": {},
   "source": [
    "**7"
   ]
  },
  {
   "cell_type": "code",
   "execution_count": 4,
   "id": "e1f4c032",
   "metadata": {},
   "outputs": [
    {
     "data": {
      "text/plain": [
       "113"
      ]
     },
     "execution_count": 4,
     "metadata": {},
     "output_type": "execute_result"
    }
   ],
   "source": [
    "len(s.replace(\"python\",\"datascience\"))"
   ]
  },
  {
   "cell_type": "code",
   "execution_count": 5,
   "id": "20cc84f4",
   "metadata": {},
   "outputs": [
    {
     "data": {
      "text/plain": [
       "15"
      ]
     },
     "execution_count": 5,
     "metadata": {},
     "output_type": "execute_result"
    }
   ],
   "source": [
    "len(s.replace(\"python\",\"datascience\")) - len(s)"
   ]
  },
  {
   "cell_type": "markdown",
   "id": "881552e8",
   "metadata": {},
   "source": [
    "**8"
   ]
  },
  {
   "cell_type": "code",
   "execution_count": 14,
   "id": "2a498133",
   "metadata": {},
   "outputs": [
    {
     "name": "stdout",
     "output_type": "stream",
     "text": [
      "Enter the name:: innomatics\n",
      "False\n"
     ]
    }
   ],
   "source": [
    "name = input(\"Enter the name:: \")\n",
    "if len(name) % 2 ==1:\n",
    "    print(\"True\")\n",
    "else:\n",
    "    print(\"False\")"
   ]
  },
  {
   "cell_type": "code",
   "execution_count": 16,
   "id": "cf20ee02",
   "metadata": {},
   "outputs": [
    {
     "name": "stdout",
     "output_type": "stream",
     "text": [
      "Enter the name:: datascience\n",
      "True\n"
     ]
    }
   ],
   "source": [
    "name = input(\"Enter the name:: \")\n",
    "if len(name) % 2 ==1:\n",
    "    print(\"True\")\n",
    "else:\n",
    "    print(\"False\")"
   ]
  },
  {
   "cell_type": "code",
   "execution_count": null,
   "id": "d032bbae",
   "metadata": {},
   "outputs": [],
   "source": []
  }
 ],
 "metadata": {
  "kernelspec": {
   "display_name": "Python 3 (ipykernel)",
   "language": "python",
   "name": "python3"
  },
  "language_info": {
   "codemirror_mode": {
    "name": "ipython",
    "version": 3
   },
   "file_extension": ".py",
   "mimetype": "text/x-python",
   "name": "python",
   "nbconvert_exporter": "python",
   "pygments_lexer": "ipython3",
   "version": "3.11.5"
  }
 },
 "nbformat": 4,
 "nbformat_minor": 5
}
