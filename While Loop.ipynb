{
 "cells": [
  {
   "cell_type": "markdown",
   "id": "8060b9a4",
   "metadata": {},
   "source": [
    "**while loops and their use in programming.**\n",
    "1. Write a Python program that uses a while loop to print the numbers from `A` to `P`.\n",
    "\n",
    "2. Modify the program to print only the even numbers from `1 to 20 except mutiple of 3` using a while loop.\n",
    "\n",
    "3. Create a program that prompts the user for an integer input and then uses a while loop to print the countdown from `that number to 1`.\n",
    "\n",
    "\n",
    "4. Write a Python program that uses a while loop to repeatedly ask the user to enter a number. If the user enters 0, exit the loop using the `break` statement. Otherwise, continue prompting for numbers.\n",
    "\n",
    "5. Create a program that uses a while loop to print the numbers from 1 to 20, but skip printing the numbers 5, 10, and 15 using the `continue` statement.\n",
    "\n",
    "6. Write a Python program that simulates a simple password entry system. Ask the user to enter a password, and use a while loop to repeatedly prompt for the password until the correct password \"abc123\" is entered. Once the correct password is entered, exit the loop.\n",
    "\n",
    "7. Calculate and print the sum of all the positive integers entered by the user.\n",
    "\n",
    "\n",
    "\n",
    "."
   ]
  },
  {
   "cell_type": "markdown",
   "id": "d4cfbae4",
   "metadata": {},
   "source": [
    "###### 1"
   ]
  },
  {
   "cell_type": "code",
   "execution_count": 16,
   "id": "f9501fc9",
   "metadata": {},
   "outputs": [
    {
     "name": "stdout",
     "output_type": "stream",
     "text": [
      "65\n",
      "66\n",
      "67\n",
      "68\n",
      "69\n",
      "70\n",
      "71\n",
      "72\n",
      "73\n",
      "74\n",
      "75\n",
      "76\n",
      "77\n",
      "78\n",
      "79\n",
      "80\n"
     ]
    }
   ],
   "source": [
    "n = ord('A')\n",
    "while n <= ord('P'):\n",
    "    print(n)\n",
    "    n = n + 1"
   ]
  },
  {
   "cell_type": "markdown",
   "id": "edda67c9",
   "metadata": {},
   "source": [
    "###### 2"
   ]
  },
  {
   "cell_type": "markdown",
   "id": "df8c291c",
   "metadata": {},
   "source": [
    "* Modify the program to print only the even numbers from 1 to 20 except mutiple of 3 using a while loop."
   ]
  },
  {
   "cell_type": "code",
   "execution_count": 18,
   "id": "2bdea966",
   "metadata": {},
   "outputs": [
    {
     "name": "stdout",
     "output_type": "stream",
     "text": [
      "2\n",
      "4\n",
      "8\n",
      "10\n",
      "14\n",
      "16\n",
      "20\n"
     ]
    }
   ],
   "source": [
    "n = 0\n",
    "while n <=20:\n",
    "    n = n + 1\n",
    "    if n % 2 == 0 and n % 3!= 0:\n",
    "        print(n)\n",
    "        "
   ]
  },
  {
   "cell_type": "markdown",
   "id": "6e3db540",
   "metadata": {},
   "source": [
    "###### 3"
   ]
  },
  {
   "cell_type": "markdown",
   "id": "a660c89a",
   "metadata": {},
   "source": [
    "* Create a program that prompts the user for an integer input and then uses a while loop to print the countdown from that number to 1."
   ]
  },
  {
   "cell_type": "code",
   "execution_count": 19,
   "id": "03912055",
   "metadata": {},
   "outputs": [
    {
     "name": "stdout",
     "output_type": "stream",
     "text": [
      "enter the number:: 5\n",
      "5\n",
      "4\n",
      "3\n",
      "2\n",
      "1\n"
     ]
    }
   ],
   "source": [
    "n  = int(input('enter the number:: '))\n",
    "\n",
    "while n >= 1:\n",
    "    print(n)\n",
    "    n = n - 1\n",
    "    "
   ]
  },
  {
   "cell_type": "markdown",
   "id": "b77aa42c",
   "metadata": {},
   "source": [
    "###### 4"
   ]
  },
  {
   "cell_type": "markdown",
   "id": "3fd55274",
   "metadata": {},
   "source": [
    "* Write a Python program that uses a while loop to repeatedly ask the user to enter a number. If the user enters 0, exit the loop using the break statement. Otherwise, continue prompting for numbers."
   ]
  },
  {
   "cell_type": "code",
   "execution_count": 20,
   "id": "f2ea137d",
   "metadata": {},
   "outputs": [
    {
     "name": "stdout",
     "output_type": "stream",
     "text": [
      "enter the number:: 5\n",
      "enter valid number\n",
      "enter the number:: 4\n",
      "enter valid number\n",
      "enter the number:: 0\n",
      "correct number\n"
     ]
    }
   ],
   "source": [
    "while True:\n",
    "    n = int(input('enter the number:: '))\n",
    "    if n == 0:\n",
    "        print('correct number')\n",
    "        break\n",
    "    else:\n",
    "        print('enter valid number')"
   ]
  },
  {
   "cell_type": "markdown",
   "id": "28231280",
   "metadata": {},
   "source": [
    "###### 5"
   ]
  },
  {
   "cell_type": "markdown",
   "id": "93f6c301",
   "metadata": {},
   "source": [
    "* Create a program that uses a while loop to print the numbers from 1 to 20, but skip printing the numbers 5, 10, and 15 using the continue statement."
   ]
  },
  {
   "cell_type": "code",
   "execution_count": 24,
   "id": "fba15cea",
   "metadata": {},
   "outputs": [
    {
     "name": "stdout",
     "output_type": "stream",
     "text": [
      "1\n",
      "2\n",
      "3\n",
      "4\n",
      "6\n",
      "7\n",
      "8\n",
      "9\n",
      "11\n",
      "12\n",
      "13\n",
      "14\n",
      "16\n",
      "17\n",
      "18\n",
      "19\n"
     ]
    }
   ],
   "source": [
    "n = 1\n",
    "while n < 20:\n",
    "    if n == 5 or n == 10 or n == 15:\n",
    "        n = n + 1\n",
    "        continue\n",
    "    print(n)\n",
    "    n = n + 1\n"
   ]
  },
  {
   "cell_type": "markdown",
   "id": "17097e28",
   "metadata": {},
   "source": [
    "###### 6"
   ]
  },
  {
   "cell_type": "markdown",
   "id": "093b7359",
   "metadata": {},
   "source": [
    "* Write a Python program that simulates a simple password entry system. Ask the user to enter a password, and use a while loop to repeatedly prompt for the password until the correct password \"abc123\" is entered. Once the correct password is entered, exit the loop."
   ]
  },
  {
   "cell_type": "code",
   "execution_count": 25,
   "id": "82c34e3c",
   "metadata": {},
   "outputs": [
    {
     "name": "stdout",
     "output_type": "stream",
     "text": [
      "enter your password:: vcfc56\n",
      "enter valid password\n",
      "enter your password:: nvcgev\n",
      "enter valid password\n",
      "enter your password:: ,dc hvgv\n",
      "enter valid password\n",
      "enter your password:: abc123\n",
      "valid password\n"
     ]
    }
   ],
   "source": [
    "while True:\n",
    "    password = input('enter your password:: ')\n",
    "    if password == 'abc123':\n",
    "        print('valid password')\n",
    "        break\n",
    "    else:\n",
    "        print(\"enter valid password\")"
   ]
  },
  {
   "cell_type": "markdown",
   "id": "082ec2ca",
   "metadata": {},
   "source": [
    "###### 7"
   ]
  },
  {
   "cell_type": "markdown",
   "id": "a4173dd9",
   "metadata": {},
   "source": [
    "* Calculate and print the sum of all the positive integers entered by the user."
   ]
  },
  {
   "cell_type": "code",
   "execution_count": 29,
   "id": "8f7984d1",
   "metadata": {},
   "outputs": [
    {
     "name": "stdout",
     "output_type": "stream",
     "text": [
      "enter your number:: 5\n",
      "15\n"
     ]
    }
   ],
   "source": [
    "n = int(input('enter your number:: '))\n",
    "sum = 0\n",
    "while n >=0:\n",
    "    sum = sum + n\n",
    "    n = n - 1\n",
    "print(sum)"
   ]
  },
  {
   "cell_type": "code",
   "execution_count": null,
   "id": "7a85e8de",
   "metadata": {},
   "outputs": [],
   "source": []
  }
 ],
 "metadata": {
  "kernelspec": {
   "display_name": "Python 3 (ipykernel)",
   "language": "python",
   "name": "python3"
  },
  "language_info": {
   "codemirror_mode": {
    "name": "ipython",
    "version": 3
   },
   "file_extension": ".py",
   "mimetype": "text/x-python",
   "name": "python",
   "nbconvert_exporter": "python",
   "pygments_lexer": "ipython3",
   "version": "3.11.5"
  }
 },
 "nbformat": 4,
 "nbformat_minor": 5
}
