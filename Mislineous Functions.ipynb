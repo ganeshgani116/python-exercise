{
 "cells": [
  {
   "cell_type": "markdown",
   "id": "dd9881f5",
   "metadata": {},
   "source": [
    "\n",
    "1. \n",
    "\n",
    "   - Create a lambda function that takes two arguments and returns their sum.\n",
    "   - Create another lambda function that takes a single argument and returns its square.\n",
    "   - Use the `lambda` functions to calculate the sum and square of various numbers and print the results.\n",
    "\n",
    "2. \n",
    "   - Define a list of integers.\n",
    "   - Use the `filter` function to create a new list that contains only the even numbers from the original list.\n",
    "   - Use the `filter` function again to create a new list that contains only numbers greater than 10 from the original list.\n",
    "   - Print both filtered lists.\n",
    "\n",
    "3. \n",
    "   - Define a list of strings where each string represents a number (e.g., `[\"1\", \"2\", \"3\"]`).\n",
    "   - Use the `map` function to convert each string to an integer and store the result in a new list.\n",
    "   - Use the `map` function again to square each integer in the new list and store the result in another new list.\n",
    "   - Print both new lists.\n",
    "\n",
    "4. \n",
    "   - Create a list of dictionaries, where each dictionary represents a person with keys \"name\" and \"age\". Example: ` [{\"name\": \"Alice\", \"age\": 30}, {\"name\": \"Bob\", \"age\": 25}, ...]`\n",
    "   - Use the `filter` function to create a new list that contains only the people who are older than 25.\n",
    "   - Use the `map` function to create a new list that contains the names of the filtered people.\n",
    "   - Print the list of names.\n",
    "\n",
    "5. \n",
    "   - Create a program that reads a list of numbers from the user (you can use the `input` function for this).\n",
    "   - Use `map` and `filter` functions to perform the following operations:\n",
    "     - Square each number.\n",
    "     - Filter out numbers that are not divisible by 3.\n",
    "   - Print the result.\n"
   ]
  },
  {
   "cell_type": "code",
   "execution_count": null,
   "id": "65b4537e",
   "metadata": {},
   "outputs": [],
   "source": []
  },
  {
   "cell_type": "code",
   "execution_count": null,
   "id": "31459e38",
   "metadata": {},
   "outputs": [],
   "source": []
  },
  {
   "cell_type": "markdown",
   "id": "f038b426",
   "metadata": {},
   "source": [
    "1. \n",
    "\n",
    "   - Create a lambda function that takes two arguments and returns their sum.\n",
    "   - Create another lambda function that takes a single argument and returns its square.\n",
    "   - Use the `lambda` functions to calculate the sum and square of various numbers and print the results.\n"
   ]
  },
  {
   "cell_type": "code",
   "execution_count": 1,
   "id": "0af36257",
   "metadata": {},
   "outputs": [],
   "source": [
    "a = lambda a,b :a + b"
   ]
  },
  {
   "cell_type": "code",
   "execution_count": 2,
   "id": "94d4a8cc",
   "metadata": {},
   "outputs": [
    {
     "data": {
      "text/plain": [
       "3"
      ]
     },
     "execution_count": 2,
     "metadata": {},
     "output_type": "execute_result"
    }
   ],
   "source": [
    "a(1,2)"
   ]
  },
  {
   "cell_type": "code",
   "execution_count": 3,
   "id": "319fcb10",
   "metadata": {},
   "outputs": [],
   "source": [
    "a = lambda n : n*n"
   ]
  },
  {
   "cell_type": "code",
   "execution_count": 4,
   "id": "2dc9d339",
   "metadata": {},
   "outputs": [
    {
     "data": {
      "text/plain": [
       "25"
      ]
     },
     "execution_count": 4,
     "metadata": {},
     "output_type": "execute_result"
    }
   ],
   "source": [
    "a(5)"
   ]
  },
  {
   "cell_type": "code",
   "execution_count": 6,
   "id": "b46aad3d",
   "metadata": {},
   "outputs": [],
   "source": [
    "a = lambda a,b:(a+b)**2"
   ]
  },
  {
   "cell_type": "code",
   "execution_count": 7,
   "id": "f6db935f",
   "metadata": {},
   "outputs": [
    {
     "data": {
      "text/plain": [
       "49"
      ]
     },
     "execution_count": 7,
     "metadata": {},
     "output_type": "execute_result"
    }
   ],
   "source": [
    "a(3,4)"
   ]
  },
  {
   "cell_type": "code",
   "execution_count": null,
   "id": "5ac3c31b",
   "metadata": {},
   "outputs": [],
   "source": []
  },
  {
   "cell_type": "markdown",
   "id": "05b59e73",
   "metadata": {},
   "source": [
    "2. \n",
    "   - Define a list of integers.\n",
    "   - Use the `filter` function to create a new list that contains only the even numbers from the original list.\n",
    "   - Use the `filter` function again to create a new list that contains only numbers greater than 10 from the original list.\n",
    "   - Print both filtered lists."
   ]
  },
  {
   "cell_type": "code",
   "execution_count": 18,
   "id": "584ea401",
   "metadata": {},
   "outputs": [],
   "source": [
    "def fun(n):\n",
    "    if n % 2 == 0:\n",
    "        return 'even'"
   ]
  },
  {
   "cell_type": "code",
   "execution_count": 23,
   "id": "38039400",
   "metadata": {},
   "outputs": [
    {
     "data": {
      "text/plain": [
       "[2, 4, 8, 10]"
      ]
     },
     "execution_count": 23,
     "metadata": {},
     "output_type": "execute_result"
    }
   ],
   "source": [
    "list1 = [2,4,5,7,8,10]\n",
    "list(filter(fun,list1))"
   ]
  },
  {
   "cell_type": "code",
   "execution_count": 24,
   "id": "b05dd0d6",
   "metadata": {},
   "outputs": [],
   "source": [
    "def num(n):\n",
    "    if n > 10:\n",
    "        return 'numbers'"
   ]
  },
  {
   "cell_type": "code",
   "execution_count": 26,
   "id": "ef0eaef5",
   "metadata": {},
   "outputs": [
    {
     "data": {
      "text/plain": [
       "[14, 12, 15, 18, 20, 78, 20]"
      ]
     },
     "execution_count": 26,
     "metadata": {},
     "output_type": "execute_result"
    }
   ],
   "source": [
    "list1 = [10,14,12,15,18,20,1,4,5,6,78,20,3]\n",
    "list(filter(num,list1))"
   ]
  },
  {
   "cell_type": "code",
   "execution_count": null,
   "id": "97d5f107",
   "metadata": {},
   "outputs": [],
   "source": []
  },
  {
   "cell_type": "markdown",
   "id": "ef23b89c",
   "metadata": {},
   "source": [
    "3. \n",
    "   - Define a list of strings where each string represents a number (e.g., `[\"1\", \"2\", \"3\"]`).\n",
    "   - Use the `map` function to convert each string to an integer and store the result in a new list.\n",
    "   - Use the `map` function again to square each integer in the new list and store the result in another new list.\n",
    "   - Print both new lists.\n"
   ]
  },
  {
   "cell_type": "code",
   "execution_count": 34,
   "id": "1544eda5",
   "metadata": {},
   "outputs": [],
   "source": [
    "list1 = ['1','5','7','6','23','4','47','52']\n",
    "\n",
    "c = list(map(int,list1))"
   ]
  },
  {
   "cell_type": "code",
   "execution_count": 35,
   "id": "cadc2fdb",
   "metadata": {},
   "outputs": [
    {
     "data": {
      "text/plain": [
       "[1, 5, 7, 6, 23, 4, 47, 52]"
      ]
     },
     "execution_count": 35,
     "metadata": {},
     "output_type": "execute_result"
    }
   ],
   "source": [
    "c"
   ]
  },
  {
   "cell_type": "code",
   "execution_count": 37,
   "id": "5266256d",
   "metadata": {},
   "outputs": [
    {
     "data": {
      "text/plain": [
       "[1, 25, 49, 36, 529, 16, 2209, 2704]"
      ]
     },
     "execution_count": 37,
     "metadata": {},
     "output_type": "execute_result"
    }
   ],
   "source": [
    "list1 = ['1','5','7','6','23','4','47','52']\n",
    "\n",
    "list(map(lambda n : n**2,c))"
   ]
  },
  {
   "cell_type": "code",
   "execution_count": null,
   "id": "40a467a1",
   "metadata": {},
   "outputs": [],
   "source": []
  },
  {
   "cell_type": "code",
   "execution_count": null,
   "id": "46f1ff86",
   "metadata": {},
   "outputs": [],
   "source": []
  },
  {
   "cell_type": "markdown",
   "id": "c26fc9bf",
   "metadata": {},
   "source": [
    "4. \n",
    "   - Create a list of dictionaries, where each dictionary represents a person with keys \"name\" and \"age\". Example: ` [{\"name\": \"Alice\", \"age\": 30}, {\"name\": \"Bob\", \"age\": 25}, ...]`\n",
    "   - Use the `filter` function to create a new list that contains only the people who are older than 25.\n",
    "   - Use the `map` function to create a new list that contains the names of the filtered people.\n",
    "   - Print the list of names.\n"
   ]
  },
  {
   "cell_type": "code",
   "execution_count": 42,
   "id": "c80c4f42",
   "metadata": {},
   "outputs": [],
   "source": [
    "list1 = [{'name' : 'saikiran','age' : 23,'course' : 'data science','city' : 'hyderabad'},\n",
    "    {'name' : 'sanjay','age' : 30,'course' : 'data science','city' : 'hyderabad'},\n",
    "    {'name' : 'ramesh','age' : 35,'course' : 'data science','city' : 'hyderabad'},\n",
    "    {'name' : 'ganesh','age' : 28,'course' : 'data science','city' : 'hyderabad'}]"
   ]
  },
  {
   "cell_type": "code",
   "execution_count": 48,
   "id": "ba08545c",
   "metadata": {},
   "outputs": [],
   "source": [
    "def fun(n):\n",
    "    if n.get('age') > 25:\n",
    "        return n.get('name')\n",
    "        "
   ]
  },
  {
   "cell_type": "code",
   "execution_count": 49,
   "id": "01b1ab94",
   "metadata": {},
   "outputs": [
    {
     "data": {
      "text/plain": [
       "[{'name': 'sanjay', 'age': 30, 'course': 'data science', 'city': 'hyderabad'},\n",
       " {'name': 'ramesh', 'age': 35, 'course': 'data science', 'city': 'hyderabad'},\n",
       " {'name': 'ganesh', 'age': 28, 'course': 'data science', 'city': 'hyderabad'}]"
      ]
     },
     "execution_count": 49,
     "metadata": {},
     "output_type": "execute_result"
    }
   ],
   "source": [
    "list(filter(fun,list1))"
   ]
  },
  {
   "cell_type": "code",
   "execution_count": 50,
   "id": "b59d0189",
   "metadata": {},
   "outputs": [],
   "source": [
    "a = list(map(fun,list1))"
   ]
  },
  {
   "cell_type": "code",
   "execution_count": 51,
   "id": "4d6e3d2e",
   "metadata": {},
   "outputs": [
    {
     "data": {
      "text/plain": [
       "[None, 'sanjay', 'ramesh', 'ganesh']"
      ]
     },
     "execution_count": 51,
     "metadata": {},
     "output_type": "execute_result"
    }
   ],
   "source": [
    "a"
   ]
  },
  {
   "cell_type": "code",
   "execution_count": null,
   "id": "452e6954",
   "metadata": {},
   "outputs": [],
   "source": []
  },
  {
   "cell_type": "markdown",
   "id": "7aae5956",
   "metadata": {},
   "source": [
    "5. \n",
    "   - Create a program that reads a list of numbers from the user (you can use the `input` function for this).\n",
    "   - Use `map` and `filter` functions to perform the following operations:\n",
    "     - Square each number.\n",
    "     - Filter out numbers that are not divisible by 3.\n",
    "   - Print the result.\n"
   ]
  },
  {
   "cell_type": "code",
   "execution_count": 55,
   "id": "80bf9579",
   "metadata": {},
   "outputs": [
    {
     "name": "stdout",
     "output_type": "stream",
     "text": [
      "Enter the numbers:: 5\n",
      "Enter the number:: 4\n",
      "Enter the number:: 2\n",
      "Enter the number:: 3\n",
      "Enter the number:: 6\n"
     ]
    }
   ],
   "source": [
    "n  = int(input('Enter the numbers:: '))\n",
    "\n",
    "list1 = [int(input('Enter the number:: ')) for i in range(1,n)]\n",
    "\n",
    "c = list(filter(lambda a : a%3!=0,list1))"
   ]
  },
  {
   "cell_type": "code",
   "execution_count": 56,
   "id": "3ed10b74",
   "metadata": {},
   "outputs": [
    {
     "data": {
      "text/plain": [
       "[4, 2]"
      ]
     },
     "execution_count": 56,
     "metadata": {},
     "output_type": "execute_result"
    }
   ],
   "source": [
    "c"
   ]
  },
  {
   "cell_type": "code",
   "execution_count": 57,
   "id": "050c4596",
   "metadata": {},
   "outputs": [],
   "source": [
    "a = list(map(lambda a : a**2,c))"
   ]
  },
  {
   "cell_type": "code",
   "execution_count": 58,
   "id": "9587b236",
   "metadata": {},
   "outputs": [
    {
     "data": {
      "text/plain": [
       "[16, 4]"
      ]
     },
     "execution_count": 58,
     "metadata": {},
     "output_type": "execute_result"
    }
   ],
   "source": [
    "a"
   ]
  },
  {
   "cell_type": "code",
   "execution_count": null,
   "id": "e1ca51ab",
   "metadata": {},
   "outputs": [],
   "source": []
  }
 ],
 "metadata": {
  "kernelspec": {
   "display_name": "Python 3 (ipykernel)",
   "language": "python",
   "name": "python3"
  },
  "language_info": {
   "codemirror_mode": {
    "name": "ipython",
    "version": 3
   },
   "file_extension": ".py",
   "mimetype": "text/x-python",
   "name": "python",
   "nbconvert_exporter": "python",
   "pygments_lexer": "ipython3",
   "version": "3.11.5"
  }
 },
 "nbformat": 4,
 "nbformat_minor": 5
}
