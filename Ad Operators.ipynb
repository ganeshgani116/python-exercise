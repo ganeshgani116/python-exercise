{
 "cells": [
  {
   "cell_type": "markdown",
   "id": "b8536ea7",
   "metadata": {},
   "source": [
    "* Write a program that calculates the `sum, difference, product, and quotient` of two numbers: 10 and 5.\n",
    "\n",
    "* Create a program that calculates the `area of a circle` with a radius of 4.5 units."
   ]
  },
  {
   "cell_type": "markdown",
   "id": "3f81b9d8",
   "metadata": {},
   "source": [
    "*  Write a program that `swaps` the values of two variables: x with a value of 5 and \"y\" with a value of 10.\n",
    "* Create a program that calculates `compound interest` for a principal amount of $1000, an interest rate of 5%, and a time period of 3 years."
   ]
  },
  {
   "cell_type": "markdown",
   "id": "768483d0",
   "metadata": {},
   "source": [
    "* Write a program that `compares` two numbers: 7 and 12, and determines whether the first number is greater than, less than, or equal to the second number.\n",
    "* Create a program that `checks` if a person of age 18 is eligible to vote based on the voting age requirement.(True/False)"
   ]
  },
  {
   "cell_type": "markdown",
   "id": "7881a204",
   "metadata": {},
   "source": []
  },
  {
   "cell_type": "markdown",
   "id": "1844e65c",
   "metadata": {},
   "source": [
    "*  Create a Python program that calculates the `area of a rectangle`. Prompt the `user to enter` the length and width of the rectangle, `store them` in variables, and compute the area using the formula:area length width.Finally, `print the calculated area.\n",
    "\n",
    "* Create a Python program that calculates the `average` of three exam scores. Prompt the user to enter the scores, `store them` in variables, calculate the average, and print the result.\n",
    "\n",
    "* Write a Python program that `converts` temperature from Celsius to Fahrenheit. Prompt the user to enter a temperature in Celsius, store it in a variable, and convert it to Fahrenheit using the formula: `Fahrenheit = (Celsius* 9/5)+32`, and print the converted temperature.\n",
    "\n",
    "* What are the `logical operators` in Python? Explain `each one` with an example.\n",
    "\n",
    "* What are the `membership` operators in Python? Explain their usage with examples\n",
    "\n",
    "* List and briefly explain the `basic data types` available in Python.\n",
    "\n",
    "* Write a Python code snippet that `assigns a value to a variable `and determines its `data type` using the type() function."
   ]
  },
  {
   "cell_type": "markdown",
   "id": "95ed62b5",
   "metadata": {},
   "source": [
    "Assignment: Basic Python Operators\n",
    "\n",
    "**Task 1: Arithmetic Operators**\n",
    "1. Write a Python program that takes two user-input numbers and displays their sum using the addition operator.\n",
    "2. Create a program to calculate the area of a rectangle. Prompt the user for the length and width, then use multiplication to find the area.\n",
    "3. Implement a program that converts temperature from Celsius to Fahrenheit using the formula: Fahrenheit = (Celsius * 9/5) + 32.\n",
    "\n",
    "**Task 2: Comparison Operators**\n",
    "1. Write a program that compares two user-input numbers and prints whether the first number is greater than the second number or not.\n",
    "2. Create a program that determines whether a user-input year is a leap year or not. A leap year is divisible by 4 and not divisible by 100, unless it is also divisible by 400.\n",
    "3. Implement a simple guessing game. Generate a random number between 1 and 100 and have the user guess the number. Provide feedback if their guess is too high or too low, and let them know when they've guessed correctly.\n",
    "\n",
    "**Task 3: Logical Operators**\n",
    "1. Write a program that checks whether a user-input number is positive and even using logical AND (`and`) operator.\n",
    "2. Create a login system where you define a correct username and password. Ask the user for their input and compare it with the correct credentials using logical OR (`or`) operator. Provide access if either the username or password is correct.\n",
    "3. Implement a program that determines whether a given year is a leap year and divisible by 7 using logical NOT (`not`) operator.\n",
    "\n",
    "**Task 4: Assignment Operators**\n",
    "1. Write a program to calculate the square of a number using the exponentiation operator (`**`) and assign it back to the same variable.\n",
    "2. Create a program that keeps track of the total score in a game. Prompt the user for their latest score and update the total score using the addition assignment operator (`+=`).\n",
    "3. Implement a program to convert seconds into hours, minutes, and remaining seconds using both division and modulo operators, and then assign each value using assignment operators.\n",
    "\n",
    "**Task 5: Bitwise Operators**\n",
    "1. Write a program that performs a bitwise AND operation between two user-input numbers and displays the result.\n",
    "2. Create a program to toggle the nth bit of a given number. Ask the user for the number and the value of n, then use bitwise XOR (^) operator to toggle the bit.\n",
    "3. Implement a program to swap the values of two variables without using a temporary variable, only using bitwise XOR (^) operator.\n",
    "\n"
   ]
  },
  {
   "cell_type": "code",
   "execution_count": null,
   "id": "e6c02212",
   "metadata": {},
   "outputs": [],
   "source": []
  },
  {
   "cell_type": "code",
   "execution_count": null,
   "id": "241481f2",
   "metadata": {},
   "outputs": [],
   "source": []
  },
  {
   "cell_type": "markdown",
   "id": "eff5dc28",
   "metadata": {},
   "source": [
    "Write a program that calculates the sum, difference, product, and quotient of two numbers: 10 and 5."
   ]
  },
  {
   "cell_type": "code",
   "execution_count": 1,
   "id": "6c469b3c",
   "metadata": {},
   "outputs": [],
   "source": [
    "a = 10\n",
    "b = 5"
   ]
  },
  {
   "cell_type": "markdown",
   "id": "c284c9bb",
   "metadata": {},
   "source": [
    "##### sum"
   ]
  },
  {
   "cell_type": "code",
   "execution_count": 2,
   "id": "298a8e3a",
   "metadata": {},
   "outputs": [
    {
     "data": {
      "text/plain": [
       "15"
      ]
     },
     "execution_count": 2,
     "metadata": {},
     "output_type": "execute_result"
    }
   ],
   "source": [
    "a + b"
   ]
  },
  {
   "cell_type": "markdown",
   "id": "af58564b",
   "metadata": {},
   "source": [
    "##### diffrence"
   ]
  },
  {
   "cell_type": "code",
   "execution_count": 3,
   "id": "35f76fe1",
   "metadata": {},
   "outputs": [
    {
     "data": {
      "text/plain": [
       "5"
      ]
     },
     "execution_count": 3,
     "metadata": {},
     "output_type": "execute_result"
    }
   ],
   "source": [
    "a - b"
   ]
  },
  {
   "cell_type": "markdown",
   "id": "e7838a6d",
   "metadata": {},
   "source": [
    "##### product"
   ]
  },
  {
   "cell_type": "code",
   "execution_count": 4,
   "id": "62a2aee2",
   "metadata": {},
   "outputs": [
    {
     "data": {
      "text/plain": [
       "50"
      ]
     },
     "execution_count": 4,
     "metadata": {},
     "output_type": "execute_result"
    }
   ],
   "source": [
    "a * b"
   ]
  },
  {
   "cell_type": "markdown",
   "id": "f3c0f6be",
   "metadata": {},
   "source": [
    "##### quotient"
   ]
  },
  {
   "cell_type": "code",
   "execution_count": 5,
   "id": "00628a11",
   "metadata": {},
   "outputs": [
    {
     "data": {
      "text/plain": [
       "2"
      ]
     },
     "execution_count": 5,
     "metadata": {},
     "output_type": "execute_result"
    }
   ],
   "source": [
    "a // b"
   ]
  },
  {
   "cell_type": "markdown",
   "id": "2f348c07",
   "metadata": {},
   "source": [
    "Create a program that calculates the area of a circle with a radius of 4.5 units."
   ]
  },
  {
   "cell_type": "code",
   "execution_count": 7,
   "id": "64b3e23b",
   "metadata": {},
   "outputs": [
    {
     "name": "stdout",
     "output_type": "stream",
     "text": [
      "63.585\n"
     ]
    }
   ],
   "source": [
    "\n",
    "pi = 3.14\n",
    "r = 4.5\n",
    "a = pi*r**2\n",
    "print(a)"
   ]
  },
  {
   "cell_type": "markdown",
   "id": "72bcc11a",
   "metadata": {},
   "source": [
    "Write a program that swaps the values of two variables: x with a value of 5 and \"y\" with a value of 10."
   ]
  },
  {
   "cell_type": "code",
   "execution_count": 8,
   "id": "2b4a5769",
   "metadata": {},
   "outputs": [],
   "source": [
    "x = 5\n",
    "y = 10"
   ]
  },
  {
   "cell_type": "code",
   "execution_count": 10,
   "id": "04fdd8b5",
   "metadata": {},
   "outputs": [],
   "source": [
    "temp = x\n",
    "x = y\n",
    "y = temp"
   ]
  },
  {
   "cell_type": "code",
   "execution_count": 12,
   "id": "6624d7a0",
   "metadata": {},
   "outputs": [
    {
     "name": "stdout",
     "output_type": "stream",
     "text": [
      "The value of x after swapping: 10\n",
      "The value of y after swapping: 5\n"
     ]
    }
   ],
   "source": [
    "print(\"The value of x after swapping:\",x)\n",
    "print(\"The value of y after swapping:\",y)\n"
   ]
  },
  {
   "cell_type": "markdown",
   "id": "4bd22b88",
   "metadata": {},
   "source": [
    "Create a program that calculates compound interest for a principal amount of $1000, an interest rate of 5%, and a time period of 3 years."
   ]
  },
  {
   "cell_type": "markdown",
   "id": "ba0a3c10",
   "metadata": {},
   "source": [
    "simple intrest a = p(1+r/n)"
   ]
  },
  {
   "cell_type": "markdown",
   "id": "91211d00",
   "metadata": {},
   "source": [
    "compont intrest     a = p(1+r/n)**t"
   ]
  },
  {
   "cell_type": "code",
   "execution_count": 26,
   "id": "9e4a55c9",
   "metadata": {},
   "outputs": [
    {
     "name": "stdout",
     "output_type": "stream",
     "text": [
      "1157.6250000000002\n"
     ]
    }
   ],
   "source": [
    "\n",
    "\n",
    "p = 1000\n",
    "r = 5\n",
    "t = 3\n",
    "n = 100\n",
    "\n",
    "a = p*(1+r/n)**t\n",
    "print(a)"
   ]
  },
  {
   "cell_type": "code",
   "execution_count": 27,
   "id": "797cd873",
   "metadata": {},
   "outputs": [],
   "source": [
    "ci = a - p"
   ]
  },
  {
   "cell_type": "code",
   "execution_count": 28,
   "id": "781cc0ce",
   "metadata": {},
   "outputs": [
    {
     "data": {
      "text/plain": [
       "157.62500000000023"
      ]
     },
     "execution_count": 28,
     "metadata": {},
     "output_type": "execute_result"
    }
   ],
   "source": [
    "ci"
   ]
  },
  {
   "cell_type": "markdown",
   "id": "03708848",
   "metadata": {},
   "source": [
    "Write a program that compares two numbers: 7 and 12, and determines whether the first number is greater than, less than, or equal to the second numbe"
   ]
  },
  {
   "cell_type": "code",
   "execution_count": 29,
   "id": "ce814d07",
   "metadata": {},
   "outputs": [],
   "source": [
    "a = 7\n",
    "b = 12"
   ]
  },
  {
   "cell_type": "code",
   "execution_count": 30,
   "id": "57b44311",
   "metadata": {},
   "outputs": [
    {
     "data": {
      "text/plain": [
       "False"
      ]
     },
     "execution_count": 30,
     "metadata": {},
     "output_type": "execute_result"
    }
   ],
   "source": [
    "a > b"
   ]
  },
  {
   "cell_type": "code",
   "execution_count": 31,
   "id": "d102c9f3",
   "metadata": {},
   "outputs": [
    {
     "data": {
      "text/plain": [
       "True"
      ]
     },
     "execution_count": 31,
     "metadata": {},
     "output_type": "execute_result"
    }
   ],
   "source": [
    "a < b"
   ]
  },
  {
   "cell_type": "code",
   "execution_count": 32,
   "id": "c58cf6f3",
   "metadata": {},
   "outputs": [
    {
     "data": {
      "text/plain": [
       "False"
      ]
     },
     "execution_count": 32,
     "metadata": {},
     "output_type": "execute_result"
    }
   ],
   "source": [
    "a == b"
   ]
  },
  {
   "cell_type": "markdown",
   "id": "f1ffa181",
   "metadata": {},
   "source": [
    "Create a program that checks if a person of age 18 is eligible to vote based on the voting age requirement.(True/False)"
   ]
  },
  {
   "cell_type": "code",
   "execution_count": 1,
   "id": "60f3b08f",
   "metadata": {},
   "outputs": [
    {
     "name": "stdout",
     "output_type": "stream",
     "text": [
      "enter the age:: 24\n",
      "True\n"
     ]
    }
   ],
   "source": [
    "age = int(input('enter the age:: '))\n",
    "if age>=18:\n",
    "    print(\"True\")\n",
    "else:\n",
    "    print(\"False\")\n"
   ]
  },
  {
   "cell_type": "markdown",
   "id": "2b53b225",
   "metadata": {},
   "source": [
    "Create a Python program that calculates the area of a rectangle. Prompt the user to enter the length and width of the rectangle, store them in variables, and compute the area using the formula:area length width.Finally, `print the calculated area."
   ]
  },
  {
   "cell_type": "markdown",
   "id": "f091c102",
   "metadata": {},
   "source": [
    "a = w * l"
   ]
  },
  {
   "cell_type": "code",
   "execution_count": 3,
   "id": "542acd5b",
   "metadata": {},
   "outputs": [
    {
     "name": "stdout",
     "output_type": "stream",
     "text": [
      "Enter the width:: 5\n",
      "Enter the length:: 4\n",
      "The area of length is::  20\n"
     ]
    }
   ],
   "source": [
    "w = int(input(\"Enter the width:: \"))\n",
    "l = int(input(\"Enter the length:: \"))\n",
    "\n",
    "a = w * l\n",
    "\n",
    "print(\"The area of length is:: \",a)"
   ]
  },
  {
   "cell_type": "markdown",
   "id": "cb63c854",
   "metadata": {},
   "source": [
    "Create a Python program that calculates the average of three exam scores. Prompt the user to enter the scores, store them in variables, calculate the average, and print the result."
   ]
  },
  {
   "cell_type": "code",
   "execution_count": 6,
   "id": "cd44c506",
   "metadata": {},
   "outputs": [
    {
     "name": "stdout",
     "output_type": "stream",
     "text": [
      "Enter the score:: 90\n",
      "Enter the score:: 70\n",
      "Enter the score:: 45\n",
      "The average of Three exam score::  68.33333333333333\n"
     ]
    }
   ],
   "source": [
    "exam1 = int(input(\"Enter the score:: \"))\n",
    "exam2 = int(input(\"Enter the score:: \"))\n",
    "exam3 = int(input(\"Enter the score:: \"))\n",
    "\n",
    "result = (exam1+exam2+exam3)/3\n",
    "\n",
    "print(\"The average of Three exam score:: \",result)"
   ]
  },
  {
   "cell_type": "markdown",
   "id": "0da79edb",
   "metadata": {},
   "source": [
    "Write a Python program that converts temperature from Celsius to Fahrenheit. Prompt the user to enter a temperature in Celsius, store it in a variable, and convert it to Fahrenheit using the formula: Fahrenheit = (Celsius* 9/5)+32, and print the converted temperature."
   ]
  },
  {
   "cell_type": "code",
   "execution_count": 15,
   "id": "11dc9c01",
   "metadata": {},
   "outputs": [
    {
     "name": "stdout",
     "output_type": "stream",
     "text": [
      "Enter the Temp:: 40\n",
      "104.0\n"
     ]
    }
   ],
   "source": [
    "c = int(input(\"Enter the Temp:: \"))\n",
    "f = (c * 9/5)+32\n",
    "print(f)"
   ]
  },
  {
   "cell_type": "markdown",
   "id": "77002a61",
   "metadata": {},
   "source": [
    "Task 1: Arithmetic Operators\n",
    "\n",
    "Write a Python program that takes two user-input numbers and displays their sum using the addition operator.\n",
    "Create a program to calculate the area of a rectangle. Prompt the user for the length and width, then use multiplication to find the area.\n",
    "Implement a program that converts temperature from Celsius to Fahrenheit using the formula: Fahrenheit = (Celsius * 9/5) + 32."
   ]
  },
  {
   "cell_type": "code",
   "execution_count": 1,
   "id": "60b5d9e5",
   "metadata": {},
   "outputs": [
    {
     "name": "stdout",
     "output_type": "stream",
     "text": [
      "Enter first number:: 4\n",
      "Enter second number:: 5\n",
      "9\n"
     ]
    }
   ],
   "source": [
    "a = int(input(\"Enter first number:: \"))\n",
    "b = int(input(\"Enter second number:: \"))\n",
    "\n",
    "print(a + b)"
   ]
  },
  {
   "cell_type": "markdown",
   "id": "0c75bc77",
   "metadata": {},
   "source": [
    "Task 2: Comparison Operators\n",
    "\n",
    "Write a program that compares two user-input numbers and prints whether the first number is greater than the second number or not.\n",
    "Create a program that determines whether a user-input year is a leap year or not. A leap year is divisible by 4 and not divisible by 100, unless it is also divisible by 400.\n",
    "Implement a simple guessing game. Generate a random number between 1 and 100 and have the user guess the number. Provide feedback if their guess is too high or too low, and let them know when they've guessed correctly."
   ]
  },
  {
   "cell_type": "code",
   "execution_count": 2,
   "id": "c726d5e7",
   "metadata": {},
   "outputs": [
    {
     "name": "stdout",
     "output_type": "stream",
     "text": [
      "Enter first number:: 4\n",
      "Enter second number:: 5\n",
      "False\n"
     ]
    }
   ],
   "source": [
    "a = int(input(\"Enter first number:: \"))\n",
    "b = int(input(\"Enter second number:: \"))\n",
    "\n",
    "print(a > b)"
   ]
  },
  {
   "cell_type": "code",
   "execution_count": 3,
   "id": "67334fdc",
   "metadata": {},
   "outputs": [
    {
     "name": "stdout",
     "output_type": "stream",
     "text": [
      "Enter the year:: 2024\n",
      "Leap Year\n"
     ]
    }
   ],
   "source": [
    "year = int(input(\"Enter the year:: \"))\n",
    "\n",
    "if year%4 == 0 and (year%100 != 0 or year%400 == 0):\n",
    "    print(\"Leap Year\")\n",
    "else:\n",
    "    print(\"Not a Leap Year\")"
   ]
  },
  {
   "cell_type": "markdown",
   "id": "45e340e0",
   "metadata": {},
   "source": [
    "Implement a simple guessing game. Generate a random number between 1 and 100 and have the user guess the number. Provide feedback if their guess is too high or too low, and let them know when they've guessed correctly."
   ]
  },
  {
   "cell_type": "code",
   "execution_count": 28,
   "id": "f52b7d28",
   "metadata": {},
   "outputs": [
    {
     "name": "stdout",
     "output_type": "stream",
     "text": [
      "Enter the number :: 40\n",
      "you have 2 attempts only\n",
      "Enter the number :: 20\n",
      "you have 1 attempts only\n",
      "Enter the number :: 10\n",
      "you have 0 attempts only\n",
      "you lost the game\n"
     ]
    }
   ],
   "source": [
    "attempts = 3\n",
    "\n",
    "import random\n",
    "a = random.randint(1,100)\n",
    "\n",
    "while attempts > 0:\n",
    "    user = int(input(\"Enter the number :: \"))\n",
    "    if user == a:\n",
    "        print(\"Congratulations !! You won the Game..\")\n",
    "        break\n",
    "    else:\n",
    "        attempts = attempts - 1\n",
    "        print(f\"you have {attempts} attempts only\")\n",
    "        if attempts == 0:\n",
    "            print('you lost the game')\n",
    "            break\n",
    "    \n",
    "    "
   ]
  },
  {
   "cell_type": "markdown",
   "id": "1b682f14",
   "metadata": {},
   "source": [
    "### Task 3: Logical Operators"
   ]
  },
  {
   "cell_type": "markdown",
   "id": "2b86b00c",
   "metadata": {},
   "source": [
    "1.Write a program that checks whether a user-input number is positive and even using logical AND (and) operator."
   ]
  },
  {
   "cell_type": "code",
   "execution_count": 37,
   "id": "ee887a22",
   "metadata": {},
   "outputs": [
    {
     "name": "stdout",
     "output_type": "stream",
     "text": [
      "Enter the number:: 5\n",
      "The 5 num is not positive and not even\n"
     ]
    }
   ],
   "source": [
    "a = int(input(\"Enter the number:: \"))\n",
    "\n",
    "if (a > 0) and (a % 2) == 0:\n",
    "    print(f'The {a} num is positive and even')\n",
    "\n",
    "else:\n",
    "    print(f'The {a} num is not positive and not even')\n",
    "    "
   ]
  },
  {
   "cell_type": "markdown",
   "id": "4f53955e",
   "metadata": {},
   "source": [
    "2.Create a login system where you define a correct username and password. Ask the user for their input and compare it with the correct credentials using logical OR (or) operator. Provide access if either the username or password is correct."
   ]
  },
  {
   "cell_type": "code",
   "execution_count": 50,
   "id": "9e1d48a9",
   "metadata": {},
   "outputs": [
    {
     "name": "stdout",
     "output_type": "stream",
     "text": [
      "Enter your user name:: saikiran222@gmail.com\n",
      "Enter your password:: saikiran222\n",
      "Login Succesfully\n"
     ]
    }
   ],
   "source": [
    "uname = 'saikiran222@gmail.com'\n",
    "pswd = 'saikiran222'\n",
    "\n",
    "user_name = input(\"Enter your user name:: \")\n",
    "password = input(\"Enter your password:: \")\n",
    "\n",
    "if (user_name == uname) or (password == pswd):\n",
    "    print('Login Succesfully')\n",
    "else:\n",
    "    print(\"Enter valid username and password\")\n",
    "\n"
   ]
  },
  {
   "cell_type": "markdown",
   "id": "c11534e9",
   "metadata": {},
   "source": [
    "3.Implement a program that determines whether a given year is a leap year and divisible by 7 using logical NOT (not) operator."
   ]
  },
  {
   "cell_type": "code",
   "execution_count": 60,
   "id": "1ad2c5ba",
   "metadata": {},
   "outputs": [
    {
     "name": "stdout",
     "output_type": "stream",
     "text": [
      "enter the year:: 2023\n",
      "The 2023 year is not leap year\n"
     ]
    }
   ],
   "source": [
    "year = int(input('enter the year:: '))\n",
    "\n",
    "if not (year % 7 == 0):\n",
    "    print(f'The {year}  year is a leap year but Not divisible by 7')\n",
    "else:\n",
    "    print(f'The {year} year is not leap year')\n",
    "    "
   ]
  },
  {
   "cell_type": "markdown",
   "id": "418df8ee",
   "metadata": {},
   "source": [
    "### Task 4: Assignment Operators"
   ]
  },
  {
   "cell_type": "markdown",
   "id": "d4743c44",
   "metadata": {},
   "source": [
    "1.Write a program to calculate the square of a number using the exponentiation operator (**) and assign it back to the same variable."
   ]
  },
  {
   "cell_type": "code",
   "execution_count": 61,
   "id": "33cf1824",
   "metadata": {},
   "outputs": [],
   "source": [
    "a = 2"
   ]
  },
  {
   "cell_type": "code",
   "execution_count": 66,
   "id": "a407f264",
   "metadata": {},
   "outputs": [],
   "source": [
    "a **= 3"
   ]
  },
  {
   "cell_type": "code",
   "execution_count": 67,
   "id": "e5324283",
   "metadata": {},
   "outputs": [
    {
     "data": {
      "text/plain": [
       "8"
      ]
     },
     "execution_count": 67,
     "metadata": {},
     "output_type": "execute_result"
    }
   ],
   "source": [
    "a"
   ]
  },
  {
   "cell_type": "markdown",
   "id": "11bc81a4",
   "metadata": {},
   "source": [
    "2.Create a program that keeps track of the total score in a game. Prompt the user for their latest score and update the total score using the addition assignment operator (+=)."
   ]
  },
  {
   "cell_type": "code",
   "execution_count": 68,
   "id": "7083b377",
   "metadata": {},
   "outputs": [],
   "source": [
    "game = 56 "
   ]
  },
  {
   "cell_type": "code",
   "execution_count": 69,
   "id": "869ee2ab",
   "metadata": {},
   "outputs": [
    {
     "name": "stdout",
     "output_type": "stream",
     "text": [
      "81\n"
     ]
    }
   ],
   "source": [
    "game += 25\n",
    "print(game)"
   ]
  },
  {
   "cell_type": "markdown",
   "id": "aeb4e792",
   "metadata": {},
   "source": [
    "3.Implement a program to convert seconds into hours, minutes, and remaining seconds using both division and modulo operators, and then assign each value using assignment operators."
   ]
  },
  {
   "cell_type": "code",
   "execution_count": 70,
   "id": "1eeddfcf",
   "metadata": {},
   "outputs": [
    {
     "name": "stdout",
     "output_type": "stream",
     "text": [
      "Enter the number of seconds: 54210\n",
      "54210 seconds is equal to 15 hours, 3 minutes, and 30 seconds.\n"
     ]
    }
   ],
   "source": [
    "\n",
    "total_seconds = int(input(\"Enter the number of seconds: \"))\n",
    "\n",
    "\n",
    "\n",
    "hours = total_seconds // 3600\n",
    "minutes = (total_seconds % 3600) // 60\n",
    "remaining_seconds = total_seconds % 60\n",
    "\n",
    "\n",
    "print(f\"{total_seconds} seconds is equal to {hours} hours, {minutes} minutes, and {remaining_seconds} seconds.\")\n"
   ]
  },
  {
   "cell_type": "markdown",
   "id": "86a47329",
   "metadata": {},
   "source": [
    "### TASK-5 Bitwise OPerator"
   ]
  },
  {
   "cell_type": "markdown",
   "id": "e113a9d4",
   "metadata": {},
   "source": [
    "1.Write a program that performs a bitwise AND operation between two user-input numbers and displays the result."
   ]
  },
  {
   "cell_type": "code",
   "execution_count": 73,
   "id": "47b98e12",
   "metadata": {},
   "outputs": [
    {
     "name": "stdout",
     "output_type": "stream",
     "text": [
      "Enter the number:: 7\n",
      "Enter the number:: 8\n"
     ]
    },
    {
     "data": {
      "text/plain": [
       "0"
      ]
     },
     "execution_count": 73,
     "metadata": {},
     "output_type": "execute_result"
    }
   ],
   "source": [
    "a = int(input('Enter the number:: '))\n",
    "b = int(input('Enter the number:: '))\n",
    "\n",
    "a & b"
   ]
  },
  {
   "cell_type": "code",
   "execution_count": 78,
   "id": "38c2990e",
   "metadata": {},
   "outputs": [
    {
     "data": {
      "text/plain": [
       "'0b1110'"
      ]
     },
     "execution_count": 78,
     "metadata": {},
     "output_type": "execute_result"
    }
   ],
   "source": [
    "bin(14)"
   ]
  },
  {
   "cell_type": "code",
   "execution_count": 79,
   "id": "cad30119",
   "metadata": {},
   "outputs": [
    {
     "data": {
      "text/plain": [
       "10"
      ]
     },
     "execution_count": 79,
     "metadata": {},
     "output_type": "execute_result"
    }
   ],
   "source": [
    "10 & 14"
   ]
  },
  {
   "cell_type": "code",
   "execution_count": 81,
   "id": "dcb07710",
   "metadata": {},
   "outputs": [
    {
     "data": {
      "text/plain": [
       "12"
      ]
     },
     "execution_count": 81,
     "metadata": {},
     "output_type": "execute_result"
    }
   ],
   "source": [
    "14&45"
   ]
  },
  {
   "cell_type": "code",
   "execution_count": 82,
   "id": "c188c371",
   "metadata": {},
   "outputs": [
    {
     "data": {
      "text/plain": [
       "'0b1110'"
      ]
     },
     "execution_count": 82,
     "metadata": {},
     "output_type": "execute_result"
    }
   ],
   "source": [
    "bin(14)"
   ]
  },
  {
   "cell_type": "code",
   "execution_count": 83,
   "id": "e3793d6b",
   "metadata": {},
   "outputs": [
    {
     "data": {
      "text/plain": [
       "'0b101101'"
      ]
     },
     "execution_count": 83,
     "metadata": {},
     "output_type": "execute_result"
    }
   ],
   "source": [
    "bin(45)"
   ]
  },
  {
   "cell_type": "code",
   "execution_count": 87,
   "id": "7a9a0498",
   "metadata": {},
   "outputs": [
    {
     "data": {
      "text/plain": [
       "6"
      ]
     },
     "execution_count": 87,
     "metadata": {},
     "output_type": "execute_result"
    }
   ],
   "source": [
    "4|6"
   ]
  },
  {
   "cell_type": "code",
   "execution_count": 85,
   "id": "1be25d70",
   "metadata": {},
   "outputs": [
    {
     "data": {
      "text/plain": [
       "'0b100'"
      ]
     },
     "execution_count": 85,
     "metadata": {},
     "output_type": "execute_result"
    }
   ],
   "source": [
    "bin(4)"
   ]
  },
  {
   "cell_type": "code",
   "execution_count": 88,
   "id": "0ef03bc7",
   "metadata": {},
   "outputs": [
    {
     "data": {
      "text/plain": [
       "'0b110'"
      ]
     },
     "execution_count": 88,
     "metadata": {},
     "output_type": "execute_result"
    }
   ],
   "source": [
    "bin(6)"
   ]
  },
  {
   "cell_type": "code",
   "execution_count": null,
   "id": "a4652887",
   "metadata": {},
   "outputs": [],
   "source": []
  }
 ],
 "metadata": {
  "kernelspec": {
   "display_name": "Python 3 (ipykernel)",
   "language": "python",
   "name": "python3"
  },
  "language_info": {
   "codemirror_mode": {
    "name": "ipython",
    "version": 3
   },
   "file_extension": ".py",
   "mimetype": "text/x-python",
   "name": "python",
   "nbconvert_exporter": "python",
   "pygments_lexer": "ipython3",
   "version": "3.11.5"
  }
 },
 "nbformat": 4,
 "nbformat_minor": 5
}
