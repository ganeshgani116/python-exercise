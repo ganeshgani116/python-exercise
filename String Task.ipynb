{
 "cells": [
  {
   "cell_type": "markdown",
   "id": "b24867f7",
   "metadata": {},
   "source": [
    "1. Ask user to  enter a  website name and check whether it is valid or not(True/False)\n",
    "\n",
    "\n",
    "2. name = \"Innomatics\", course = \"Data Science\"\n",
    "   write python code in `different ways` to show output as :\n",
    "   `\"Hello World I am learning Data Science in Innomatics\"`\n",
    "   \n",
    "   \n",
    "3. Replace `Science` with `Analysis` in the above output.\n",
    "\n",
    "\n",
    "4. `string = '     Hello World I am learning Python in Innomatics   '`\n",
    "    a. How many characters are there in the string.\n",
    "    b. Slice only 'Python' from above string\n",
    "    c. Remove white spaces on both sides then find no.of characters in the string.\n",
    "    d. Convert the string in Upper case\n",
    "    \n",
    "    \n",
    "5. What is the index number of 'World' in above string.\n",
    "\n",
    "\n",
    "6. Split the string with respect to `whitespace`.after that `store` that splitted into a variable and find the `data type`of that variable.\n",
    "\n",
    "\n",
    "7. How many times 'a' is `repeated` in above string.\n",
    "\n",
    "8. "
   ]
  },
  {
   "cell_type": "markdown",
   "id": "94829cf9",
   "metadata": {},
   "source": [
    "###### 1"
   ]
  },
  {
   "cell_type": "code",
   "execution_count": 1,
   "id": "72b5e955",
   "metadata": {},
   "outputs": [
    {
     "name": "stdout",
     "output_type": "stream",
     "text": [
      "Enter the website name:: www.ramesh.com\n",
      "valid website\n"
     ]
    }
   ],
   "source": [
    "website_name = input('Enter the website name:: ')\n",
    "\n",
    "if website_name.startswith('www.') and website_name.endswith('.com'):\n",
    "    print('valid website')\n",
    "else:\n",
    "    print('Enter valid website')"
   ]
  },
  {
   "cell_type": "markdown",
   "id": "6683b590",
   "metadata": {},
   "source": [
    "###### 2"
   ]
  },
  {
   "cell_type": "code",
   "execution_count": 2,
   "id": "98c59192",
   "metadata": {},
   "outputs": [],
   "source": [
    "name = 'innomatics'\n",
    "course = 'Data science'\n"
   ]
  },
  {
   "cell_type": "code",
   "execution_count": 13,
   "id": "702f7d12",
   "metadata": {},
   "outputs": [
    {
     "name": "stdout",
     "output_type": "stream",
     "text": [
      "\"Hello world I am learning Data science in innomatics\"\n"
     ]
    }
   ],
   "source": [
    "a = print(f'\"Hello world I am learning {course} in {name}\"')\n"
   ]
  },
  {
   "cell_type": "markdown",
   "id": "3acb7e5e",
   "metadata": {},
   "source": [
    "###### 3"
   ]
  },
  {
   "cell_type": "code",
   "execution_count": 15,
   "id": "19355c76",
   "metadata": {},
   "outputs": [],
   "source": [
    "string = \"Hello world I am learning Data science in innomatics\""
   ]
  },
  {
   "cell_type": "code",
   "execution_count": 16,
   "id": "8da1685a",
   "metadata": {},
   "outputs": [
    {
     "data": {
      "text/plain": [
       "'Hello world I am learning Data analysis in innomatics'"
      ]
     },
     "execution_count": 16,
     "metadata": {},
     "output_type": "execute_result"
    }
   ],
   "source": [
    "string.replace('science','analysis')"
   ]
  },
  {
   "cell_type": "markdown",
   "id": "48b8cbca",
   "metadata": {},
   "source": [
    "###### 4"
   ]
  },
  {
   "cell_type": "code",
   "execution_count": 33,
   "id": "2846b627",
   "metadata": {},
   "outputs": [],
   "source": [
    "string = '     Hello World I am learning Python in Innomatics   '"
   ]
  },
  {
   "cell_type": "code",
   "execution_count": 34,
   "id": "e1e98784",
   "metadata": {},
   "outputs": [
    {
     "data": {
      "text/plain": [
       "54"
      ]
     },
     "execution_count": 34,
     "metadata": {},
     "output_type": "execute_result"
    }
   ],
   "source": [
    "len(string)"
   ]
  },
  {
   "cell_type": "code",
   "execution_count": 36,
   "id": "7a127802",
   "metadata": {},
   "outputs": [
    {
     "data": {
      "text/plain": [
       "31"
      ]
     },
     "execution_count": 36,
     "metadata": {},
     "output_type": "execute_result"
    }
   ],
   "source": [
    "string.index('P')"
   ]
  },
  {
   "cell_type": "code",
   "execution_count": 37,
   "id": "64aa97db",
   "metadata": {},
   "outputs": [
    {
     "data": {
      "text/plain": [
       "'Python'"
      ]
     },
     "execution_count": 37,
     "metadata": {},
     "output_type": "execute_result"
    }
   ],
   "source": [
    "string[31:37:1]"
   ]
  },
  {
   "cell_type": "code",
   "execution_count": 38,
   "id": "627f7d27",
   "metadata": {},
   "outputs": [
    {
     "data": {
      "text/plain": [
       "'Hello World I am learning Python in Innomatics'"
      ]
     },
     "execution_count": 38,
     "metadata": {},
     "output_type": "execute_result"
    }
   ],
   "source": [
    "string.strip()"
   ]
  },
  {
   "cell_type": "code",
   "execution_count": 39,
   "id": "b7d7b1eb",
   "metadata": {},
   "outputs": [
    {
     "data": {
      "text/plain": [
       "'     HELLO WORLD I AM LEARNING PYTHON IN INNOMATICS   '"
      ]
     },
     "execution_count": 39,
     "metadata": {},
     "output_type": "execute_result"
    }
   ],
   "source": [
    "string.upper()"
   ]
  },
  {
   "cell_type": "markdown",
   "id": "5281d65d",
   "metadata": {},
   "source": [
    "###### 5"
   ]
  },
  {
   "cell_type": "code",
   "execution_count": 40,
   "id": "20d8583a",
   "metadata": {},
   "outputs": [
    {
     "data": {
      "text/plain": [
       "11"
      ]
     },
     "execution_count": 40,
     "metadata": {},
     "output_type": "execute_result"
    }
   ],
   "source": [
    "string.index('World')"
   ]
  },
  {
   "cell_type": "markdown",
   "id": "868a75d1",
   "metadata": {},
   "source": [
    "###### 6"
   ]
  },
  {
   "cell_type": "code",
   "execution_count": 49,
   "id": "42e3602b",
   "metadata": {},
   "outputs": [
    {
     "name": "stdout",
     "output_type": "stream",
     "text": [
      "['Hello', 'World', 'I', 'am', 'learning', 'Python', 'in', 'Innomatics']\n"
     ]
    }
   ],
   "source": [
    "n = string.split()\n",
    "print(n)"
   ]
  },
  {
   "cell_type": "code",
   "execution_count": 50,
   "id": "bc4e59f7",
   "metadata": {},
   "outputs": [
    {
     "data": {
      "text/plain": [
       "list"
      ]
     },
     "execution_count": 50,
     "metadata": {},
     "output_type": "execute_result"
    }
   ],
   "source": [
    "type(n)"
   ]
  },
  {
   "cell_type": "markdown",
   "id": "cf9f86d1",
   "metadata": {},
   "source": [
    "###### 7"
   ]
  },
  {
   "cell_type": "code",
   "execution_count": 51,
   "id": "d296dd83",
   "metadata": {},
   "outputs": [
    {
     "data": {
      "text/plain": [
       "3"
      ]
     },
     "execution_count": 51,
     "metadata": {},
     "output_type": "execute_result"
    }
   ],
   "source": [
    "string.count('a')"
   ]
  },
  {
   "cell_type": "code",
   "execution_count": null,
   "id": "3cbb4fe6",
   "metadata": {},
   "outputs": [],
   "source": []
  }
 ],
 "metadata": {
  "kernelspec": {
   "display_name": "Python 3 (ipykernel)",
   "language": "python",
   "name": "python3"
  },
  "language_info": {
   "codemirror_mode": {
    "name": "ipython",
    "version": 3
   },
   "file_extension": ".py",
   "mimetype": "text/x-python",
   "name": "python",
   "nbconvert_exporter": "python",
   "pygments_lexer": "ipython3",
   "version": "3.11.5"
  }
 },
 "nbformat": 4,
 "nbformat_minor": 5
}
