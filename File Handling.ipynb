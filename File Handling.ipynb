{
 "cells": [
  {
   "cell_type": "markdown",
   "id": "fd99fb02",
   "metadata": {},
   "source": [
    "**Task 1**:\n",
    "1. Load the file 'about_python.txt'into your jupyter notebook.\n",
    "    a. Correct wrong statements about python fatures\n",
    "    b. How many charactaers present in the data\n",
    "    c. How many times 'Python' word is repeated.\n",
    "    d. after correcting all ..print complete valid features of the python.\n",
    "    \n",
    "**Task2**:\n",
    "\n",
    "2. Create a file 'File.txt'which expalains python file handling whatever you have learnt today(creating,reading,wring and appending...etc) in detail.That reaload the saved file(i.e File.txt) to jupyter notebook."
   ]
  },
  {
   "cell_type": "code",
   "execution_count": 11,
   "id": "643e581e",
   "metadata": {},
   "outputs": [
    {
     "data": {
      "text/plain": [
       "'C:\\\\Users\\\\saiki\\\\Tasks'"
      ]
     },
     "execution_count": 11,
     "metadata": {},
     "output_type": "execute_result"
    }
   ],
   "source": [
    "import os \n",
    "os.getcwd()"
   ]
  },
  {
   "cell_type": "markdown",
   "id": "63046198",
   "metadata": {},
   "source": [
    "### a"
   ]
  },
  {
   "cell_type": "code",
   "execution_count": 46,
   "id": "6659f078",
   "metadata": {},
   "outputs": [],
   "source": [
    "file = open('about_python.txt')"
   ]
  },
  {
   "cell_type": "code",
   "execution_count": 47,
   "id": "7d2fbdc3",
   "metadata": {},
   "outputs": [],
   "source": [
    "n = file.read()"
   ]
  },
  {
   "cell_type": "code",
   "execution_count": 48,
   "id": "b101215c",
   "metadata": {},
   "outputs": [
    {
     "name": "stdout",
     "output_type": "stream",
     "text": [
      "\n",
      "1. Python is an interpreted language.\n",
      "2.  Python uses braces {} to indicate code blocks.\n",
      "3. Python supports multiple inheritance.\n",
      "4.  The \"++\" operator is used for incrementing variables in Python.\n",
      "5. Python has a built-in garbage collector for automatic memory management.\n",
      "6.  Python's list comprehensions can only be used with numerical data.\n",
      "7. Python has a global interpreter lock (GIL) that can impact multi-threaded performance.\n",
      "8. In Python, indentation is optional, and you can use any spacing you prefer.\n",
      "9. Python has a rich set of standard libraries for various functionalities.\n",
      "10. Python is exclusively used for web development and cannot be used for other types of applications.\n",
      "\n",
      "\n"
     ]
    }
   ],
   "source": [
    "print(n)"
   ]
  },
  {
   "cell_type": "code",
   "execution_count": 54,
   "id": "6e7efba6",
   "metadata": {},
   "outputs": [],
   "source": [
    "line2 = n.replace('braces {}','indentation')"
   ]
  },
  {
   "cell_type": "code",
   "execution_count": 56,
   "id": "361b0057",
   "metadata": {},
   "outputs": [
    {
     "data": {
      "text/plain": [
       "'\\n1. Python is an interpreted language.\\n2.  Python uses indentation to indicate code blocks.\\n3. Python supports multiple inheritance.\\n4.  The \"++\" operator is used for incrementing variables in Python.\\n5. Python has a built-in garbage collector for automatic memory management.\\n6.  Python\\'s list comprehensions can only be used with numerical data.\\n7. Python has a global interpreter lock (GIL) that can impact multi-threaded performance.\\n8. In Python, indentation is optional, and you can use any spacing you prefer.\\n9. Python has a rich set of standard libraries for various functionalities.\\n10. Python is exclusively used for web development and cannot be used for other types of applications.\\n\\n'"
      ]
     },
     "execution_count": 56,
     "metadata": {},
     "output_type": "execute_result"
    }
   ],
   "source": [
    "line2"
   ]
  },
  {
   "cell_type": "code",
   "execution_count": 61,
   "id": "e57c77a5",
   "metadata": {},
   "outputs": [],
   "source": [
    "line4 = line2.replace('++','+=')"
   ]
  },
  {
   "cell_type": "code",
   "execution_count": 62,
   "id": "9105fe96",
   "metadata": {},
   "outputs": [
    {
     "data": {
      "text/plain": [
       "'\\n1. Python is an interpreted language.\\n2.  Python uses indentation to indicate code blocks.\\n3. Python supports multiple inheritance.\\n4.  The \"+=\" operator is used for incrementing variables in Python.\\n5. Python has a built-in garbage collector for automatic memory management.\\n6.  Python\\'s list comprehensions can only be used with numerical data.\\n7. Python has a global interpreter lock (GIL) that can impact multi-threaded performance.\\n8. In Python, indentation is optional, and you can use any spacing you prefer.\\n9. Python has a rich set of standard libraries for various functionalities.\\n10. Python is exclusively used for web development and cannot be used for other types of applications.\\n\\n'"
      ]
     },
     "execution_count": 62,
     "metadata": {},
     "output_type": "execute_result"
    }
   ],
   "source": [
    "line4"
   ]
  },
  {
   "cell_type": "code",
   "execution_count": 63,
   "id": "efe8864a",
   "metadata": {},
   "outputs": [],
   "source": [
    "line6 = line4.replace('only be used with numerical','uses any type')"
   ]
  },
  {
   "cell_type": "code",
   "execution_count": 64,
   "id": "d1dcc4e2",
   "metadata": {},
   "outputs": [
    {
     "data": {
      "text/plain": [
       "'\\n1. Python is an interpreted language.\\n2.  Python uses indentation to indicate code blocks.\\n3. Python supports multiple inheritance.\\n4.  The \"+=\" operator is used for incrementing variables in Python.\\n5. Python has a built-in garbage collector for automatic memory management.\\n6.  Python\\'s list comprehensions can uses any type data.\\n7. Python has a global interpreter lock (GIL) that can impact multi-threaded performance.\\n8. In Python, indentation is optional, and you can use any spacing you prefer.\\n9. Python has a rich set of standard libraries for various functionalities.\\n10. Python is exclusively used for web development and cannot be used for other types of applications.\\n\\n'"
      ]
     },
     "execution_count": 64,
     "metadata": {},
     "output_type": "execute_result"
    }
   ],
   "source": [
    "line6"
   ]
  },
  {
   "cell_type": "code",
   "execution_count": 65,
   "id": "704cbad8",
   "metadata": {},
   "outputs": [],
   "source": [
    "line8 = line6.replace('optional','compulsary')"
   ]
  },
  {
   "cell_type": "code",
   "execution_count": 66,
   "id": "1310d204",
   "metadata": {},
   "outputs": [
    {
     "data": {
      "text/plain": [
       "'\\n1. Python is an interpreted language.\\n2.  Python uses indentation to indicate code blocks.\\n3. Python supports multiple inheritance.\\n4.  The \"+=\" operator is used for incrementing variables in Python.\\n5. Python has a built-in garbage collector for automatic memory management.\\n6.  Python\\'s list comprehensions can uses any type data.\\n7. Python has a global interpreter lock (GIL) that can impact multi-threaded performance.\\n8. In Python, indentation is compulsary, and you can use any spacing you prefer.\\n9. Python has a rich set of standard libraries for various functionalities.\\n10. Python is exclusively used for web development and cannot be used for other types of applications.\\n\\n'"
      ]
     },
     "execution_count": 66,
     "metadata": {},
     "output_type": "execute_result"
    }
   ],
   "source": [
    "line8"
   ]
  },
  {
   "cell_type": "code",
   "execution_count": 67,
   "id": "6ecca52b",
   "metadata": {},
   "outputs": [],
   "source": [
    "line10 = line8.replace('any','2,4')"
   ]
  },
  {
   "cell_type": "code",
   "execution_count": 68,
   "id": "8fad163e",
   "metadata": {},
   "outputs": [
    {
     "data": {
      "text/plain": [
       "'\\n1. Python is an interpreted language.\\n2.  Python uses indentation to indicate code blocks.\\n3. Python supports multiple inheritance.\\n4.  The \"+=\" operator is used for incrementing variables in Python.\\n5. Python has a built-in garbage collector for automatic memory management.\\n6.  Python\\'s list comprehensions can uses 2,4 type data.\\n7. Python has a global interpreter lock (GIL) that can impact multi-threaded performance.\\n8. In Python, indentation is compulsary, and you can use 2,4 spacing you prefer.\\n9. Python has a rich set of standard libraries for various functionalities.\\n10. Python is exclusively used for web development and cannot be used for other types of applications.\\n\\n'"
      ]
     },
     "execution_count": 68,
     "metadata": {},
     "output_type": "execute_result"
    }
   ],
   "source": [
    "line10"
   ]
  },
  {
   "cell_type": "code",
   "execution_count": 69,
   "id": "6a55b1b5",
   "metadata": {},
   "outputs": [],
   "source": [
    "line12 = line10.replace('Python is exclusively used for web development and cannot be used for other types of applications','python is a versatile programming language that can be used for a wide range of applications beyond web development')"
   ]
  },
  {
   "cell_type": "code",
   "execution_count": 70,
   "id": "6fb7e8cb",
   "metadata": {},
   "outputs": [
    {
     "data": {
      "text/plain": [
       "'\\n1. Python is an interpreted language.\\n2.  Python uses indentation to indicate code blocks.\\n3. Python supports multiple inheritance.\\n4.  The \"+=\" operator is used for incrementing variables in Python.\\n5. Python has a built-in garbage collector for automatic memory management.\\n6.  Python\\'s list comprehensions can uses 2,4 type data.\\n7. Python has a global interpreter lock (GIL) that can impact multi-threaded performance.\\n8. In Python, indentation is compulsary, and you can use 2,4 spacing you prefer.\\n9. Python has a rich set of standard libraries for various functionalities.\\n10. python is a versatile programming language that can be used for a wide range of applications beyond web development.\\n\\n'"
      ]
     },
     "execution_count": 70,
     "metadata": {},
     "output_type": "execute_result"
    }
   ],
   "source": [
    "line12"
   ]
  },
  {
   "cell_type": "code",
   "execution_count": 71,
   "id": "e61bf869",
   "metadata": {},
   "outputs": [
    {
     "name": "stdout",
     "output_type": "stream",
     "text": [
      "\n",
      "1. Python is an interpreted language.\n",
      "2.  Python uses indentation to indicate code blocks.\n",
      "3. Python supports multiple inheritance.\n",
      "4.  The \"+=\" operator is used for incrementing variables in Python.\n",
      "5. Python has a built-in garbage collector for automatic memory management.\n",
      "6.  Python's list comprehensions can uses 2,4 type data.\n",
      "7. Python has a global interpreter lock (GIL) that can impact multi-threaded performance.\n",
      "8. In Python, indentation is compulsary, and you can use 2,4 spacing you prefer.\n",
      "9. Python has a rich set of standard libraries for various functionalities.\n",
      "10. python is a versatile programming language that can be used for a wide range of applications beyond web development.\n",
      "\n",
      "\n"
     ]
    }
   ],
   "source": [
    "print(line12)"
   ]
  },
  {
   "cell_type": "code",
   "execution_count": 82,
   "id": "a6485848",
   "metadata": {},
   "outputs": [],
   "source": [
    "file = open('about_python.txt','w')"
   ]
  },
  {
   "cell_type": "code",
   "execution_count": 83,
   "id": "b6d7c8ff",
   "metadata": {},
   "outputs": [],
   "source": [
    "file.writelines(line12)"
   ]
  },
  {
   "cell_type": "markdown",
   "id": "474a7710",
   "metadata": {},
   "source": [
    "## b"
   ]
  },
  {
   "cell_type": "code",
   "execution_count": 93,
   "id": "c14b184c",
   "metadata": {},
   "outputs": [],
   "source": [
    "file = open('about_python.txt','r')"
   ]
  },
  {
   "cell_type": "code",
   "execution_count": 94,
   "id": "e60a4134",
   "metadata": {},
   "outputs": [],
   "source": [
    "s = file.read()"
   ]
  },
  {
   "cell_type": "code",
   "execution_count": 95,
   "id": "0d3d388e",
   "metadata": {},
   "outputs": [
    {
     "data": {
      "text/plain": [
       "703"
      ]
     },
     "execution_count": 95,
     "metadata": {},
     "output_type": "execute_result"
    }
   ],
   "source": [
    "len(s)"
   ]
  },
  {
   "cell_type": "markdown",
   "id": "5d77b197",
   "metadata": {},
   "source": [
    "## c"
   ]
  },
  {
   "cell_type": "code",
   "execution_count": 97,
   "id": "c5e643d1",
   "metadata": {},
   "outputs": [
    {
     "data": {
      "text/plain": [
       "9"
      ]
     },
     "execution_count": 97,
     "metadata": {},
     "output_type": "execute_result"
    }
   ],
   "source": [
    "s.count('Python')"
   ]
  },
  {
   "cell_type": "markdown",
   "id": "6fb3bea3",
   "metadata": {},
   "source": [
    "## D"
   ]
  },
  {
   "cell_type": "code",
   "execution_count": 99,
   "id": "d1d1b5ba",
   "metadata": {},
   "outputs": [],
   "source": [
    "file = open('about_python.txt','r')"
   ]
  },
  {
   "cell_type": "code",
   "execution_count": 100,
   "id": "62bcf7d5",
   "metadata": {},
   "outputs": [
    {
     "name": "stdout",
     "output_type": "stream",
     "text": [
      "\n",
      "1. Python is an interpreted language.\n",
      "2.  Python uses indentation to indicate code blocks.\n",
      "3. Python supports multiple inheritance.\n",
      "4.  The \"+=\" operator is used for incrementing variables in Python.\n",
      "5. Python has a built-in garbage collector for automatic memory management.\n",
      "6.  Python's list comprehensions can uses 2,4 type data.\n",
      "7. Python has a global interpreter lock (GIL) that can impact multi-threaded performance.\n",
      "8. In Python, indentation is compulsary, and you can use 2,4 spacing you prefer.\n",
      "9. Python has a rich set of standard libraries for various functionalities.\n",
      "10. python is a versatile programming language that can be used for a wide range of applications beyond web development.\n",
      "\n",
      "\n"
     ]
    }
   ],
   "source": [
    "print(file.read())"
   ]
  },
  {
   "cell_type": "markdown",
   "id": "87cf6b0e",
   "metadata": {},
   "source": [
    "**Task2**:\n",
    "\n",
    "2. Create a file 'File.txt'which expalains python file handling whatever you have learnt today(creating,reading,wring and appending...etc) in detail.That reaload the saved file(i.e File.txt) to jupyter notebook."
   ]
  },
  {
   "cell_type": "code",
   "execution_count": 193,
   "id": "71b875fe",
   "metadata": {},
   "outputs": [],
   "source": [
    "file = open('File.txt','w')"
   ]
  },
  {
   "cell_type": "code",
   "execution_count": 194,
   "id": "2ceb1e93",
   "metadata": {},
   "outputs": [],
   "source": [
    "file.write('1.file handling is nothing but to creating,reading,writing,appending of an object')\n",
    "file.close()"
   ]
  },
  {
   "cell_type": "code",
   "execution_count": 195,
   "id": "ee39fdf0",
   "metadata": {},
   "outputs": [],
   "source": [
    "file = open('File.txt','r')"
   ]
  },
  {
   "cell_type": "code",
   "execution_count": 196,
   "id": "7bf20e0f",
   "metadata": {},
   "outputs": [
    {
     "data": {
      "text/plain": [
       "'1.file handling is nothing but to creating,reading,writing,appending of an object'"
      ]
     },
     "execution_count": 196,
     "metadata": {},
     "output_type": "execute_result"
    }
   ],
   "source": [
    "file.read()"
   ]
  },
  {
   "cell_type": "code",
   "execution_count": 197,
   "id": "fd82e06f",
   "metadata": {},
   "outputs": [],
   "source": [
    "file = open('File.txt','a')"
   ]
  },
  {
   "cell_type": "code",
   "execution_count": 198,
   "id": "cd3f2495",
   "metadata": {},
   "outputs": [],
   "source": [
    "file.write(' \\n2.x-create,w-write,r-read,a-append')\n",
    "file.close()"
   ]
  },
  {
   "cell_type": "code",
   "execution_count": 199,
   "id": "3f7dbff0",
   "metadata": {},
   "outputs": [],
   "source": [
    "file = open('File.txt','r')"
   ]
  },
  {
   "cell_type": "code",
   "execution_count": 200,
   "id": "6e008b73",
   "metadata": {},
   "outputs": [
    {
     "name": "stdout",
     "output_type": "stream",
     "text": [
      "1.file handling is nothing but to creating,reading,writing,appending of an object \n",
      "2.x-create,w-write,r-read,a-append\n"
     ]
    }
   ],
   "source": [
    "print(file.read())"
   ]
  },
  {
   "cell_type": "code",
   "execution_count": 201,
   "id": "2d4700f7",
   "metadata": {},
   "outputs": [],
   "source": [
    "file = open('File.txt','a')"
   ]
  },
  {
   "cell_type": "code",
   "execution_count": 202,
   "id": "3250961b",
   "metadata": {},
   "outputs": [],
   "source": [
    "file.write('\\nr+-read and write\\na+-append and write\\nw+-write and read')\n",
    "file.close()"
   ]
  },
  {
   "cell_type": "code",
   "execution_count": 203,
   "id": "5488f2be",
   "metadata": {},
   "outputs": [],
   "source": [
    "file = open('File.txt','r')"
   ]
  },
  {
   "cell_type": "code",
   "execution_count": 204,
   "id": "2e10fe7b",
   "metadata": {},
   "outputs": [
    {
     "name": "stdout",
     "output_type": "stream",
     "text": [
      "1.file handling is nothing but to creating,reading,writing,appending of an object \n",
      "2.x-create,w-write,r-read,a-append\n",
      "r+-read and write\n",
      "a+-append and write\n",
      "w+-write and read\n"
     ]
    }
   ],
   "source": [
    "print(file.read())"
   ]
  },
  {
   "cell_type": "code",
   "execution_count": 205,
   "id": "ffb67da0",
   "metadata": {},
   "outputs": [],
   "source": [
    "file = open('File.txt','a')"
   ]
  },
  {
   "cell_type": "code",
   "execution_count": 206,
   "id": "5e66c7bc",
   "metadata": {},
   "outputs": [],
   "source": [
    "file.write('\\nAttributes----> file.close(),file.open(),file.seekable(),file.readable(),file.writable()')\n",
    "file.close()"
   ]
  },
  {
   "cell_type": "code",
   "execution_count": 207,
   "id": "a638498c",
   "metadata": {},
   "outputs": [],
   "source": [
    "file = open('File.txt','r')"
   ]
  },
  {
   "cell_type": "code",
   "execution_count": 208,
   "id": "c05504d4",
   "metadata": {},
   "outputs": [
    {
     "name": "stdout",
     "output_type": "stream",
     "text": [
      "1.file handling is nothing but to creating,reading,writing,appending of an object \n",
      "2.x-create,w-write,r-read,a-append\n",
      "r+-read and write\n",
      "a+-append and write\n",
      "w+-write and read\n",
      "Attributes----> file.close(),file.open(),file.seekable(),file.readable(),file.writable()\n"
     ]
    }
   ],
   "source": [
    "print(file.read())"
   ]
  },
  {
   "cell_type": "code",
   "execution_count": 209,
   "id": "4b578fe1",
   "metadata": {},
   "outputs": [],
   "source": [
    "file.close()"
   ]
  },
  {
   "cell_type": "code",
   "execution_count": null,
   "id": "d7f951c6",
   "metadata": {},
   "outputs": [],
   "source": []
  }
 ],
 "metadata": {
  "kernelspec": {
   "display_name": "Python 3 (ipykernel)",
   "language": "python",
   "name": "python3"
  },
  "language_info": {
   "codemirror_mode": {
    "name": "ipython",
    "version": 3
   },
   "file_extension": ".py",
   "mimetype": "text/x-python",
   "name": "python",
   "nbconvert_exporter": "python",
   "pygments_lexer": "ipython3",
   "version": "3.11.5"
  }
 },
 "nbformat": 4,
 "nbformat_minor": 5
}
