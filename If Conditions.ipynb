{
 "cells": [
  {
   "cell_type": "markdown",
   "id": "21c2b7b2",
   "metadata": {},
   "source": [
    "\n",
    "**Task 1: Basic If-Else Statements**\n",
    "Write a Python program that takes an `integer as input` from the user and prints whether it is `multiple of 3 or not` using if-else statements.\n",
    "\n",
    "**Task 2: Nested If Statements**\n",
    "Create a program that `asks the user` for their `age` and `nationality`. Depending on their age and nationality, display a different message using nested if statements. For example, if they are under 18 and from the USA, display `\"You are a minor from the USA.\"`\n",
    "\n",
    "**Task 3: Grade Calculator**\n",
    "Write a program that takes a student's score as input and converts it to a letter grade (A, B, C, D, or F) using if-elif-else statements. Use the following grading scale:\n",
    "- A: 90-100\n",
    "- B: 80-89\n",
    "- C: 70-79\n",
    "- D: 60-69\n",
    "- F: Below 60\n",
    "\n",
    "**Task 4: Leap Year Checker**\n",
    "Create a Python program that checks if a given year is a leap year or not. Use conditional statements to determine whether the year is divisible by 4, 100, and 400 to decide if it's a leap year.\n",
    "\n",
    "**Task 5: BMI Calculator**\n",
    "Write a program that calculates a person's Body Mass Index (BMI) based on their height and weight. Then, use conditional statements to categorize the BMI as Underweight, Normal, Overweight, or Obese. Provide guidance on the healthy range for BMI.(use BMI Formula)\n",
    "\n",
    "**Task 6: Calculator with Menu**\n",
    "Build a simple calculator program that provides a menu with options for addition, subtraction, multiplication, and division. `Take user input for two numbers`and an `operation choice`. Use conditional statements to perform the selected operation and display the result.\n",
    "\n",
    "**Task 7: Temperature Converter**\n",
    "Write a program that `converts temperatures between Celsius and Fahrenhei`t. Allow the user to `choose` the conversion direction and input the temperature value. Use conditional statements to perform the conversion based on the `user's choice`.(Do with conversion formula)\n"
   ]
  },
  {
   "cell_type": "code",
   "execution_count": null,
   "id": "2e45b106",
   "metadata": {},
   "outputs": [],
   "source": []
  },
  {
   "cell_type": "markdown",
   "id": "65246e45",
   "metadata": {},
   "source": [
    "**Task 1: Basic If-Else Statements**\n",
    "Write a Python program that takes an `integer as input` from the user and prints whether it is `multiple of 3 or not` using if-else statements.\n"
   ]
  },
  {
   "cell_type": "code",
   "execution_count": 1,
   "id": "6ededa03",
   "metadata": {},
   "outputs": [
    {
     "name": "stdout",
     "output_type": "stream",
     "text": [
      "Enter the number:: 4\n",
      "it is not multiple of 3\n"
     ]
    }
   ],
   "source": [
    "n = int(input(\"Enter the number:: \"))\n",
    "\n",
    "if n % 3 == 0:\n",
    "    print(\"it is multiple of 3\")\n",
    "else:\n",
    "    print(\"it is not multiple of 3\")"
   ]
  },
  {
   "cell_type": "markdown",
   "id": "66d94d4b",
   "metadata": {},
   "source": [
    "**Task 2: Nested If Statements**\n",
    "Create a program that `asks the user` for their `age` and `nationality`. Depending on their age and nationality, display a different message using nested if statements. For example, if they are under 18 and from the USA, display `\"You are a minor from the USA.\"`\n"
   ]
  },
  {
   "cell_type": "code",
   "execution_count": 10,
   "id": "c298c165",
   "metadata": {},
   "outputs": [
    {
     "name": "stdout",
     "output_type": "stream",
     "text": [
      "Enter the age:: 18\n",
      "Enter the nation:: india\n",
      "You are a major from the INDIA\n"
     ]
    }
   ],
   "source": [
    "age = int(input(\"Enter the age:: \"))\n",
    "nationality = input(\"Enter the nation:: \")\n",
    "\n",
    "if age>=18:\n",
    "    if nationality == 'india':\n",
    "        print(\"You are a major from the INDIA\")\n",
    "else:\n",
    "    print(f'you are a minor from the {nationality}')"
   ]
  },
  {
   "cell_type": "markdown",
   "id": "777dd07d",
   "metadata": {},
   "source": [
    "**Task 3: Grade Calculator**\n",
    "Write a program that takes a student's score as input and converts it to a letter grade (A, B, C, D, or F) using if-elif-else statements. Use the following grading scale:\n",
    "- A: 90-100\n",
    "- B: 80-89\n",
    "- C: 70-79\n",
    "- D: 60-69\n",
    "- F: Below 60\n"
   ]
  },
  {
   "cell_type": "code",
   "execution_count": 19,
   "id": "223ed8ea",
   "metadata": {},
   "outputs": [
    {
     "name": "stdout",
     "output_type": "stream",
     "text": [
      "Enter the score:: 140\n",
      "enter valid marks\n"
     ]
    }
   ],
   "source": [
    "score = int(input(\"Enter the score:: \"))\n",
    "\n",
    "if (score >= 90) and (score <= 100):\n",
    "    print(' A--grade')\n",
    "elif (score >= 80) and (score <= 89):\n",
    "    print(' B--grade')\n",
    "elif (score >= 70) and (score <= 79):\n",
    "    print(' C--grade')\n",
    "elif (score >= 60) and (score <= 69):\n",
    "    print(\" D--grade\")\n",
    "elif (score > 100) or (score < 0):\n",
    "    print(\"enter valid marks\")\n",
    "else:\n",
    "    print(\" F--fail\")"
   ]
  },
  {
   "cell_type": "markdown",
   "id": "983ae105",
   "metadata": {},
   "source": [
    "**Task 4: Leap Year Checker**\n",
    "Create a Python program that checks if a given year is a leap year or not. Use conditional statements to determine whether the year is divisible by 4, 100, and 400 to decide if it's a leap year.\n"
   ]
  },
  {
   "cell_type": "code",
   "execution_count": 24,
   "id": "a8eb84e0",
   "metadata": {},
   "outputs": [
    {
     "name": "stdout",
     "output_type": "stream",
     "text": [
      "Enter the year:: 2028\n",
      "It is leap year\n"
     ]
    }
   ],
   "source": [
    "year = int(input(\"Enter the year:: \"))\n",
    "\n",
    "if year % 4 == 0 or (year % 100 == 0 and year % 400 == 0):\n",
    "    print(\"It is leap year\")\n",
    "else:\n",
    "    print('It is not a leap year')"
   ]
  },
  {
   "cell_type": "markdown",
   "id": "8aa9fb64",
   "metadata": {},
   "source": [
    "**Task 5: BMI Calculator**\n",
    "Write a program that calculates a person's Body Mass Index (BMI) based on their height and weight. Then, use conditional statements to categorize the BMI as Underweight, Normal, Overweight, or Obese. Provide guidance on the healthy range for BMI.(use BMI Formula)\n"
   ]
  },
  {
   "cell_type": "code",
   "execution_count": 29,
   "id": "c320e75f",
   "metadata": {},
   "outputs": [
    {
     "name": "stdout",
     "output_type": "stream",
     "text": [
      "Enter the height:: 164\n",
      "Enter the weight:: 70\n",
      "under weight\n"
     ]
    }
   ],
   "source": [
    "height = int(input(\"Enter the height:: \"))\n",
    "weight = int(input(\"Enter the weight:: \"))\n",
    "\n",
    "BMI = weight/height**2\n",
    "\n",
    "if BMI > 30:\n",
    "    print(\"obese\")\n",
    "elif (BMI >= 25) and (BMI <= 29.9):\n",
    "    print('Over weight')\n",
    "elif (BMI >= 18.5) and (BMI <= 24.9):\n",
    "    print('Normal')\n",
    "else:\n",
    "    print(\"under weight\")"
   ]
  },
  {
   "cell_type": "markdown",
   "id": "c129ef2a",
   "metadata": {},
   "source": [
    "\n",
    "**Task 6: Calculator with Menu**\n",
    "Build a simple calculator program that provides a menu with options for addition, subtraction, multiplication, and division. `Take user input for two numbers`and an `operation choice`. Use conditional statements to perform the selected operation and display the result."
   ]
  },
  {
   "cell_type": "code",
   "execution_count": 33,
   "id": "3d81c44d",
   "metadata": {},
   "outputs": [
    {
     "name": "stdout",
     "output_type": "stream",
     "text": [
      "enter your choice(1,2,3,4):: 4\n",
      "enter first number:: 5\n",
      "enter second number:: 2\n",
      "The division of two numbers:: 2.5\n"
     ]
    }
   ],
   "source": [
    "choice = int(input(\"enter your choice(1,2,3,4):: \"))\n",
    "\n",
    "a = int(input(\"enter first number:: \"))\n",
    "b = int(input(\"enter second number:: \"))\n",
    "\n",
    "if choice == 1:\n",
    "    addition = a + b\n",
    "    print(\"The addition of two numbers::\",addition)\n",
    "elif choice == 2:\n",
    "    substraction = a - b\n",
    "    print('The substraction of two numbers:: ',substraction)\n",
    "elif choice == 3:\n",
    "    multiplication = a * b\n",
    "    print('The multiplication of two numbers:: ',multiplication)\n",
    "elif choice == 4:\n",
    "    division = a / b\n",
    "    print('The division of two numbers::',division)\n",
    "else:\n",
    "    print(\"Enter valid choice\")"
   ]
  },
  {
   "cell_type": "markdown",
   "id": "458c4175",
   "metadata": {},
   "source": [
    "**Task 7: Temperature Converter**\n",
    "Write a program that `converts temperatures between Celsius and Fahrenheit. Allow the user to `choose` the conversion direction and input the temperature value. Use conditional statements to perform the conversion based on the `user's choice`.(Do with conversion formula)\n"
   ]
  },
  {
   "cell_type": "code",
   "execution_count": 34,
   "id": "361f9d76",
   "metadata": {},
   "outputs": [
    {
     "name": "stdout",
     "output_type": "stream",
     "text": [
      "enter your choice(1,2):: 1\n",
      "enter the temp:: 20\n",
      "The temp is converts to fahrenheit:  68.0\n"
     ]
    }
   ],
   "source": [
    "choice = int(input(\"enter your choice(1,2):: \"))\n",
    "\n",
    "\n",
    "if choice == 1:\n",
    "    c = int(input(\"enter the temp:: \"))\n",
    "    f = (c*9/5)+32\n",
    "    print(\"The temp is converts to fahrenheit: \",f)\n",
    "elif choice == 2:\n",
    "    f = int(input(\"Enter the temp:: \"))\n",
    "    c = (f-32)*5/9\n",
    "else:\n",
    "    print('enter valid choice')\n",
    "    "
   ]
  },
  {
   "cell_type": "code",
   "execution_count": null,
   "id": "532ebf58",
   "metadata": {},
   "outputs": [],
   "source": []
  },
  {
   "cell_type": "code",
   "execution_count": null,
   "id": "d503757e",
   "metadata": {},
   "outputs": [],
   "source": []
  }
 ],
 "metadata": {
  "kernelspec": {
   "display_name": "Python 3 (ipykernel)",
   "language": "python",
   "name": "python3"
  },
  "language_info": {
   "codemirror_mode": {
    "name": "ipython",
    "version": 3
   },
   "file_extension": ".py",
   "mimetype": "text/x-python",
   "name": "python",
   "nbconvert_exporter": "python",
   "pygments_lexer": "ipython3",
   "version": "3.11.5"
  }
 },
 "nbformat": 4,
 "nbformat_minor": 5
}
