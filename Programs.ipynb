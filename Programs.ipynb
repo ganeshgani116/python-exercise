{
 "cells": [
  {
   "cell_type": "markdown",
   "id": "985dd64b",
   "metadata": {},
   "source": [
    "Task 1: **Leap Year Checker**\n",
    "\n",
    "Write a program that takes a year as input and determines whether it is a leap year or not. A leap year is a year that is divisible by 4, but not divisible by 100, unless it is also divisible by 400. Display an appropriate message indicating whether the year is a leap year or not.\n",
    "\n",
    "Task 2: **Grade Calculator**\n",
    "\n",
    "Write a program that takes a student's score as input (out of 100) and determines their grade based on the following conditions:\n",
    "If the score is 90 or above, the grade is 'A'.\n",
    "If the score is between 80 and 89, the grade is 'B'.\n",
    "If the score is between 70 and 79, the grade is 'C'.\n",
    "If the score is between 60 and 69, the grade is 'D'. If the score is below 60, the grade is 'F'.\n",
    "Display the grade corresponding to the entered score.\n",
    "\n",
    "Task 3: **Calculator**\n",
    "Write a program that takes two numbers as input and performs a mathematical operation (+, -, *, /) based on the user's choice. Use a conditional statement to determine the operation to be performed. Display the result of the calculation.\n",
    "\n",
    "Task 4: **Reverse String**\n",
    "Write a Python function to reverse a string.\n",
    "\n",
    "Task 5: **Palindrome**\n",
    "Write a Python function that checks whether a passed string is a palindrome or not.\n",
    "\n",
    "Task 6: **Counting**\n",
    "Write a Python function that accepts a string and counts the number of upper and lower case letters.\n",
    "\n"
   ]
  },
  {
   "cell_type": "code",
   "execution_count": null,
   "id": "9854c258",
   "metadata": {},
   "outputs": [],
   "source": []
  },
  {
   "cell_type": "code",
   "execution_count": null,
   "id": "936dbf41",
   "metadata": {},
   "outputs": [],
   "source": []
  },
  {
   "cell_type": "markdown",
   "id": "dda255e8",
   "metadata": {},
   "source": [
    "Task 1: **Leap Year Checker**\n",
    "\n",
    "Write a program that takes a year as input and determines whether it is a leap year or not. A leap year is a year that is divisible by 4, but not divisible by 100, unless it is also divisible by 400. Display an appropriate message indicating whether the year is a leap year or not.\n"
   ]
  },
  {
   "cell_type": "code",
   "execution_count": 2,
   "id": "54e27d99",
   "metadata": {},
   "outputs": [
    {
     "name": "stdout",
     "output_type": "stream",
     "text": [
      "Enter the year:: 2024\n",
      "This is Leap Year\n"
     ]
    }
   ],
   "source": [
    "def fun(n):\n",
    "    if n % 4 == 0 and (n % 100 !=0 or n % 400 == 0):\n",
    "        print('This is Leap Year')\n",
    "        \n",
    "    else:\n",
    "        print(\"This is not a leap Year\")\n",
    "        \n",
    "n = int(input('Enter the year:: '))\n",
    "\n",
    "fun(n)"
   ]
  },
  {
   "cell_type": "code",
   "execution_count": null,
   "id": "946535d7",
   "metadata": {},
   "outputs": [],
   "source": []
  },
  {
   "cell_type": "markdown",
   "id": "e845496d",
   "metadata": {},
   "source": [
    "Task 2: **Grade Calculator**\n",
    "\n",
    "Write a program that takes a student's score as input (out of 100) and determines their grade based on the following conditions:\n",
    "If the score is 90 or above, the grade is 'A'.\n",
    "If the score is between 80 and 89, the grade is 'B'.\n",
    "If the score is between 70 and 79, the grade is 'C'.\n",
    "If the score is between 60 and 69, the grade is 'D'. If the score is below 60, the grade is 'F'.\n",
    "Display the grade corresponding to the entered score.\n"
   ]
  },
  {
   "cell_type": "code",
   "execution_count": 6,
   "id": "88f9f917",
   "metadata": {},
   "outputs": [
    {
     "name": "stdout",
     "output_type": "stream",
     "text": [
      "Enter the score:: -4\n",
      "Enter valid marks\n"
     ]
    }
   ],
   "source": [
    "score = int(input(\"Enter the score:: \"))\n",
    "\n",
    "if score>=90 and score <=100:\n",
    "    print('A grade')\n",
    "elif score>=80 and score <=89:\n",
    "    print('B grade')\n",
    "elif score>=70 and score <=79:\n",
    "    print('C grade')\n",
    "elif score>=60 and score <=69:\n",
    "    print('D grade')\n",
    "elif score>=50 and score <=59:\n",
    "    print('E grade')\n",
    "elif score > 100 or score < 0 :\n",
    "    print(\"Enter valid marks\")\n",
    "    \n",
    "else:\n",
    "    print('Fail')\n"
   ]
  },
  {
   "cell_type": "code",
   "execution_count": null,
   "id": "ceb6ef21",
   "metadata": {},
   "outputs": [],
   "source": []
  },
  {
   "cell_type": "markdown",
   "id": "a9bec330",
   "metadata": {},
   "source": [
    "Task 3: **Calculator**\n",
    "Write a program that takes two numbers as input and performs a mathematical operation (+, -, *, /) based on the user's choice. Use a conditional statement to determine the operation to be performed. Display the result of the calculation."
   ]
  },
  {
   "cell_type": "code",
   "execution_count": 8,
   "id": "c7c878d9",
   "metadata": {},
   "outputs": [
    {
     "name": "stdout",
     "output_type": "stream",
     "text": [
      "Enter the choice(1,2,3,4):: 4\n",
      "enter the first number:: 4\n",
      "Enter the second number:: 4\n",
      "The division od given numbers is : 1.0\n"
     ]
    }
   ],
   "source": [
    "choice = int(input('Enter the choice(1,2,3,4):: '))\n",
    "num1 = int(input('enter the first number:: '))\n",
    "num2 = int(input(\"Enter the second number:: \"))\n",
    "\n",
    "if choice == 1:\n",
    "    num = num1 + num2\n",
    "    print('The sum of given numbers is :',num)\n",
    "elif choice == 2:\n",
    "    num = num1 - num2\n",
    "    print('The substraction of given numbers is :',num)\n",
    "elif choice == 3:\n",
    "    num = num1 * num2\n",
    "    print('The multiplication of given numbers is :',num)\n",
    "elif choice == 4:\n",
    "    num = num1 / num2\n",
    "    print('The division od given numbers is :',num)\n",
    "else:\n",
    "    print('Invalid choice')\n",
    "    "
   ]
  },
  {
   "cell_type": "code",
   "execution_count": null,
   "id": "9175b9b7",
   "metadata": {},
   "outputs": [],
   "source": []
  },
  {
   "cell_type": "markdown",
   "id": "1c981156",
   "metadata": {},
   "source": [
    "Task 4: **Reverse String**\n",
    "Write a Python function to reverse a string.\n"
   ]
  },
  {
   "cell_type": "code",
   "execution_count": 15,
   "id": "882c9b6f",
   "metadata": {},
   "outputs": [
    {
     "name": "stdout",
     "output_type": "stream",
     "text": [
      "Enter the name:: sai\n",
      "ias\n"
     ]
    }
   ],
   "source": [
    "name = input('Enter the name:: ')\n",
    "\n",
    "a = name[::-1]\n",
    "\n",
    "print(a)"
   ]
  },
  {
   "cell_type": "code",
   "execution_count": null,
   "id": "187c1ad3",
   "metadata": {},
   "outputs": [],
   "source": []
  },
  {
   "cell_type": "markdown",
   "id": "065f9838",
   "metadata": {},
   "source": [
    "Task 5: **Palindrome**\n",
    "Write a Python function that checks whether a passed string is a palindrome or not.\n"
   ]
  },
  {
   "cell_type": "code",
   "execution_count": 18,
   "id": "c831587d",
   "metadata": {},
   "outputs": [
    {
     "name": "stdout",
     "output_type": "stream",
     "text": [
      "Enter the name:: malayalam\n",
      "It is palindrome\n"
     ]
    }
   ],
   "source": [
    "name = input('Enter the name:: ')\n",
    "\n",
    "if name == name[::-1]:\n",
    "    print(\"It is palindrome\")\n",
    "else:\n",
    "    print(\"It is not a palindrome\")"
   ]
  },
  {
   "cell_type": "code",
   "execution_count": null,
   "id": "af4efdd9",
   "metadata": {},
   "outputs": [],
   "source": []
  },
  {
   "cell_type": "markdown",
   "id": "125d9126",
   "metadata": {},
   "source": [
    "Task 6: **Counting**\n",
    "Write a Python function that accepts a string and counts the number of upper and lower case letters.\n",
    "\n"
   ]
  },
  {
   "cell_type": "code",
   "execution_count": 1,
   "id": "232410f8",
   "metadata": {},
   "outputs": [
    {
     "name": "stdout",
     "output_type": "stream",
     "text": [
      "Enter the name:: saikIRaN\n",
      "The upper case letters are: 3\n",
      "The lower case letters are: 5\n"
     ]
    }
   ],
   "source": [
    "name = input('Enter the name:: ')\n",
    "upper_case = 0\n",
    "lower_case = 0\n",
    "for i in str(name):\n",
    "    if i.isupper():\n",
    "        upper_case = upper_case + 1\n",
    "        \n",
    "    else:\n",
    "        i.islower()\n",
    "        lower_case = lower_case + 1\n",
    "       \n",
    "print('The upper case letters are:',upper_case)\n",
    "print('The lower case letters are:',lower_case)\n",
    "\n"
   ]
  },
  {
   "cell_type": "code",
   "execution_count": null,
   "id": "83512ff0",
   "metadata": {},
   "outputs": [],
   "source": []
  }
 ],
 "metadata": {
  "kernelspec": {
   "display_name": "Python 3 (ipykernel)",
   "language": "python",
   "name": "python3"
  },
  "language_info": {
   "codemirror_mode": {
    "name": "ipython",
    "version": 3
   },
   "file_extension": ".py",
   "mimetype": "text/x-python",
   "name": "python",
   "nbconvert_exporter": "python",
   "pygments_lexer": "ipython3",
   "version": "3.11.5"
  }
 },
 "nbformat": 4,
 "nbformat_minor": 5
}
