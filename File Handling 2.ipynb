{
 "cells": [
  {
   "cell_type": "markdown",
   "id": "8dc8a778",
   "metadata": {},
   "source": [
    "\n",
    "`use context manager`\n",
    "\n",
    "**Create a file**\n",
    "Write a Python program that creates a text file named \"data.txt\" and add data about python programming (should contain at least 5 lines)\n",
    "\n",
    "**Read and Display File Contents**\n",
    "Write a Python program that reads a text file named \"data.txt\" and displays its contents on the screen.\n",
    "\n",
    "**Count Words in a File**\n",
    "Write a Python program that reads a text file named \"data.txt\" and counts the total number of words in the file. Display the word count on the screen.\n",
    "\n",
    "**Search and Replace**\n",
    "Create a Python program that reads a text file named \"data.txt\" and asks the user to enter a word to search for. If the word is found in the file, replace all occurrences of the word with a new word provided by the user.\n",
    "\n",
    "**Append to a File**\n",
    "Write a Python program that prompts the user to enter a sentence. Append this sentence to an existing file named \"notes.txt\". Make sure the newly added sentence starts on a new line.\n",
    "\n",
    "\n"
   ]
  },
  {
   "cell_type": "code",
   "execution_count": null,
   "id": "19c2ecaa",
   "metadata": {},
   "outputs": [],
   "source": []
  },
  {
   "cell_type": "markdown",
   "id": "a4e50172",
   "metadata": {},
   "source": [
    "**Create a file**\n",
    "Write a Python program that creates a text file named \"data.txt\" and add data about python programming (should contain at least 5 lines)\n"
   ]
  },
  {
   "cell_type": "code",
   "execution_count": 1,
   "id": "097bc96d",
   "metadata": {},
   "outputs": [],
   "source": [
    "file = open('data.txt','x')"
   ]
  },
  {
   "cell_type": "code",
   "execution_count": 33,
   "id": "3b1ba4dc",
   "metadata": {},
   "outputs": [],
   "source": [
    "file = open('data.txt','w')"
   ]
  },
  {
   "cell_type": "code",
   "execution_count": 34,
   "id": "192b205a",
   "metadata": {},
   "outputs": [],
   "source": [
    "file.write('1.python is object-oriented language.')\n",
    "file.close()"
   ]
  },
  {
   "cell_type": "code",
   "execution_count": 35,
   "id": "161a0c77",
   "metadata": {},
   "outputs": [],
   "source": [
    "file = open('data.txt','r')"
   ]
  },
  {
   "cell_type": "code",
   "execution_count": 36,
   "id": "cfdde6bf",
   "metadata": {},
   "outputs": [
    {
     "data": {
      "text/plain": [
       "'1.python is object-oriented language.'"
      ]
     },
     "execution_count": 36,
     "metadata": {},
     "output_type": "execute_result"
    }
   ],
   "source": [
    "file.read()"
   ]
  },
  {
   "cell_type": "code",
   "execution_count": 37,
   "id": "b94f2b22",
   "metadata": {},
   "outputs": [],
   "source": [
    "file = open('data.txt','a')"
   ]
  },
  {
   "cell_type": "code",
   "execution_count": 38,
   "id": "f6574a9c",
   "metadata": {},
   "outputs": [],
   "source": [
    "file.write('\\n2.python is general purpose language.')\n",
    "file.close()"
   ]
  },
  {
   "cell_type": "code",
   "execution_count": 39,
   "id": "d96bd2a8",
   "metadata": {},
   "outputs": [],
   "source": [
    "file = open('data.txt','r')"
   ]
  },
  {
   "cell_type": "code",
   "execution_count": 40,
   "id": "f7781b08",
   "metadata": {},
   "outputs": [
    {
     "name": "stdout",
     "output_type": "stream",
     "text": [
      "1.python is object-oriented language.\n",
      "2.python is general purpose language.\n"
     ]
    }
   ],
   "source": [
    "print(file.read())"
   ]
  },
  {
   "cell_type": "code",
   "execution_count": 41,
   "id": "cd4bf978",
   "metadata": {},
   "outputs": [],
   "source": [
    "file = open('data.txt','a')"
   ]
  },
  {
   "cell_type": "code",
   "execution_count": 42,
   "id": "385b586e",
   "metadata": {},
   "outputs": [],
   "source": [
    "file.write('\\n3.dynamic type.\\n4.open source.\\n5.interpreter language')\n",
    "file.close()"
   ]
  },
  {
   "cell_type": "markdown",
   "id": "ecceab59",
   "metadata": {},
   "source": [
    "**Read and Display File Contents**\n",
    "Write a Python program that reads a text file named \"data.txt\" and displays its contents on the screen.\n"
   ]
  },
  {
   "cell_type": "code",
   "execution_count": 47,
   "id": "bb465774",
   "metadata": {},
   "outputs": [],
   "source": [
    "file = open('data.txt','r')"
   ]
  },
  {
   "cell_type": "code",
   "execution_count": 48,
   "id": "92f4c885",
   "metadata": {},
   "outputs": [],
   "source": [
    "n = file.read()"
   ]
  },
  {
   "cell_type": "code",
   "execution_count": 49,
   "id": "c19d126e",
   "metadata": {},
   "outputs": [
    {
     "name": "stdout",
     "output_type": "stream",
     "text": [
      "1.python is object-oriented language.\n",
      "2.python is general purpose language.\n",
      "3.dynamic type.\n",
      "4.open source.\n",
      "5.interpreter language\n"
     ]
    }
   ],
   "source": [
    "print(n)"
   ]
  },
  {
   "cell_type": "markdown",
   "id": "a4d1c033",
   "metadata": {},
   "source": [
    "**Count Words in a File**\n",
    "Write a Python program that reads a text file named \"data.txt\" and counts the total number of words in the file. Display the word count on the screen.\n"
   ]
  },
  {
   "cell_type": "code",
   "execution_count": 50,
   "id": "9a0c9dc9",
   "metadata": {},
   "outputs": [
    {
     "data": {
      "text/plain": [
       "129"
      ]
     },
     "execution_count": 50,
     "metadata": {},
     "output_type": "execute_result"
    }
   ],
   "source": [
    "len(n)"
   ]
  },
  {
   "cell_type": "markdown",
   "id": "2771fd89",
   "metadata": {},
   "source": [
    "**Search and Replace**\n",
    "Create a Python program that reads a text file named \"data.txt\" and asks the user to enter a word to search for. If the word is found in the file, replace all occurrences of the word with a new word provided by the user.\n"
   ]
  },
  {
   "cell_type": "code",
   "execution_count": 53,
   "id": "ca48927d",
   "metadata": {},
   "outputs": [],
   "source": [
    "l = n.replace('python','Python')"
   ]
  },
  {
   "cell_type": "code",
   "execution_count": 59,
   "id": "1a923049",
   "metadata": {},
   "outputs": [
    {
     "name": "stdout",
     "output_type": "stream",
     "text": [
      "1.Python is object-oriented language.\n",
      "2.Python is general purpose language.\n",
      "3.dynamic type.\n",
      "4.open source.\n",
      "5.interpreter language\n"
     ]
    }
   ],
   "source": [
    "print(l)"
   ]
  },
  {
   "cell_type": "code",
   "execution_count": 56,
   "id": "7f96ba20",
   "metadata": {},
   "outputs": [],
   "source": [
    "s = l.replace('dynamic','Dynamic')"
   ]
  },
  {
   "cell_type": "code",
   "execution_count": 60,
   "id": "4a2fe587",
   "metadata": {},
   "outputs": [
    {
     "name": "stdout",
     "output_type": "stream",
     "text": [
      "1.Python is object-oriented language.\n",
      "2.Python is general purpose language.\n",
      "3.Dynamic type.\n",
      "4.open source.\n",
      "5.interpreter language\n"
     ]
    }
   ],
   "source": [
    "print(s)"
   ]
  },
  {
   "cell_type": "code",
   "execution_count": 62,
   "id": "871de4ad",
   "metadata": {},
   "outputs": [],
   "source": [
    "file = open('data.txt','w')"
   ]
  },
  {
   "cell_type": "code",
   "execution_count": 63,
   "id": "ff808c67",
   "metadata": {},
   "outputs": [],
   "source": [
    "file.writelines(s)"
   ]
  },
  {
   "cell_type": "code",
   "execution_count": 67,
   "id": "feb4ae13",
   "metadata": {},
   "outputs": [],
   "source": [
    "file = open('data.txt','r')"
   ]
  },
  {
   "cell_type": "code",
   "execution_count": 68,
   "id": "9ac868a9",
   "metadata": {},
   "outputs": [
    {
     "name": "stdout",
     "output_type": "stream",
     "text": [
      "1.Python is object-oriented language.\n",
      "2.Python is general purpose language.\n",
      "3.Dynamic type.\n",
      "4.open source.\n",
      "5.interpreter language\n"
     ]
    }
   ],
   "source": [
    "print(file.read())"
   ]
  },
  {
   "cell_type": "markdown",
   "id": "856d2358",
   "metadata": {},
   "source": [
    "**Append to a File**\n",
    "Write a Python program that prompts the user to enter a sentence. Append this sentence to an existing file named \"notes.txt\". Make sure the newly added sentence starts on a new line.\n"
   ]
  },
  {
   "cell_type": "code",
   "execution_count": 74,
   "id": "75e91c4c",
   "metadata": {},
   "outputs": [],
   "source": [
    "file = open('notes.txt')"
   ]
  },
  {
   "cell_type": "code",
   "execution_count": 75,
   "id": "ae706e02",
   "metadata": {},
   "outputs": [
    {
     "name": "stdout",
     "output_type": "stream",
     "text": [
      "1.my name is NUNE SAIKIRAN\n",
      "2.learning DATA SCIENCE course\n"
     ]
    }
   ],
   "source": [
    "print(file.read())"
   ]
  },
  {
   "cell_type": "code",
   "execution_count": 83,
   "id": "5bd1510d",
   "metadata": {},
   "outputs": [],
   "source": [
    "file = open('notes.txt','a')"
   ]
  },
  {
   "cell_type": "code",
   "execution_count": 85,
   "id": "e01205ad",
   "metadata": {},
   "outputs": [
    {
     "name": "stdout",
     "output_type": "stream",
     "text": [
      "enter the sentence:: iam from karimnagar\n"
     ]
    }
   ],
   "source": [
    "file.write(input('enter the sentence:: '))\n",
    "file.close()"
   ]
  },
  {
   "cell_type": "code",
   "execution_count": 89,
   "id": "d5cbd350",
   "metadata": {},
   "outputs": [],
   "source": [
    "file = open('notes.txt','r')"
   ]
  },
  {
   "cell_type": "code",
   "execution_count": 90,
   "id": "7c684ca7",
   "metadata": {},
   "outputs": [
    {
     "name": "stdout",
     "output_type": "stream",
     "text": [
      "1.my name is NUNE SAIKIRAN\n",
      "2.learning DATA SCIENCE courseiam from karimnagar\\n iam from karimnagariam from karimnagar\n"
     ]
    }
   ],
   "source": [
    "print(file.read())"
   ]
  },
  {
   "cell_type": "code",
   "execution_count": 91,
   "id": "d57cbb63",
   "metadata": {},
   "outputs": [],
   "source": [
    "file.close()"
   ]
  },
  {
   "cell_type": "code",
   "execution_count": null,
   "id": "c47df7b9",
   "metadata": {},
   "outputs": [],
   "source": []
  }
 ],
 "metadata": {
  "kernelspec": {
   "display_name": "Python 3 (ipykernel)",
   "language": "python",
   "name": "python3"
  },
  "language_info": {
   "codemirror_mode": {
    "name": "ipython",
    "version": 3
   },
   "file_extension": ".py",
   "mimetype": "text/x-python",
   "name": "python",
   "nbconvert_exporter": "python",
   "pygments_lexer": "ipython3",
   "version": "3.11.5"
  }
 },
 "nbformat": 4,
 "nbformat_minor": 5
}
