{
 "cells": [
  {
   "cell_type": "markdown",
   "id": "f9cca2f0",
   "metadata": {},
   "source": [
    "**Task1: Append and Modify Elements**\n",
    "    \n",
    "* Create an empty list called numbers. Append the numbers 1, 2, and 3 to the list.\n",
    "* Modify the element at index 1 to be 4.\n",
    "* Print the updated list.\n",
    "\n",
    "**Task2: Slicing and Concatenation**\n",
    "\n",
    "* Create a list called fruits with elements 'apple', 'banana', 'orange', 'mango', and 'kiwi'. \n",
    "* Create a new list  by slicing fruits to include only the citrus fruits ('orange' and 'mango\"). * Create a new list called tropical by slicing fruits to include only the tropical fruits ('banana\" and \"kiwi'). \n",
    "* Concatenate citrus and tropical lists to create a new list called combined. Print combined.\n",
    "\n",
    "**Task3: Counting and Removing Elements**\n",
    "\n",
    "* Create a list called colors with repeated elements 'red', 'blue', 'red', 'green', 'red'. Print the number of occurrences of 'red' in the list. Remove all occurrences of 'red' from the list. Print the updated list.\n",
    "\n",
    "**Task 4: List Manipulation**\n",
    "\n",
    "* Add 'cheese' to the end of the list. Remove 'milk' from the list.\n",
    "* Create a list called groceries with initial items: 'bread', 'milk', 'eggs', 'butter'. Print the final list of groceries.\n",
    "* Insert 'yogurt' at index 1.\n",
    "\n"
   ]
  },
  {
   "cell_type": "markdown",
   "id": "9706e57f",
   "metadata": {},
   "source": [
    "### Task1: Append and Modify Elements"
   ]
  },
  {
   "cell_type": "markdown",
   "id": "c3247e86",
   "metadata": {},
   "source": [
    "* Create an empty list called numbers. Append the numbers 1, 2, and 3 to the list.\n",
    "* Modify the element at index 1 to be 4.\n",
    "* Print the updated list."
   ]
  },
  {
   "cell_type": "code",
   "execution_count": 1,
   "id": "6f893260",
   "metadata": {},
   "outputs": [],
   "source": [
    "list1 = []"
   ]
  },
  {
   "cell_type": "code",
   "execution_count": 2,
   "id": "1a79acbd",
   "metadata": {},
   "outputs": [],
   "source": [
    "list1.append(1)"
   ]
  },
  {
   "cell_type": "code",
   "execution_count": 3,
   "id": "dfd6b0cf",
   "metadata": {},
   "outputs": [],
   "source": [
    "list1.append(2)\n",
    "list1.append(3)"
   ]
  },
  {
   "cell_type": "code",
   "execution_count": 4,
   "id": "7c225040",
   "metadata": {},
   "outputs": [
    {
     "data": {
      "text/plain": [
       "[1, 2, 3]"
      ]
     },
     "execution_count": 4,
     "metadata": {},
     "output_type": "execute_result"
    }
   ],
   "source": [
    "list1"
   ]
  },
  {
   "cell_type": "code",
   "execution_count": 5,
   "id": "ed972796",
   "metadata": {},
   "outputs": [],
   "source": [
    "list1.insert(1,4)"
   ]
  },
  {
   "cell_type": "code",
   "execution_count": 6,
   "id": "87498150",
   "metadata": {},
   "outputs": [
    {
     "data": {
      "text/plain": [
       "[1, 4, 2, 3]"
      ]
     },
     "execution_count": 6,
     "metadata": {},
     "output_type": "execute_result"
    }
   ],
   "source": [
    "list1"
   ]
  },
  {
   "cell_type": "code",
   "execution_count": 7,
   "id": "943c93e0",
   "metadata": {},
   "outputs": [
    {
     "name": "stdout",
     "output_type": "stream",
     "text": [
      "[1, 4, 2, 3]\n"
     ]
    }
   ],
   "source": [
    "print(list1)"
   ]
  },
  {
   "cell_type": "markdown",
   "id": "386a4906",
   "metadata": {},
   "source": [
    "### Task2: Slicing and Concatenation"
   ]
  },
  {
   "cell_type": "markdown",
   "id": "ba0aebc2",
   "metadata": {},
   "source": [
    "* Create a list called fruits with elements 'apple', 'banana', 'orange', 'mango', and 'kiwi'.\n",
    "* Create a new list by slicing fruits to include only the citrus fruits ('orange' and 'mango\"). * Create a new list called tropical by slicing fruits to include only the tropical fruits ('banana\" and \"kiwi').\n",
    "* Concatenate citrus and tropical lists to create a new list called combined. Print combined."
   ]
  },
  {
   "cell_type": "code",
   "execution_count": 9,
   "id": "63572e0c",
   "metadata": {},
   "outputs": [],
   "source": [
    "fruits = ['apple','banana','orange','mango','kiwi']"
   ]
  },
  {
   "cell_type": "code",
   "execution_count": 11,
   "id": "94f8cc5a",
   "metadata": {},
   "outputs": [],
   "source": [
    "citrus_fruits = fruits[2:4:1]"
   ]
  },
  {
   "cell_type": "code",
   "execution_count": 12,
   "id": "8e919d74",
   "metadata": {},
   "outputs": [
    {
     "data": {
      "text/plain": [
       "['orange', 'mango']"
      ]
     },
     "execution_count": 12,
     "metadata": {},
     "output_type": "execute_result"
    }
   ],
   "source": [
    "citrus_fruits"
   ]
  },
  {
   "cell_type": "code",
   "execution_count": 17,
   "id": "f2770572",
   "metadata": {},
   "outputs": [],
   "source": [
    "tropical_fruits = fruits[1:5:3]"
   ]
  },
  {
   "cell_type": "code",
   "execution_count": 18,
   "id": "53b3da17",
   "metadata": {},
   "outputs": [
    {
     "data": {
      "text/plain": [
       "['banana', 'kiwi']"
      ]
     },
     "execution_count": 18,
     "metadata": {},
     "output_type": "execute_result"
    }
   ],
   "source": [
    "tropical_fruits"
   ]
  },
  {
   "cell_type": "code",
   "execution_count": 19,
   "id": "ee8272ae",
   "metadata": {},
   "outputs": [],
   "source": [
    "combined = citrus_fruits + tropical_fruits"
   ]
  },
  {
   "cell_type": "code",
   "execution_count": 20,
   "id": "a416d129",
   "metadata": {},
   "outputs": [
    {
     "name": "stdout",
     "output_type": "stream",
     "text": [
      "['orange', 'mango', 'banana', 'kiwi']\n"
     ]
    }
   ],
   "source": [
    "print(combined)"
   ]
  },
  {
   "cell_type": "markdown",
   "id": "26436c72",
   "metadata": {},
   "source": [
    "### Task3: Counting and Removing Elements"
   ]
  },
  {
   "cell_type": "markdown",
   "id": "15c0deda",
   "metadata": {},
   "source": [
    "* Create a list called colors with repeated elements 'red', 'blue', 'red', 'green', 'red'. Print the number of occurrences of 'red' in the list. Remove all occurrences of 'red' from the list. Print the updated list."
   ]
  },
  {
   "cell_type": "code",
   "execution_count": 22,
   "id": "acf411ff",
   "metadata": {},
   "outputs": [],
   "source": [
    "colors = ['red','blue','red','green','red']"
   ]
  },
  {
   "cell_type": "code",
   "execution_count": 23,
   "id": "12d270af",
   "metadata": {},
   "outputs": [
    {
     "data": {
      "text/plain": [
       "3"
      ]
     },
     "execution_count": 23,
     "metadata": {},
     "output_type": "execute_result"
    }
   ],
   "source": [
    "colors.count('red')"
   ]
  },
  {
   "cell_type": "code",
   "execution_count": 24,
   "id": "5a76d5ae",
   "metadata": {},
   "outputs": [],
   "source": [
    "colors.remove('red')"
   ]
  },
  {
   "cell_type": "code",
   "execution_count": 25,
   "id": "12eb5ba9",
   "metadata": {},
   "outputs": [
    {
     "data": {
      "text/plain": [
       "['blue', 'red', 'green', 'red']"
      ]
     },
     "execution_count": 25,
     "metadata": {},
     "output_type": "execute_result"
    }
   ],
   "source": [
    "colors"
   ]
  },
  {
   "cell_type": "code",
   "execution_count": 26,
   "id": "ef0b09d5",
   "metadata": {},
   "outputs": [
    {
     "data": {
      "text/plain": [
       "'red'"
      ]
     },
     "execution_count": 26,
     "metadata": {},
     "output_type": "execute_result"
    }
   ],
   "source": [
    "colors.pop(1)"
   ]
  },
  {
   "cell_type": "code",
   "execution_count": 27,
   "id": "26c58435",
   "metadata": {},
   "outputs": [],
   "source": [
    "colors.remove(\"red\")"
   ]
  },
  {
   "cell_type": "code",
   "execution_count": 28,
   "id": "5aa4a272",
   "metadata": {},
   "outputs": [
    {
     "name": "stdout",
     "output_type": "stream",
     "text": [
      "['blue', 'green']\n"
     ]
    }
   ],
   "source": [
    "print(colors)"
   ]
  },
  {
   "cell_type": "markdown",
   "id": "053f477a",
   "metadata": {},
   "source": [
    "#### Task 4: List Manipulation"
   ]
  },
  {
   "cell_type": "markdown",
   "id": "8a6552ff",
   "metadata": {},
   "source": [
    "* Add 'cheese' to the end of the list. Remove 'milk' from the list.\n",
    "* Create a list called groceries with initial items: 'bread', 'milk', 'eggs', 'butter'. Print the final list of groceries.\n",
    "* Insert 'yogurt' at index 1."
   ]
  },
  {
   "cell_type": "code",
   "execution_count": 29,
   "id": "cb04523c",
   "metadata": {},
   "outputs": [],
   "source": [
    "groceries = ['bread','milk','eggs','butter']"
   ]
  },
  {
   "cell_type": "code",
   "execution_count": 30,
   "id": "15e05e44",
   "metadata": {},
   "outputs": [],
   "source": [
    "groceries.insert(0,'cheese')"
   ]
  },
  {
   "cell_type": "code",
   "execution_count": 31,
   "id": "2168a467",
   "metadata": {},
   "outputs": [],
   "source": [
    "groceries.insert(1,'yogurt')"
   ]
  },
  {
   "cell_type": "code",
   "execution_count": 32,
   "id": "f3c689f0",
   "metadata": {},
   "outputs": [],
   "source": [
    "groceries.remove('milk')"
   ]
  },
  {
   "cell_type": "code",
   "execution_count": 33,
   "id": "42afd02e",
   "metadata": {},
   "outputs": [
    {
     "data": {
      "text/plain": [
       "['cheese', 'yogurt', 'bread', 'eggs', 'butter']"
      ]
     },
     "execution_count": 33,
     "metadata": {},
     "output_type": "execute_result"
    }
   ],
   "source": [
    "groceries "
   ]
  },
  {
   "cell_type": "code",
   "execution_count": null,
   "id": "ab049a8b",
   "metadata": {},
   "outputs": [],
   "source": []
  }
 ],
 "metadata": {
  "kernelspec": {
   "display_name": "Python 3 (ipykernel)",
   "language": "python",
   "name": "python3"
  },
  "language_info": {
   "codemirror_mode": {
    "name": "ipython",
    "version": 3
   },
   "file_extension": ".py",
   "mimetype": "text/x-python",
   "name": "python",
   "nbconvert_exporter": "python",
   "pygments_lexer": "ipython3",
   "version": "3.11.5"
  }
 },
 "nbformat": 4,
 "nbformat_minor": 5
}
