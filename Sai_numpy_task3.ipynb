{
 "cells": [
  {
   "attachments": {
    "image2.png": {
     "image/png": "[encoded data removed]"
    }
   },
   "cell_type": "markdown",
   "id": "e082a806",
   "metadata": {},
   "source": [
    "![image2.png](attachment:image2.png)"
   ]
  },
  {
   "cell_type": "code",
   "execution_count": 23,
   "id": "91e81c61",
   "metadata": {},
   "outputs": [],
   "source": [
    "import numpy as np"
   ]
  },
  {
   "cell_type": "code",
   "execution_count": 2,
   "id": "2280542e",
   "metadata": {},
   "outputs": [],
   "source": [
    "array_A = np.random.randint(1,100,10)"
   ]
  },
  {
   "cell_type": "code",
   "execution_count": 3,
   "id": "a01a149b",
   "metadata": {},
   "outputs": [
    {
     "data": {
      "text/plain": [
       "array([49, 27, 43, 71, 74,  4, 31, 71, 47, 66])"
      ]
     },
     "execution_count": 3,
     "metadata": {},
     "output_type": "execute_result"
    }
   ],
   "source": [
    "array_A"
   ]
  },
  {
   "cell_type": "code",
   "execution_count": 24,
   "id": "da8a7ed6",
   "metadata": {},
   "outputs": [],
   "source": [
    "condition = array_A > 50"
   ]
  },
  {
   "cell_type": "code",
   "execution_count": 25,
   "id": "8100b3b9",
   "metadata": {},
   "outputs": [
    {
     "data": {
      "text/plain": [
       "array(['less then 50', 'less then 50', 'less then 50', '71', '74',\n",
       "       'less then 50', 'less then 50', '71', 'less then 50', '66'],\n",
       "      dtype='<U12')"
      ]
     },
     "execution_count": 25,
     "metadata": {},
     "output_type": "execute_result"
    }
   ],
   "source": [
    "np.where(condition,array_A,'less then 50')"
   ]
  },
  {
   "cell_type": "code",
   "execution_count": 8,
   "id": "64508005",
   "metadata": {},
   "outputs": [],
   "source": [
    "array_B = array_A[array_A > 50]"
   ]
  },
  {
   "cell_type": "code",
   "execution_count": 9,
   "id": "6739e76a",
   "metadata": {},
   "outputs": [
    {
     "data": {
      "text/plain": [
       "array([71, 74, 71, 66])"
      ]
     },
     "execution_count": 9,
     "metadata": {},
     "output_type": "execute_result"
    }
   ],
   "source": [
    "array_B"
   ]
  },
  {
   "cell_type": "code",
   "execution_count": 10,
   "id": "b4759605",
   "metadata": {},
   "outputs": [
    {
     "data": {
      "text/plain": [
       "70.5"
      ]
     },
     "execution_count": 10,
     "metadata": {},
     "output_type": "execute_result"
    }
   ],
   "source": [
    "np.mean(array_B)"
   ]
  },
  {
   "cell_type": "code",
   "execution_count": 11,
   "id": "df730254",
   "metadata": {},
   "outputs": [
    {
     "data": {
      "text/plain": [
       "array([49, 27, 43, 71, 74,  4, 31, 71, 47, 66])"
      ]
     },
     "execution_count": 11,
     "metadata": {},
     "output_type": "execute_result"
    }
   ],
   "source": [
    "array_A"
   ]
  },
  {
   "cell_type": "code",
   "execution_count": 12,
   "id": "df3e199f",
   "metadata": {},
   "outputs": [
    {
     "data": {
      "text/plain": [
       "array([71, 74, 71, 66])"
      ]
     },
     "execution_count": 12,
     "metadata": {},
     "output_type": "execute_result"
    }
   ],
   "source": [
    "array_B"
   ]
  },
  {
   "cell_type": "code",
   "execution_count": 13,
   "id": "da3cd5b2",
   "metadata": {},
   "outputs": [],
   "source": [
    "c = np.random.randint(-10,10,16).reshape(4,4)"
   ]
  },
  {
   "cell_type": "code",
   "execution_count": 14,
   "id": "55433fc8",
   "metadata": {},
   "outputs": [
    {
     "data": {
      "text/plain": [
       "array([[-7, -6, -6,  1],\n",
       "       [-1,  9,  8, -1],\n",
       "       [ 2,  0, -6,  4],\n",
       "       [ 7, -5,  6, -7]])"
      ]
     },
     "execution_count": 14,
     "metadata": {},
     "output_type": "execute_result"
    }
   ],
   "source": [
    "c"
   ]
  },
  {
   "cell_type": "code",
   "execution_count": 15,
   "id": "7a416072",
   "metadata": {},
   "outputs": [],
   "source": [
    "condition = c < 0"
   ]
  },
  {
   "cell_type": "code",
   "execution_count": 17,
   "id": "43799838",
   "metadata": {},
   "outputs": [],
   "source": [
    "n = np.where(condition,0,c)"
   ]
  },
  {
   "cell_type": "code",
   "execution_count": 18,
   "id": "090dd129",
   "metadata": {},
   "outputs": [
    {
     "data": {
      "text/plain": [
       "array([[0, 0, 0, 1],\n",
       "       [0, 9, 8, 0],\n",
       "       [2, 0, 0, 4],\n",
       "       [7, 0, 6, 0]])"
      ]
     },
     "execution_count": 18,
     "metadata": {},
     "output_type": "execute_result"
    }
   ],
   "source": [
    "n  #modofied matrix "
   ]
  },
  {
   "cell_type": "code",
   "execution_count": 19,
   "id": "53e2d683",
   "metadata": {},
   "outputs": [
    {
     "data": {
      "text/plain": [
       "array([[-7, -6, -6,  1],\n",
       "       [-1,  9,  8, -1],\n",
       "       [ 2,  0, -6,  4],\n",
       "       [ 7, -5,  6, -7]])"
      ]
     },
     "execution_count": 19,
     "metadata": {},
     "output_type": "execute_result"
    }
   ],
   "source": [
    "c   #original matrix"
   ]
  },
  {
   "cell_type": "code",
   "execution_count": null,
   "id": "e0e076b3",
   "metadata": {},
   "outputs": [],
   "source": []
  }
 ],
 "metadata": {
  "kernelspec": {
   "display_name": "Python 3 (ipykernel)",
   "language": "python",
   "name": "python3"
  },
  "language_info": {
   "codemirror_mode": {
    "name": "ipython",
    "version": 3
   },
   "file_extension": ".py",
   "mimetype": "text/x-python",
   "name": "python",
   "nbconvert_exporter": "python",
   "pygments_lexer": "ipython3",
   "version": "3.11.5"
  }
 },
 "nbformat": 4,
 "nbformat_minor": 5
}
