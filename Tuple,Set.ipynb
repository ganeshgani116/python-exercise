{
 "cells": [
  {
   "cell_type": "markdown",
   "id": "e30e91f8",
   "metadata": {},
   "source": [
    "\n",
    "\n",
    "**Assignment Task 1:** Tuple Basics\n",
    "Create a Python tuple containing the names of your favorite fruits. Write a Python program to print `each fruit` name from the tuple.\n",
    "\n",
    "**Assignment Task 2:** Tuple Operations\n",
    "Given two tuples, write a Python program to `concatenate` them into a `single` tuple and then find the `length` of the resulting tuple.\n",
    "\n",
    "**Assignment Task 3:** Set Creation\n",
    "Create a Python set containing the first 10 `even` numbers (2, 4, 6, ...). Write a program to `display` this set.\n",
    "\n",
    "**Assignment Task 4:** Set Operations\n",
    "Given two sets, write a Python program to find the `union, intersection, and difference` of these sets.\n",
    "\n",
    "**Assignment Task 5:** Tuple and Set Conversion\n",
    "Write a Python program that takes a `tuple` of integers and converts it into a `set`. Then, find and print the `maximum and minimum` values from the set.\n",
    "\n",
    "**Assignment Task 6:** Tuple Immutability\n",
    "Explain the concept of immutability in Python tuples with examples. Discuss why tuples are considered immutable data structures.\n",
    "\n",
    "**Assignment Task 7:** Set Operations and Methods\n",
    "Write a Python program that takes a set of numbers and performs the following operations:\n",
    "   - Add a new number to the set.\n",
    "   - Remove a number from the set.\n",
    "   - Check if a specific number is in the set.\n",
    "   - Find the size of the set.\n",
    "\n",
    "**Assignment Task 8:** Tuple Slicing\n",
    "Given a tuple of 10 elements, write a Python program to print the elements from the `3rd to the 7th `position using slicing.\n",
    "\n",
    "**Assignment Task 9:** Set Operations with Lists\n",
    "Create a Python list with duplicate elements and convert it into a set to remove duplicates. Then, write a program to count how many duplicates were removed.\n",
    "\n",
    "**Assignment Task 10:** Tuple and Set Combinations\n",
    "Create a `tuple` containing the names of your friend's favorite movies and a `set` containing the names of your favorite movies. Write a Python program to find and display common elements (movies that feature your "
   ]
  },
  {
   "cell_type": "code",
   "execution_count": null,
   "id": "44807f61",
   "metadata": {},
   "outputs": [],
   "source": []
  },
  {
   "cell_type": "code",
   "execution_count": null,
   "id": "fec70308",
   "metadata": {},
   "outputs": [],
   "source": []
  },
  {
   "cell_type": "code",
   "execution_count": null,
   "id": "45004326",
   "metadata": {},
   "outputs": [],
   "source": []
  },
  {
   "cell_type": "markdown",
   "id": "bff4536c",
   "metadata": {},
   "source": [
    "**Assignment Task 1:** Tuple Basics\n",
    "Create a Python tuple containing the names of your favorite fruits. Write a Python program to print `each fruit` name from the tuple."
   ]
  },
  {
   "cell_type": "code",
   "execution_count": 1,
   "id": "d42140bc",
   "metadata": {},
   "outputs": [],
   "source": [
    "fruits = ('apple','banana','orange','grapes','kiwi','mango')"
   ]
  },
  {
   "cell_type": "markdown",
   "id": "bd04d0a1",
   "metadata": {},
   "source": [
    "**Assignment Task 2:** Tuple Operations\n",
    "Given two tuples, write a Python program to `concatenate` them into a `single` tuple and then find the `length` of the resulting tuple."
   ]
  },
  {
   "cell_type": "code",
   "execution_count": 2,
   "id": "bcff9fe8",
   "metadata": {},
   "outputs": [],
   "source": [
    "frds = ('sai','gani','sanji','ram','adhi')"
   ]
  },
  {
   "cell_type": "code",
   "execution_count": 3,
   "id": "81151410",
   "metadata": {},
   "outputs": [],
   "source": [
    "combine = fruits + frds"
   ]
  },
  {
   "cell_type": "code",
   "execution_count": 4,
   "id": "48ecce63",
   "metadata": {},
   "outputs": [
    {
     "data": {
      "text/plain": [
       "('apple',\n",
       " 'banana',\n",
       " 'orange',\n",
       " 'grapes',\n",
       " 'kiwi',\n",
       " 'mango',\n",
       " 'sai',\n",
       " 'gani',\n",
       " 'sanji',\n",
       " 'ram',\n",
       " 'adhi')"
      ]
     },
     "execution_count": 4,
     "metadata": {},
     "output_type": "execute_result"
    }
   ],
   "source": [
    "combine"
   ]
  },
  {
   "cell_type": "code",
   "execution_count": 5,
   "id": "c62fda48",
   "metadata": {},
   "outputs": [
    {
     "data": {
      "text/plain": [
       "11"
      ]
     },
     "execution_count": 5,
     "metadata": {},
     "output_type": "execute_result"
    }
   ],
   "source": [
    "len(combine)"
   ]
  },
  {
   "cell_type": "markdown",
   "id": "e528f867",
   "metadata": {},
   "source": [
    "**Assignment Task 3:** Set Creation\n",
    "Create a Python set containing the first 10 `even` numbers (2, 4, 6, ...). Write a program to `display` this set.\n"
   ]
  },
  {
   "cell_type": "code",
   "execution_count": 6,
   "id": "07d0811c",
   "metadata": {},
   "outputs": [],
   "source": [
    "set1 = {2,4,6,8,10,12,14,16,18,20}"
   ]
  },
  {
   "cell_type": "code",
   "execution_count": 7,
   "id": "750a9ce5",
   "metadata": {},
   "outputs": [
    {
     "data": {
      "text/plain": [
       "set"
      ]
     },
     "execution_count": 7,
     "metadata": {},
     "output_type": "execute_result"
    }
   ],
   "source": [
    "type(set1)"
   ]
  },
  {
   "cell_type": "markdown",
   "id": "7c913aad",
   "metadata": {},
   "source": [
    "\n",
    "**Assignment Task 4:** Set Operations\n",
    "Given two sets, write a Python program to find the `union, intersection, and difference` of these sets."
   ]
  },
  {
   "cell_type": "code",
   "execution_count": 8,
   "id": "a5cd4ede",
   "metadata": {},
   "outputs": [],
   "source": [
    "sai = {1,2,3,4,5,6,7,8,9}"
   ]
  },
  {
   "cell_type": "code",
   "execution_count": 18,
   "id": "c5e96679",
   "metadata": {},
   "outputs": [],
   "source": [
    "sai1 = {2,4,6,5,9,7,3,1,2,10,13,17}"
   ]
  },
  {
   "cell_type": "code",
   "execution_count": 19,
   "id": "07027609",
   "metadata": {},
   "outputs": [
    {
     "data": {
      "text/plain": [
       "{1, 2, 3, 4, 5, 6, 7, 8, 9, 10, 13, 17}"
      ]
     },
     "execution_count": 19,
     "metadata": {},
     "output_type": "execute_result"
    }
   ],
   "source": [
    "sai.union(sai1)"
   ]
  },
  {
   "cell_type": "code",
   "execution_count": 20,
   "id": "936c0050",
   "metadata": {},
   "outputs": [
    {
     "data": {
      "text/plain": [
       "{1, 2, 3, 4, 5, 6, 7, 9}"
      ]
     },
     "execution_count": 20,
     "metadata": {},
     "output_type": "execute_result"
    }
   ],
   "source": [
    "sai.intersection(sai1)"
   ]
  },
  {
   "cell_type": "code",
   "execution_count": 22,
   "id": "c376ded6",
   "metadata": {},
   "outputs": [
    {
     "data": {
      "text/plain": [
       "{8}"
      ]
     },
     "execution_count": 22,
     "metadata": {},
     "output_type": "execute_result"
    }
   ],
   "source": [
    "sai.difference(sai1)"
   ]
  },
  {
   "cell_type": "markdown",
   "id": "379e17c4",
   "metadata": {},
   "source": [
    "**Assignment Task 5:** Tuple and Set Conversion\n",
    "Write a Python program that takes a `tuple` of integers and converts it into a `set`. Then, find and print the `maximum and minimum` values from the set.\n"
   ]
  },
  {
   "cell_type": "code",
   "execution_count": 23,
   "id": "a80cc060",
   "metadata": {},
   "outputs": [],
   "source": [
    "a = (1,2,3,4,5,6)"
   ]
  },
  {
   "cell_type": "code",
   "execution_count": 24,
   "id": "12b7e858",
   "metadata": {},
   "outputs": [],
   "source": [
    "b = set(a)"
   ]
  },
  {
   "cell_type": "code",
   "execution_count": 25,
   "id": "e2b47d0a",
   "metadata": {},
   "outputs": [
    {
     "data": {
      "text/plain": [
       "{1, 2, 3, 4, 5, 6}"
      ]
     },
     "execution_count": 25,
     "metadata": {},
     "output_type": "execute_result"
    }
   ],
   "source": [
    "b"
   ]
  },
  {
   "cell_type": "code",
   "execution_count": 29,
   "id": "d87d621c",
   "metadata": {},
   "outputs": [
    {
     "name": "stdout",
     "output_type": "stream",
     "text": [
      "6\n"
     ]
    }
   ],
   "source": [
    "maximum = max(b)\n",
    "print(maximum)"
   ]
  },
  {
   "cell_type": "code",
   "execution_count": 30,
   "id": "819e558b",
   "metadata": {},
   "outputs": [
    {
     "name": "stdout",
     "output_type": "stream",
     "text": [
      "1\n"
     ]
    }
   ],
   "source": [
    "minimum = min(b)\n",
    "print(minimum)"
   ]
  },
  {
   "cell_type": "markdown",
   "id": "b9041155",
   "metadata": {},
   "source": [
    "**Assignment Task 6:** Tuple Immutability\n",
    "Explain the concept of immutability in Python tuples with examples. Discuss why tuples are considered immutable data structures.\n"
   ]
  },
  {
   "cell_type": "markdown",
   "id": "ee48feca",
   "metadata": {},
   "source": [
    "* The key characteristic of tuples is their immutability. Once you create a tuple, you cannot change its contents.\n",
    "* This means you cannot add, remove, or modify elements within a tuple after it’s created.\n",
    "* Attempting to do so will result in an error.\n",
    "\n"
   ]
  },
  {
   "cell_type": "markdown",
   "id": "85fdb174",
   "metadata": {},
   "source": [
    "**Assignment Task 7:** Set Operations and Methods\n",
    "Write a Python program that takes a set of numbers and performs the following operations:\n",
    "   - Add a new number to the set.\n",
    "   - Remove a number from the set.\n",
    "   - Check if a specific number is in the set.\n",
    "   - Find the size of the set."
   ]
  },
  {
   "cell_type": "code",
   "execution_count": 31,
   "id": "53b8fc9a",
   "metadata": {},
   "outputs": [],
   "source": [
    "set1 = {1,2,3,4,5,6}"
   ]
  },
  {
   "cell_type": "code",
   "execution_count": 32,
   "id": "8f88ff3b",
   "metadata": {},
   "outputs": [],
   "source": [
    "set1.add(12)"
   ]
  },
  {
   "cell_type": "code",
   "execution_count": 33,
   "id": "c39158a0",
   "metadata": {},
   "outputs": [
    {
     "data": {
      "text/plain": [
       "{1, 2, 3, 4, 5, 6, 12}"
      ]
     },
     "execution_count": 33,
     "metadata": {},
     "output_type": "execute_result"
    }
   ],
   "source": [
    "set1"
   ]
  },
  {
   "cell_type": "code",
   "execution_count": 34,
   "id": "aa4da63f",
   "metadata": {},
   "outputs": [],
   "source": [
    "set1.remove(3)"
   ]
  },
  {
   "cell_type": "code",
   "execution_count": 35,
   "id": "ada86154",
   "metadata": {},
   "outputs": [
    {
     "data": {
      "text/plain": [
       "{1, 2, 4, 5, 6, 12}"
      ]
     },
     "execution_count": 35,
     "metadata": {},
     "output_type": "execute_result"
    }
   ],
   "source": [
    "set1"
   ]
  },
  {
   "cell_type": "code",
   "execution_count": 36,
   "id": "d764d77d",
   "metadata": {},
   "outputs": [
    {
     "data": {
      "text/plain": [
       "True"
      ]
     },
     "execution_count": 36,
     "metadata": {},
     "output_type": "execute_result"
    }
   ],
   "source": [
    "12 in set1"
   ]
  },
  {
   "cell_type": "code",
   "execution_count": 37,
   "id": "76fda608",
   "metadata": {},
   "outputs": [
    {
     "data": {
      "text/plain": [
       "6"
      ]
     },
     "execution_count": 37,
     "metadata": {},
     "output_type": "execute_result"
    }
   ],
   "source": [
    "len(set1)"
   ]
  },
  {
   "cell_type": "markdown",
   "id": "032e18d1",
   "metadata": {},
   "source": [
    "**Assignment Task 8:** Tuple Slicing\n",
    "Given a tuple of 10 elements, write a Python program to print the elements from the `3rd to the 7th `position using slicing."
   ]
  },
  {
   "cell_type": "code",
   "execution_count": 38,
   "id": "04592a84",
   "metadata": {},
   "outputs": [],
   "source": [
    "a = (1,4,7,5,6,3,2,8,9)"
   ]
  },
  {
   "cell_type": "code",
   "execution_count": 39,
   "id": "2e6248b5",
   "metadata": {},
   "outputs": [
    {
     "data": {
      "text/plain": [
       "(5, 6, 3, 2, 8)"
      ]
     },
     "execution_count": 39,
     "metadata": {},
     "output_type": "execute_result"
    }
   ],
   "source": [
    "a[3:8:1]"
   ]
  },
  {
   "cell_type": "markdown",
   "id": "545f4085",
   "metadata": {},
   "source": [
    "\n",
    "**Assignment Task 9:** Set Operations with Lists\n",
    "Create a Python list with duplicate elements and convert it into a set to remove duplicates. Then, write a program to count how many duplicates were removed."
   ]
  },
  {
   "cell_type": "code",
   "execution_count": 41,
   "id": "5dd8ada6",
   "metadata": {},
   "outputs": [],
   "source": [
    "list1 = [1,1,2,4,5,3,2,7,8,6,9,1,3,7,4]"
   ]
  },
  {
   "cell_type": "code",
   "execution_count": 42,
   "id": "748c2b75",
   "metadata": {},
   "outputs": [
    {
     "data": {
      "text/plain": [
       "15"
      ]
     },
     "execution_count": 42,
     "metadata": {},
     "output_type": "execute_result"
    }
   ],
   "source": [
    "len(list1)"
   ]
  },
  {
   "cell_type": "code",
   "execution_count": 43,
   "id": "df98de2b",
   "metadata": {},
   "outputs": [],
   "source": [
    "a = set(list1)"
   ]
  },
  {
   "cell_type": "code",
   "execution_count": 44,
   "id": "071c6b8c",
   "metadata": {},
   "outputs": [
    {
     "data": {
      "text/plain": [
       "{1, 2, 3, 4, 5, 6, 7, 8, 9}"
      ]
     },
     "execution_count": 44,
     "metadata": {},
     "output_type": "execute_result"
    }
   ],
   "source": [
    "a"
   ]
  },
  {
   "cell_type": "code",
   "execution_count": 45,
   "id": "a06dd332",
   "metadata": {},
   "outputs": [
    {
     "data": {
      "text/plain": [
       "9"
      ]
     },
     "execution_count": 45,
     "metadata": {},
     "output_type": "execute_result"
    }
   ],
   "source": [
    "len(a)"
   ]
  },
  {
   "cell_type": "code",
   "execution_count": 46,
   "id": "2625c6f5",
   "metadata": {},
   "outputs": [],
   "source": [
    "diff = len(list1) - len(a)"
   ]
  },
  {
   "cell_type": "code",
   "execution_count": 47,
   "id": "6f4a16b6",
   "metadata": {},
   "outputs": [
    {
     "data": {
      "text/plain": [
       "6"
      ]
     },
     "execution_count": 47,
     "metadata": {},
     "output_type": "execute_result"
    }
   ],
   "source": [
    "diff"
   ]
  },
  {
   "cell_type": "markdown",
   "id": "afe29999",
   "metadata": {},
   "source": [
    "\n",
    "**Assignment Task 10:** Tuple and Set Combinations\n",
    "Create a `tuple` containing the names of your friend's favorite movies and a `set` containing the names of your favorite movies. Write a Python program to find and display common elements (movies that feature your "
   ]
  },
  {
   "cell_type": "code",
   "execution_count": 48,
   "id": "cc7f59c8",
   "metadata": {},
   "outputs": [],
   "source": [
    "frd_movies = ('salaar','kushi','12th-fail','24','robo','bahubali')"
   ]
  },
  {
   "cell_type": "code",
   "execution_count": 49,
   "id": "ec638c1a",
   "metadata": {},
   "outputs": [],
   "source": [
    "my_movies = {\"salaar\",'sahoo','spirit','bahubali','bahubali2','kalki'}"
   ]
  },
  {
   "cell_type": "code",
   "execution_count": 50,
   "id": "ebc5b9c1",
   "metadata": {},
   "outputs": [
    {
     "data": {
      "text/plain": [
       "{'bahubali', 'salaar'}"
      ]
     },
     "execution_count": 50,
     "metadata": {},
     "output_type": "execute_result"
    }
   ],
   "source": [
    "my_movies.intersection(frd_movies)"
   ]
  },
  {
   "cell_type": "code",
   "execution_count": null,
   "id": "4ff75bc8",
   "metadata": {},
   "outputs": [],
   "source": []
  }
 ],
 "metadata": {
  "kernelspec": {
   "display_name": "Python 3 (ipykernel)",
   "language": "python",
   "name": "python3"
  },
  "language_info": {
   "codemirror_mode": {
    "name": "ipython",
    "version": 3
   },
   "file_extension": ".py",
   "mimetype": "text/x-python",
   "name": "python",
   "nbconvert_exporter": "python",
   "pygments_lexer": "ipython3",
   "version": "3.11.5"
  }
 },
 "nbformat": 4,
 "nbformat_minor": 5
}
