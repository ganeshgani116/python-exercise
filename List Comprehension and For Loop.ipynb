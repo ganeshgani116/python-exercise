{
 "cells": [
  {
   "cell_type": "markdown",
   "id": "6a089314",
   "metadata": {},
   "source": [
    "1. **Basic List Comprehension:**\n",
    "   Write a Python program that uses list comprehension to generate a list of cubes of the first 10 positive integers.\n",
    "\n",
    "2. **Filtering with List Comprehension:**\n",
    "   Given a list of integers, create a new list using list comprehension that contains only the multiple of 3 and 5 from the original list.\n",
    "\n",
    "3. **String Manipulation with List Comprehension:**\n",
    "   Given a list of strings, create a new list using list comprehension that contains the lengths of each string.\n",
    "\n",
    "\n",
    "4. **List Comprehension with Conditionals:**\n",
    "   Given a list of numbers, create a new list using list comprehension that contains the squares of even numbers \n",
    "\n",
    "\n",
    "5. **Pattern Printing**\n",
    "\n",
    "    Write a Python program that takes an integer 'n' as input and prints the following pattern:\n",
    "\n",
    "    For `n = 4`, the pattern should look like this:\n",
    "\n",
    "    ```\n",
    "    1\n",
    "    1 2\n",
    "    1 2 3\n",
    "    1 2 3 4\n",
    "    ```\n",
    "\n",
    "6. **Multiplication Table**\n",
    "\n",
    "      Create a Python program that generates and prints a multiplication table for a given number 'n'. The table should include values from 1 to 10.\n",
    "\n",
    "For example, if `n = 5`, the output should be:\n",
    "\n",
    "    ```\n",
    "    5 x 1 = 5\n",
    "    5 x 2 = 10\n",
    "    5 x 3 = 15\n",
    "    5 x 4 = 20\n",
    "    5 x 5 = 25\n",
    "    5 x 6 = 30\n",
    "    5 x 7 = 35\n",
    "    5 x 8 = 40\n",
    "    5 x 9 = 45\n",
    "    5 x 10 = 50\n",
    "    ```\n",
    "7.**Star Patterns**\n",
    "\n",
    "Write a Python program that takes an integer 'n' as input and prints the following patterns:\n",
    "\n",
    "a) Right-angled triangle pattern:\n",
    "\n",
    "    *\n",
    "    **\n",
    "    ***\n",
    "    ****\n",
    "    *****\n",
    "b) Inverted right-angled triangle pattern:\n",
    "\n",
    "    *****\n",
    "    ****\n",
    "    ***\n",
    "    **\n",
    "    *\n",
    "\n",
    "\n",
    "\n",
    "\n",
    "8. **Number Pyramid**\n",
    "\n",
    "    Create a Python program that takes an integer 'n' as input and prints a number pyramid as shown below:\n",
    "\n",
    "    For `n = 4`, the output should be:\n",
    "\n",
    "    ```\n",
    "       1\n",
    "      212\n",
    "     32123\n",
    "    4321234\n",
    "    ```\n",
    "\n",
    "\n",
    "\n"
   ]
  },
  {
   "cell_type": "markdown",
   "id": "ca836e0b",
   "metadata": {},
   "source": [
    "1. **Basic List Comprehension:**\n",
    "   Write a Python program that uses list comprehension to generate a list of cubes of the first 10 positive integers.\n"
   ]
  },
  {
   "cell_type": "code",
   "execution_count": 1,
   "id": "df7022bc",
   "metadata": {},
   "outputs": [
    {
     "data": {
      "text/plain": [
       "[1, 8, 27, 64, 125, 216, 343, 512, 729, 1000]"
      ]
     },
     "execution_count": 1,
     "metadata": {},
     "output_type": "execute_result"
    }
   ],
   "source": [
    "[i ** 3 for i in range(1,11)]"
   ]
  },
  {
   "cell_type": "markdown",
   "id": "ad0e276a",
   "metadata": {},
   "source": [
    "2. **Filtering with List Comprehension:**\n",
    "   Given a list of integers, create a new list using list comprehension that contains only the multiple of 3 and 5 from the original list.\n"
   ]
  },
  {
   "cell_type": "code",
   "execution_count": 4,
   "id": "e5613d4a",
   "metadata": {},
   "outputs": [
    {
     "data": {
      "text/plain": [
       "[15, 30]"
      ]
     },
     "execution_count": 4,
     "metadata": {},
     "output_type": "execute_result"
    }
   ],
   "source": [
    "list1 = [1,4,6,7,8,9,3,5,12,15,14,18,24,28,30]\n",
    "\n",
    "[i for i in list1 if i%3 == 0 and i % 5 == 0]"
   ]
  },
  {
   "cell_type": "markdown",
   "id": "df264121",
   "metadata": {},
   "source": [
    "3. **String Manipulation with List Comprehension:**\n",
    "   Given a list of strings, create a new list using list comprehension that contains the lengths of each string.\n"
   ]
  },
  {
   "cell_type": "code",
   "execution_count": 10,
   "id": "ca88de05",
   "metadata": {},
   "outputs": [
    {
     "name": "stdout",
     "output_type": "stream",
     "text": [
      "[3, 6, 6, 6, 4]\n"
     ]
    }
   ],
   "source": [
    "name = ['sai','sanjay','ganesh','ramesh','gani']\n",
    "name1 = []\n",
    "\n",
    "[name1.append(len(i)) for i in name ]\n",
    "print(name1)"
   ]
  },
  {
   "cell_type": "markdown",
   "id": "ab854383",
   "metadata": {},
   "source": [
    "4. **List Comprehension with Conditionals:**\n",
    "   Given a list of numbers, create a new list using list comprehension that contains the squares of even numbers "
   ]
  },
  {
   "cell_type": "code",
   "execution_count": 13,
   "id": "95563215",
   "metadata": {},
   "outputs": [
    {
     "name": "stdout",
     "output_type": "stream",
     "text": [
      "[4, 16, 36, 64, 100, 144, 196, 256, 324]\n"
     ]
    }
   ],
   "source": [
    "list1 = [1,2,3,4,5,6,7,8,9,10,11,12,14,16,18]\n",
    "list2 = []\n",
    "\n",
    "[list2.append(i**2) for i in list1 if i % 2 == 0]\n",
    "print(list2)"
   ]
  },
  {
   "cell_type": "markdown",
   "id": "9a7fd99e",
   "metadata": {},
   "source": [
    "5. **Pattern Printing**\n",
    "\n",
    "    Write a Python program that takes an integer 'n' as input and prints the following pattern:\n",
    "\n",
    "    For `n = 4`, the pattern should look like this:\n",
    "\n",
    "    ```\n",
    "    1\n",
    "    1 2\n",
    "    1 2 3\n",
    "    1 2 3 4\n",
    "    ```"
   ]
  },
  {
   "cell_type": "code",
   "execution_count": 22,
   "id": "f4147e22",
   "metadata": {},
   "outputs": [
    {
     "name": "stdout",
     "output_type": "stream",
     "text": [
      "enter the number:: 4\n",
      "1 \n",
      "1 2 \n",
      "1 2 3 \n",
      "1 2 3 4 \n"
     ]
    }
   ],
   "source": [
    "n = int(input(\"enter the number:: \"))\n",
    "\n",
    "for i in range(n):\n",
    "    for j in range(i+1):\n",
    "        print(j+1,end = ' ')\n",
    "    print()\n",
    "    "
   ]
  },
  {
   "cell_type": "markdown",
   "id": "81d98ba4",
   "metadata": {},
   "source": [
    "6. **Multiplication Table**\n",
    "\n",
    "      Create a Python program that generates and prints a multiplication table for a given number 'n'. The table should include values from 1 to 10.\n",
    "\n",
    "For example, if `n = 5`, the output should be:\n",
    "\n",
    "    ```\n",
    "    5 x 1 = 5\n",
    "    5 x 2 = 10\n",
    "    5 x 3 = 15\n",
    "    5 x 4 = 20\n",
    "    5 x 5 = 25\n",
    "    5 x 6 = 30\n",
    "    5 x 7 = 35\n",
    "    5 x 8 = 40\n",
    "    5 x 9 = 45\n",
    "    5 x 10 = 50\n",
    "    ```"
   ]
  },
  {
   "cell_type": "code",
   "execution_count": 32,
   "id": "75bd9834",
   "metadata": {},
   "outputs": [
    {
     "name": "stdout",
     "output_type": "stream",
     "text": [
      "Enter a num:: 5\n",
      "5 * 1 = 5\n",
      "5 * 2 = 10\n",
      "5 * 3 = 15\n",
      "5 * 4 = 20\n",
      "5 * 5 = 25\n",
      "5 * 6 = 30\n",
      "5 * 7 = 35\n",
      "5 * 8 = 40\n",
      "5 * 9 = 45\n",
      "5 * 10 = 50\n"
     ]
    }
   ],
   "source": [
    "n = int(input('Enter a num:: '))\n",
    "\n",
    "for i in 'n':\n",
    "    for j in range(1,11):\n",
    "        print(f'{n} * {j} = {n * j}')\n",
    "    "
   ]
  },
  {
   "cell_type": "markdown",
   "id": "7dad150f",
   "metadata": {},
   "source": [
    "7.**Star Patterns**\n",
    "\n",
    "Write a Python program that takes an integer 'n' as input and prints the following patterns:\n",
    "\n",
    "a) Right-angled triangle pattern:\n",
    "\n",
    "    *\n",
    "    **\n",
    "    ***\n",
    "    ****\n",
    "    *****\n",
    "b) Inverted right-angled triangle pattern:\n",
    "\n",
    "    *****\n",
    "    ****\n",
    "    ***\n",
    "    **\n",
    "    *"
   ]
  },
  {
   "cell_type": "markdown",
   "id": "c67e0297",
   "metadata": {},
   "source": [
    "###### a"
   ]
  },
  {
   "cell_type": "code",
   "execution_count": 37,
   "id": "fc118142",
   "metadata": {},
   "outputs": [
    {
     "name": "stdout",
     "output_type": "stream",
     "text": [
      "enter the num:: 5\n",
      "     \n",
      "*     \n",
      "* *    \n",
      "* * *   \n",
      "* * * *  \n",
      "* * * * * \n"
     ]
    }
   ],
   "source": [
    "n  = int(input('enter the num:: '))\n",
    "\n",
    "for i in range(n+1):\n",
    "    print(\"* \" * i + \" \" * (n-i))"
   ]
  },
  {
   "cell_type": "markdown",
   "id": "9a5cb81e",
   "metadata": {},
   "source": [
    "###### b"
   ]
  },
  {
   "cell_type": "code",
   "execution_count": 39,
   "id": "687d929e",
   "metadata": {},
   "outputs": [
    {
     "name": "stdout",
     "output_type": "stream",
     "text": [
      "enter the num:: 5\n",
      "* * * * * \n",
      "* * * *  \n",
      "* * *   \n",
      "* *    \n",
      "*     \n",
      "     \n"
     ]
    }
   ],
   "source": [
    "n  = int(input('enter the num:: '))\n",
    "\n",
    "for i in range(n+1):\n",
    "    print('* ' * (n-i) + ' ' * i)"
   ]
  },
  {
   "cell_type": "markdown",
   "id": "a12df8ff",
   "metadata": {},
   "source": [
    "8. **Number Pyramid**\n",
    "\n",
    "    Create a Python program that takes an integer 'n' as input and prints a number pyramid as shown below:\n",
    "\n",
    "    For `n = 4`, the output should be:\n",
    "\n",
    "    ```\n",
    "       1\n",
    "      212\n",
    "     32123\n",
    "    4321234\n",
    "    ```\n",
    "\n"
   ]
  },
  {
   "cell_type": "code",
   "execution_count": 54,
   "id": "306c6cfb",
   "metadata": {},
   "outputs": [
    {
     "name": "stdout",
     "output_type": "stream",
     "text": [
      "enter the num :: 4\n",
      "1 \n",
      "1 2 \n",
      "1 2 3 \n",
      "1 2 3 4 \n"
     ]
    }
   ],
   "source": [
    "n = int(input('enter the num :: '))\n",
    "\n",
    "for i in range(n):\n",
    "    for j in range(i+1):\n",
    "        print(j+1,end = ' ')\n",
    "    print()\n",
    "    \n"
   ]
  },
  {
   "cell_type": "code",
   "execution_count": null,
   "id": "c4f04af7",
   "metadata": {},
   "outputs": [],
   "source": []
  }
 ],
 "metadata": {
  "kernelspec": {
   "display_name": "Python 3 (ipykernel)",
   "language": "python",
   "name": "python3"
  },
  "language_info": {
   "codemirror_mode": {
    "name": "ipython",
    "version": 3
   },
   "file_extension": ".py",
   "mimetype": "text/x-python",
   "name": "python",
   "nbconvert_exporter": "python",
   "pygments_lexer": "ipython3",
   "version": "3.11.5"
  }
 },
 "nbformat": 4,
 "nbformat_minor": 5
}
