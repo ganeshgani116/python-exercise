{
 "cells": [
  {
   "cell_type": "markdown",
   "id": "89ffda57",
   "metadata": {},
   "source": [
    "1. Write a function called \"add_numbers\" that takes two integers as input and returns their sum.\n",
    "\n",
    "2. Write a function called \"multiply_numbers\" that takes two integers as input and returns their product.\n",
    "\n",
    "3. Write a function called \"calculate_average\" that takes a list of numbers as input and returns the average of thosenumbers.\n",
    "\n",
    "4. Write a function called \"is_even\" that takes an integer as input and returns True if the number is even, and False otherwise.\n",
    "\n",
    "5. Write a function called \"reverse_string\" that takes a string as input and returns the reverse of that string.\n",
    "\n",
    "6. Write a function called \"count_vowels\" that takes a string as input and returns the number of vowels (a, e, i, o, u) in that string.\n",
    "\n",
    "7. Write a function called \"find_max\" that takes a list of numbers as input and returns the maximum value in that list.\n",
    "\n",
    "8. Write a function called \"find_min\" that takes a list of numbers as input and returns the minimum value in that list."
   ]
  },
  {
   "cell_type": "markdown",
   "id": "884e2874",
   "metadata": {},
   "source": [
    "###### 1"
   ]
  },
  {
   "cell_type": "code",
   "execution_count": 1,
   "id": "b4e8cf0d",
   "metadata": {},
   "outputs": [],
   "source": [
    "def add_numbers(a,b):\n",
    "    return a + b"
   ]
  },
  {
   "cell_type": "code",
   "execution_count": 2,
   "id": "aa2aad03",
   "metadata": {},
   "outputs": [
    {
     "name": "stdout",
     "output_type": "stream",
     "text": [
      "enter the number:: 5\n",
      "enter the number:: 4\n"
     ]
    },
    {
     "data": {
      "text/plain": [
       "9"
      ]
     },
     "execution_count": 2,
     "metadata": {},
     "output_type": "execute_result"
    }
   ],
   "source": [
    "add_numbers(a = int(input('enter the number:: ')),b = int(input('enter the number:: ')))"
   ]
  },
  {
   "cell_type": "markdown",
   "id": "e8300377",
   "metadata": {},
   "source": [
    "###### 2"
   ]
  },
  {
   "cell_type": "code",
   "execution_count": 3,
   "id": "2a61da56",
   "metadata": {},
   "outputs": [],
   "source": [
    "def multiply_numbers(a,b):\n",
    "    return a * b"
   ]
  },
  {
   "cell_type": "code",
   "execution_count": 4,
   "id": "e8e24920",
   "metadata": {},
   "outputs": [
    {
     "name": "stdout",
     "output_type": "stream",
     "text": [
      "enter the number:: 5\n",
      "enter the number:: 4\n"
     ]
    },
    {
     "data": {
      "text/plain": [
       "20"
      ]
     },
     "execution_count": 4,
     "metadata": {},
     "output_type": "execute_result"
    }
   ],
   "source": [
    "multiply_numbers(a = int(input('enter the number:: ')),b = int(input('enter the number:: ')))"
   ]
  },
  {
   "cell_type": "markdown",
   "id": "5eef8510",
   "metadata": {},
   "source": [
    "###### 3"
   ]
  },
  {
   "cell_type": "code",
   "execution_count": 5,
   "id": "75c46972",
   "metadata": {},
   "outputs": [],
   "source": [
    "def calculate_average(a,b,c):\n",
    "    return a+b+c/3"
   ]
  },
  {
   "cell_type": "code",
   "execution_count": 6,
   "id": "3384cb75",
   "metadata": {},
   "outputs": [
    {
     "data": {
      "text/plain": [
       "6.666666666666667"
      ]
     },
     "execution_count": 6,
     "metadata": {},
     "output_type": "execute_result"
    }
   ],
   "source": [
    "calculate_average(1,4,5)"
   ]
  },
  {
   "cell_type": "markdown",
   "id": "9184450c",
   "metadata": {},
   "source": [
    "###### 4"
   ]
  },
  {
   "cell_type": "code",
   "execution_count": 8,
   "id": "26bd9a05",
   "metadata": {},
   "outputs": [
    {
     "name": "stdout",
     "output_type": "stream",
     "text": [
      "enter the number:: 4\n",
      "True\n"
     ]
    }
   ],
   "source": [
    "def is_even(num):\n",
    "    if num % 2 == 0:\n",
    "        print(\"True\")\n",
    "    else:\n",
    "        print('False')\n",
    "\n",
    "is_even(num = int(input('enter the number:: ')))"
   ]
  },
  {
   "cell_type": "markdown",
   "id": "217a77a8",
   "metadata": {},
   "source": [
    "###### 5"
   ]
  },
  {
   "cell_type": "markdown",
   "id": "b8ca16c6",
   "metadata": {},
   "source": [
    "* Write a function called \"reverse_string\" that takes a string as input and returns the reverse of that string."
   ]
  },
  {
   "cell_type": "code",
   "execution_count": 9,
   "id": "b0259fab",
   "metadata": {},
   "outputs": [],
   "source": [
    "def reverse_string(name):\n",
    "    return name[::-1]"
   ]
  },
  {
   "cell_type": "code",
   "execution_count": 11,
   "id": "3888c329",
   "metadata": {},
   "outputs": [
    {
     "name": "stdout",
     "output_type": "stream",
     "text": [
      "enter the name:: sai\n"
     ]
    },
    {
     "data": {
      "text/plain": [
       "'ias'"
      ]
     },
     "execution_count": 11,
     "metadata": {},
     "output_type": "execute_result"
    }
   ],
   "source": [
    "reverse_string(name = input('enter the name:: '))"
   ]
  },
  {
   "cell_type": "markdown",
   "id": "9bab05d3",
   "metadata": {},
   "source": [
    "###### 6"
   ]
  },
  {
   "cell_type": "markdown",
   "id": "a8a5991f",
   "metadata": {},
   "source": [
    "* Write a function called \"count_vowels\" that takes a string as input and returns the number of vowels (a, e, i, o, u) in that string."
   ]
  },
  {
   "cell_type": "code",
   "execution_count": 12,
   "id": "9e3b3a59",
   "metadata": {},
   "outputs": [],
   "source": [
    "def count_vowels(name):\n",
    "    print(name.count('a'))\n",
    "    print(name.count('e'))\n",
    "    print(name.count('i'))\n",
    "    print(name.count('o'))\n",
    "    print(name.count('u'))"
   ]
  },
  {
   "cell_type": "code",
   "execution_count": 13,
   "id": "23a353db",
   "metadata": {},
   "outputs": [
    {
     "name": "stdout",
     "output_type": "stream",
     "text": [
      "enter the name:: saikiran\n",
      "2\n",
      "0\n",
      "2\n",
      "0\n",
      "0\n"
     ]
    }
   ],
   "source": [
    "count_vowels(name = input('enter the name:: '))"
   ]
  },
  {
   "cell_type": "markdown",
   "id": "869c3e15",
   "metadata": {},
   "source": [
    "###### 7"
   ]
  },
  {
   "cell_type": "markdown",
   "id": "d8923d26",
   "metadata": {},
   "source": [
    "* Write a function called \"find_max\" that takes a list of numbers as input and returns the maximum value in that list."
   ]
  },
  {
   "cell_type": "code",
   "execution_count": 14,
   "id": "170b5029",
   "metadata": {},
   "outputs": [],
   "source": [
    "list1 = [1,14,5,7,6,89,56,23]"
   ]
  },
  {
   "cell_type": "code",
   "execution_count": 15,
   "id": "04b85cbf",
   "metadata": {},
   "outputs": [
    {
     "data": {
      "text/plain": [
       "89"
      ]
     },
     "execution_count": 15,
     "metadata": {},
     "output_type": "execute_result"
    }
   ],
   "source": [
    "max(list1)"
   ]
  },
  {
   "cell_type": "code",
   "execution_count": 16,
   "id": "91c3a4fc",
   "metadata": {},
   "outputs": [
    {
     "data": {
      "text/plain": [
       "1"
      ]
     },
     "execution_count": 16,
     "metadata": {},
     "output_type": "execute_result"
    }
   ],
   "source": [
    "min(list1)"
   ]
  },
  {
   "cell_type": "code",
   "execution_count": 17,
   "id": "4b3d47a6",
   "metadata": {},
   "outputs": [],
   "source": [
    "def find_max(list1):\n",
    "    return max(list1)"
   ]
  },
  {
   "cell_type": "code",
   "execution_count": 19,
   "id": "d730899d",
   "metadata": {},
   "outputs": [
    {
     "data": {
      "text/plain": [
       "89"
      ]
     },
     "execution_count": 19,
     "metadata": {},
     "output_type": "execute_result"
    }
   ],
   "source": [
    "find_max([1,2,25,44,77,89,56,47])"
   ]
  },
  {
   "cell_type": "markdown",
   "id": "7b1b6b81",
   "metadata": {},
   "source": [
    "###### 8"
   ]
  },
  {
   "cell_type": "markdown",
   "id": "f63b7e24",
   "metadata": {},
   "source": [
    "* Write a function called \"find_min\" that takes a list of numbers as input and returns the minimum value in that list.\n"
   ]
  },
  {
   "cell_type": "code",
   "execution_count": 21,
   "id": "28e366d6",
   "metadata": {},
   "outputs": [],
   "source": [
    "def find_min(list1):\n",
    "    return min(list1)"
   ]
  },
  {
   "cell_type": "code",
   "execution_count": 22,
   "id": "6d36cef0",
   "metadata": {},
   "outputs": [
    {
     "data": {
      "text/plain": [
       "2"
      ]
     },
     "execution_count": 22,
     "metadata": {},
     "output_type": "execute_result"
    }
   ],
   "source": [
    "find_min([25,7,2,3,4,56,89,741])"
   ]
  },
  {
   "cell_type": "code",
   "execution_count": null,
   "id": "501cb208",
   "metadata": {},
   "outputs": [],
   "source": []
  }
 ],
 "metadata": {
  "kernelspec": {
   "display_name": "Python 3 (ipykernel)",
   "language": "python",
   "name": "python3"
  },
  "language_info": {
   "codemirror_mode": {
    "name": "ipython",
    "version": 3
   },
   "file_extension": ".py",
   "mimetype": "text/x-python",
   "name": "python",
   "nbconvert_exporter": "python",
   "pygments_lexer": "ipython3",
   "version": "3.11.5"
  }
 },
 "nbformat": 4,
 "nbformat_minor": 5
}
